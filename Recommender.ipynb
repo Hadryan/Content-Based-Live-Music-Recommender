{
 "cells": [
  {
   "cell_type": "code",
   "execution_count": 1,
   "metadata": {},
   "outputs": [],
   "source": [
    "import functions as func"
   ]
  },
  {
   "cell_type": "code",
   "execution_count": null,
   "metadata": {},
   "outputs": [],
   "source": [
    "# Assign to cid and secret your spotify client ID and client secret respectively\n",
    "\n",
    "cid = ''\n",
    "secret = ''"
   ]
  },
  {
   "cell_type": "code",
   "execution_count": 2,
   "metadata": {},
   "outputs": [
    {
     "name": "stdout",
     "output_type": "stream",
     "text": [
      "Enter the city you live in: New York\n",
      "Enter an artist you like: Pinegrove\n",
      "Enter an artist you like: Eyehategod\n",
      "Enter an artist you like: Ela Minus\n",
      "['Old Friends', 'The Alarmist', 'Dotted Line']\n",
      "[youtube] pAtGGZjVRdo: Downloading webpage\n",
      "[youtube] pAtGGZjVRdo: Downloading video info webpage\n",
      "[download] Destination: Pinegrove - 'Old Friends' (Official Audio)-pAtGGZjVRdo.webm\n",
      "[download] 100% of 3.15MiB in 00:0016MiB/s ETA 00:003\n",
      "[ffmpeg] Destination: Pinegrove - 'Old Friends' (Official Audio)-pAtGGZjVRdo.mp3\n",
      "Deleting original file Pinegrove - 'Old Friends' (Official Audio)-pAtGGZjVRdo.webm (pass -k to keep)\n"
     ]
    },
    {
     "name": "stderr",
     "output_type": "stream",
     "text": [
      "/opt/anaconda3/envs/metis/lib/python3.7/site-packages/librosa/core/audio.py:161: UserWarning: PySoundFile failed. Trying audioread instead.\n",
      "  warnings.warn('PySoundFile failed. Trying audioread instead.')\n"
     ]
    },
    {
     "name": "stdout",
     "output_type": "stream",
     "text": [
      "[youtube] 62dzTaKGU_s: Downloading webpage\n",
      "[youtube] 62dzTaKGU_s: Downloading video info webpage\n",
      "[download] Destination: Pinegrove 'The Alarmist' (acoustic)-62dzTaKGU_s.webm\n",
      "[download] 100% of 3.99MiB in 00:0008MiB/s ETA 00:005\n",
      "[ffmpeg] Destination: Pinegrove 'The Alarmist' (acoustic)-62dzTaKGU_s.mp3\n",
      "Deleting original file Pinegrove 'The Alarmist' (acoustic)-62dzTaKGU_s.webm (pass -k to keep)\n"
     ]
    },
    {
     "name": "stderr",
     "output_type": "stream",
     "text": [
      "/opt/anaconda3/envs/metis/lib/python3.7/site-packages/librosa/core/audio.py:161: UserWarning: PySoundFile failed. Trying audioread instead.\n",
      "  warnings.warn('PySoundFile failed. Trying audioread instead.')\n"
     ]
    },
    {
     "name": "stdout",
     "output_type": "stream",
     "text": [
      "[youtube] uhblTs9Z0RE: Downloading webpage\n",
      "[youtube] uhblTs9Z0RE: Downloading video info webpage\n",
      "[download] Destination: Dotted Line-uhblTs9Z0RE.webm\n",
      "[download] 100% of 4.23MiB in 00:0079MiB/s ETA 00:006\n",
      "[ffmpeg] Destination: Dotted Line-uhblTs9Z0RE.mp3\n",
      "Deleting original file Dotted Line-uhblTs9Z0RE.webm (pass -k to keep)\n"
     ]
    },
    {
     "name": "stderr",
     "output_type": "stream",
     "text": [
      "/opt/anaconda3/envs/metis/lib/python3.7/site-packages/librosa/core/audio.py:161: UserWarning: PySoundFile failed. Trying audioread instead.\n",
      "  warnings.warn('PySoundFile failed. Trying audioread instead.')\n"
     ]
    },
    {
     "name": "stdout",
     "output_type": "stream",
     "text": [
      "['New Orleans Is the New Vietnam', 'White Nigger - remastered 2007', 'Sister Fucker (Pt. I) - remastered 2007']\n",
      "[youtube] poQgKvVOZGY: Downloading webpage\n",
      "[youtube] poQgKvVOZGY: Downloading video info webpage\n",
      "[download] Destination: EyeHateGod - New Orleans Is The New Vietnam-poQgKvVOZGY.webm\n",
      "[download] 100% of 3.67MiB in 00:0012MiB/s ETA 00:006\n",
      "[ffmpeg] Destination: EyeHateGod - New Orleans Is The New Vietnam-poQgKvVOZGY.mp3\n",
      "Deleting original file EyeHateGod - New Orleans Is The New Vietnam-poQgKvVOZGY.webm (pass -k to keep)\n"
     ]
    },
    {
     "name": "stderr",
     "output_type": "stream",
     "text": [
      "/opt/anaconda3/envs/metis/lib/python3.7/site-packages/librosa/core/audio.py:161: UserWarning: PySoundFile failed. Trying audioread instead.\n",
      "  warnings.warn('PySoundFile failed. Trying audioread instead.')\n"
     ]
    },
    {
     "name": "stdout",
     "output_type": "stream",
     "text": [
      "[youtube] 0CJdk-UZjAE: Downloading webpage\n",
      "[youtube] 0CJdk-UZjAE: Downloading video info webpage\n",
      "[download] Destination: eyehategod - White Nigger (Album Track)-0CJdk-UZjAE.webm\n",
      "[download] 100% of 3.69MiB in 00:0054MiB/s ETA 00:006\n",
      "[ffmpeg] Destination: eyehategod - White Nigger (Album Track)-0CJdk-UZjAE.mp3\n",
      "Deleting original file eyehategod - White Nigger (Album Track)-0CJdk-UZjAE.webm (pass -k to keep)\n"
     ]
    },
    {
     "name": "stderr",
     "output_type": "stream",
     "text": [
      "/opt/anaconda3/envs/metis/lib/python3.7/site-packages/librosa/core/audio.py:161: UserWarning: PySoundFile failed. Trying audioread instead.\n",
      "  warnings.warn('PySoundFile failed. Trying audioread instead.')\n"
     ]
    },
    {
     "name": "stdout",
     "output_type": "stream",
     "text": [
      "[youtube] FUg5Im8jOWo: Downloading webpage\n",
      "[youtube] FUg5Im8jOWo: Downloading video info webpage\n",
      "[download] Destination: eyehategod - Sister Fucker Part 1 (Album Track)-FUg5Im8jOWo.webm\n",
      "[download] 100% of 2.05MiB in 00:0032MiB/s ETA 00:002\n",
      "[ffmpeg] Destination: eyehategod - Sister Fucker Part 1 (Album Track)-FUg5Im8jOWo.mp3\n",
      "Deleting original file eyehategod - Sister Fucker Part 1 (Album Track)-FUg5Im8jOWo.webm (pass -k to keep)\n"
     ]
    },
    {
     "name": "stderr",
     "output_type": "stream",
     "text": [
      "/opt/anaconda3/envs/metis/lib/python3.7/site-packages/librosa/core/audio.py:161: UserWarning: PySoundFile failed. Trying audioread instead.\n",
      "  warnings.warn('PySoundFile failed. Trying audioread instead.')\n"
     ]
    },
    {
     "name": "stdout",
     "output_type": "stream",
     "text": [
      "['SALTA', 'Ceremony', 'Jamaica']\n",
      "[youtube] ReDNPe1qJUU: Downloading webpage\n",
      "[youtube] ReDNPe1qJUU: Downloading video info webpage\n",
      "[download] Destination: MITÚ, ELA MINUS - SALTA (Audio Oficial)-ReDNPe1qJUU.webm\n",
      "[download] 100% of 2.74MiB in 00:0048MiB/s ETA 00:003\n",
      "[ffmpeg] Destination: MITÚ, ELA MINUS - SALTA (Audio Oficial)-ReDNPe1qJUU.mp3\n",
      "Deleting original file MITÚ, ELA MINUS - SALTA (Audio Oficial)-ReDNPe1qJUU.webm (pass -k to keep)\n"
     ]
    },
    {
     "name": "stderr",
     "output_type": "stream",
     "text": [
      "/opt/anaconda3/envs/metis/lib/python3.7/site-packages/librosa/core/audio.py:161: UserWarning: PySoundFile failed. Trying audioread instead.\n",
      "  warnings.warn('PySoundFile failed. Trying audioread instead.')\n"
     ]
    },
    {
     "name": "stdout",
     "output_type": "stream",
     "text": [
      "[youtube] 4OaEdXMbFOI: Downloading webpage\n",
      "[youtube] 4OaEdXMbFOI: Downloading video info webpage\n",
      "[download] Destination: ela minus - ceremony-4OaEdXMbFOI.webm\n",
      "[download] 100% of 3.57MiB in 00:0025MiB/s ETA 00:004\n",
      "[ffmpeg] Destination: ela minus - ceremony-4OaEdXMbFOI.mp3\n",
      "Deleting original file ela minus - ceremony-4OaEdXMbFOI.webm (pass -k to keep)\n"
     ]
    },
    {
     "name": "stderr",
     "output_type": "stream",
     "text": [
      "/opt/anaconda3/envs/metis/lib/python3.7/site-packages/librosa/core/audio.py:161: UserWarning: PySoundFile failed. Trying audioread instead.\n",
      "  warnings.warn('PySoundFile failed. Trying audioread instead.')\n"
     ]
    },
    {
     "name": "stdout",
     "output_type": "stream",
     "text": [
      "[youtube] 207hLG0kmSI: Downloading webpage\n",
      "[youtube] 207hLG0kmSI: Downloading video info webpage\n",
      "[download] Destination: ela minus - jamaica-207hLG0kmSI.webm\n",
      "[download] 100% of 3.33MiB in 00:0026MiB/s ETA 00:004\n",
      "[ffmpeg] Destination: ela minus - jamaica-207hLG0kmSI.mp3\n",
      "Deleting original file ela minus - jamaica-207hLG0kmSI.webm (pass -k to keep)\n"
     ]
    },
    {
     "name": "stderr",
     "output_type": "stream",
     "text": [
      "/opt/anaconda3/envs/metis/lib/python3.7/site-packages/librosa/core/audio.py:161: UserWarning: PySoundFile failed. Trying audioread instead.\n",
      "  warnings.warn('PySoundFile failed. Trying audioread instead.')\n"
     ]
    },
    {
     "data": {
      "text/plain": [
       "['Pinegrove  ---------  But Not Like That by Matt Leadbetter',\n",
       " 'Pinegrove  ---------  Amor Furioso by Eduardo Belo',\n",
       " 'Pinegrove  ---------  A Love Like That by Matt Leadbetter',\n",
       " \"Eyehategod  ---------  Dr. Wily's Castle by Bit Brigade\",\n",
       " 'Eyehategod  ---------  Ceremony by Wussy',\n",
       " 'Eyehategod  ---------  Hello Again by Mosey Jones',\n",
       " 'Ela Minus  ---------  Miles by Lorelle Howard',\n",
       " 'Ela Minus  ---------  Perfect Place by Sui Zhen',\n",
       " 'Ela Minus  ---------  Sleepwalking Away by Matt Nakoa']"
      ]
     },
     "execution_count": 2,
     "metadata": {},
     "output_type": "execute_result"
    }
   ],
   "source": [
    "func.simplest_recommender(cid, secret)"
   ]
  },
  {
   "cell_type": "code",
   "execution_count": 3,
   "metadata": {},
   "outputs": [
    {
     "name": "stdout",
     "output_type": "stream",
     "text": [
      "Enter the city you live in: New York\n",
      "Enter an artist you like: Pinegrove\n",
      "Enter an artist you like: Eyehategod\n",
      "Enter an artist you like: Ela Minus\n",
      "['Old Friends', 'The Alarmist', 'Dotted Line']\n",
      "[youtube] pAtGGZjVRdo: Downloading webpage\n",
      "[youtube] pAtGGZjVRdo: Downloading video info webpage\n",
      "[download] Destination: Pinegrove - 'Old Friends' (Official Audio)-pAtGGZjVRdo.webm\n",
      "[download] 100% of 3.15MiB in 00:0082MiB/s ETA 00:004\n",
      "[ffmpeg] Destination: Pinegrove - 'Old Friends' (Official Audio)-pAtGGZjVRdo.mp3\n",
      "Deleting original file Pinegrove - 'Old Friends' (Official Audio)-pAtGGZjVRdo.webm (pass -k to keep)\n"
     ]
    },
    {
     "name": "stderr",
     "output_type": "stream",
     "text": [
      "/opt/anaconda3/envs/metis/lib/python3.7/site-packages/librosa/core/audio.py:161: UserWarning: PySoundFile failed. Trying audioread instead.\n",
      "  warnings.warn('PySoundFile failed. Trying audioread instead.')\n"
     ]
    },
    {
     "name": "stdout",
     "output_type": "stream",
     "text": [
      "[youtube] 62dzTaKGU_s: Downloading webpage\n",
      "[youtube] 62dzTaKGU_s: Downloading video info webpage\n",
      "[download] Destination: Pinegrove 'The Alarmist' (acoustic)-62dzTaKGU_s.webm\n",
      "[download] 100% of 3.99MiB in 00:0044MiB/s ETA 00:0004\n",
      "[ffmpeg] Destination: Pinegrove 'The Alarmist' (acoustic)-62dzTaKGU_s.mp3\n",
      "Deleting original file Pinegrove 'The Alarmist' (acoustic)-62dzTaKGU_s.webm (pass -k to keep)\n"
     ]
    },
    {
     "name": "stderr",
     "output_type": "stream",
     "text": [
      "/opt/anaconda3/envs/metis/lib/python3.7/site-packages/librosa/core/audio.py:161: UserWarning: PySoundFile failed. Trying audioread instead.\n",
      "  warnings.warn('PySoundFile failed. Trying audioread instead.')\n"
     ]
    },
    {
     "name": "stdout",
     "output_type": "stream",
     "text": [
      "[youtube] uhblTs9Z0RE: Downloading webpage\n",
      "[youtube] uhblTs9Z0RE: Downloading video info webpage\n",
      "[download] Destination: Dotted Line-uhblTs9Z0RE.webm\n",
      "[download] 100% of 4.23MiB in 00:0156MiB/s ETA 00:006\n",
      "[ffmpeg] Destination: Dotted Line-uhblTs9Z0RE.mp3\n",
      "Deleting original file Dotted Line-uhblTs9Z0RE.webm (pass -k to keep)\n"
     ]
    },
    {
     "name": "stderr",
     "output_type": "stream",
     "text": [
      "/opt/anaconda3/envs/metis/lib/python3.7/site-packages/librosa/core/audio.py:161: UserWarning: PySoundFile failed. Trying audioread instead.\n",
      "  warnings.warn('PySoundFile failed. Trying audioread instead.')\n"
     ]
    },
    {
     "name": "stdout",
     "output_type": "stream",
     "text": [
      "['New Orleans Is the New Vietnam', 'White Nigger - remastered 2007', 'Sister Fucker (Pt. I) - remastered 2007']\n",
      "[youtube] poQgKvVOZGY: Downloading webpage\n",
      "[youtube] poQgKvVOZGY: Downloading video info webpage\n",
      "[download] Destination: EyeHateGod - New Orleans Is The New Vietnam-poQgKvVOZGY.webm\n",
      "[download] 100% of 3.67MiB in 00:0089MiB/s ETA 00:005\n",
      "[ffmpeg] Destination: EyeHateGod - New Orleans Is The New Vietnam-poQgKvVOZGY.mp3\n",
      "Deleting original file EyeHateGod - New Orleans Is The New Vietnam-poQgKvVOZGY.webm (pass -k to keep)\n"
     ]
    },
    {
     "name": "stderr",
     "output_type": "stream",
     "text": [
      "/opt/anaconda3/envs/metis/lib/python3.7/site-packages/librosa/core/audio.py:161: UserWarning: PySoundFile failed. Trying audioread instead.\n",
      "  warnings.warn('PySoundFile failed. Trying audioread instead.')\n"
     ]
    },
    {
     "name": "stdout",
     "output_type": "stream",
     "text": [
      "[youtube] 0CJdk-UZjAE: Downloading webpage\n",
      "[youtube] 0CJdk-UZjAE: Downloading video info webpage\n",
      "[download] Destination: eyehategod - White Nigger (Album Track)-0CJdk-UZjAE.webm\n",
      "[download] 100% of 3.69MiB in 00:0140MiB/s ETA 00:004\n",
      "[ffmpeg] Destination: eyehategod - White Nigger (Album Track)-0CJdk-UZjAE.mp3\n",
      "Deleting original file eyehategod - White Nigger (Album Track)-0CJdk-UZjAE.webm (pass -k to keep)\n"
     ]
    },
    {
     "name": "stderr",
     "output_type": "stream",
     "text": [
      "/opt/anaconda3/envs/metis/lib/python3.7/site-packages/librosa/core/audio.py:161: UserWarning: PySoundFile failed. Trying audioread instead.\n",
      "  warnings.warn('PySoundFile failed. Trying audioread instead.')\n"
     ]
    },
    {
     "name": "stdout",
     "output_type": "stream",
     "text": [
      "[youtube] FUg5Im8jOWo: Downloading webpage\n",
      "[youtube] FUg5Im8jOWo: Downloading video info webpage\n",
      "[download] Destination: eyehategod - Sister Fucker Part 1 (Album Track)-FUg5Im8jOWo.webm\n",
      "[download] 100% of 2.05MiB in 00:0010MiB/s ETA 00:002\n",
      "[ffmpeg] Destination: eyehategod - Sister Fucker Part 1 (Album Track)-FUg5Im8jOWo.mp3\n",
      "Deleting original file eyehategod - Sister Fucker Part 1 (Album Track)-FUg5Im8jOWo.webm (pass -k to keep)\n"
     ]
    },
    {
     "name": "stderr",
     "output_type": "stream",
     "text": [
      "/opt/anaconda3/envs/metis/lib/python3.7/site-packages/librosa/core/audio.py:161: UserWarning: PySoundFile failed. Trying audioread instead.\n",
      "  warnings.warn('PySoundFile failed. Trying audioread instead.')\n"
     ]
    },
    {
     "name": "stdout",
     "output_type": "stream",
     "text": [
      "['SALTA', 'Ceremony', 'Jamaica']\n",
      "[youtube] ReDNPe1qJUU: Downloading webpage\n",
      "[youtube] ReDNPe1qJUU: Downloading video info webpage\n",
      "[download] Destination: MITÚ, ELA MINUS - SALTA (Audio Oficial)-ReDNPe1qJUU.webm\n",
      "[download] 100% of 2.74MiB in 00:0041MiB/s ETA 00:004\n",
      "[ffmpeg] Destination: MITÚ, ELA MINUS - SALTA (Audio Oficial)-ReDNPe1qJUU.mp3\n",
      "Deleting original file MITÚ, ELA MINUS - SALTA (Audio Oficial)-ReDNPe1qJUU.webm (pass -k to keep)\n"
     ]
    },
    {
     "name": "stderr",
     "output_type": "stream",
     "text": [
      "/opt/anaconda3/envs/metis/lib/python3.7/site-packages/librosa/core/audio.py:161: UserWarning: PySoundFile failed. Trying audioread instead.\n",
      "  warnings.warn('PySoundFile failed. Trying audioread instead.')\n"
     ]
    },
    {
     "name": "stdout",
     "output_type": "stream",
     "text": [
      "[youtube] 4OaEdXMbFOI: Downloading webpage\n",
      "[youtube] 4OaEdXMbFOI: Downloading video info webpage\n",
      "[download] Destination: ela minus - ceremony-4OaEdXMbFOI.webm\n",
      "[download] 100% of 3.57MiB in 00:0117MiB/s ETA 00:004\n",
      "[ffmpeg] Destination: ela minus - ceremony-4OaEdXMbFOI.mp3\n",
      "Deleting original file ela minus - ceremony-4OaEdXMbFOI.webm (pass -k to keep)\n"
     ]
    },
    {
     "name": "stderr",
     "output_type": "stream",
     "text": [
      "/opt/anaconda3/envs/metis/lib/python3.7/site-packages/librosa/core/audio.py:161: UserWarning: PySoundFile failed. Trying audioread instead.\n",
      "  warnings.warn('PySoundFile failed. Trying audioread instead.')\n"
     ]
    },
    {
     "name": "stdout",
     "output_type": "stream",
     "text": [
      "[youtube] 207hLG0kmSI: Downloading webpage\n",
      "[youtube] 207hLG0kmSI: Downloading video info webpage\n",
      "[download] Destination: ela minus - jamaica-207hLG0kmSI.webm\n",
      "[download] 100% of 3.33MiB in 00:0034MiB/s ETA 00:005\n",
      "[ffmpeg] Destination: ela minus - jamaica-207hLG0kmSI.mp3\n",
      "Deleting original file ela minus - jamaica-207hLG0kmSI.webm (pass -k to keep)\n"
     ]
    },
    {
     "name": "stderr",
     "output_type": "stream",
     "text": [
      "/opt/anaconda3/envs/metis/lib/python3.7/site-packages/librosa/core/audio.py:161: UserWarning: PySoundFile failed. Trying audioread instead.\n",
      "  warnings.warn('PySoundFile failed. Trying audioread instead.')\n"
     ]
    },
    {
     "data": {
      "text/plain": [
       "['Pinegrove  ---------  A Love Like That by Matt Leadbetter',\n",
       " 'Ela Minus  ---------  Perfect Place by Sui Zhen',\n",
       " 'Pinegrove  ---------  In Through the Dark by Bryan Elijah Smith',\n",
       " 'Pinegrove  ---------  Amor Furioso by Eduardo Belo',\n",
       " 'Ela Minus  ---------  This Love by Bobby Oroza',\n",
       " 'Ela Minus  ---------  One Night Stand by Banoffee',\n",
       " \"Eyehategod  ---------  Dr. Wily's Castle by Bit Brigade\",\n",
       " 'Eyehategod  ---------  Ceremony by Wussy',\n",
       " 'Eyehategod  ---------  Hello Again by Mosey Jones']"
      ]
     },
     "execution_count": 3,
     "metadata": {},
     "output_type": "execute_result"
    }
   ],
   "source": [
    "func.recommender_2(cid, secret)"
   ]
  },
  {
   "cell_type": "code",
   "execution_count": null,
   "metadata": {},
   "outputs": [],
   "source": []
  }
 ],
 "metadata": {
  "kernelspec": {
   "display_name": "Python [conda env:metis] *",
   "language": "python",
   "name": "conda-env-metis-py"
  },
  "language_info": {
   "codemirror_mode": {
    "name": "ipython",
    "version": 3
   },
   "file_extension": ".py",
   "mimetype": "text/x-python",
   "name": "python",
   "nbconvert_exporter": "python",
   "pygments_lexer": "ipython3",
   "version": "3.7.4"
  }
 },
 "nbformat": 4,
 "nbformat_minor": 2
}
