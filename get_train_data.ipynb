{
 "cells": [
  {
   "cell_type": "code",
   "execution_count": 1,
   "metadata": {},
   "outputs": [],
   "source": [
    "import functions as func"
   ]
  },
  {
   "cell_type": "code",
   "execution_count": 3,
   "metadata": {},
   "outputs": [],
   "source": [
    "artists = func.get_pitchfork_artists()"
   ]
  },
  {
   "cell_type": "code",
   "execution_count": 5,
   "metadata": {},
   "outputs": [],
   "source": [
    "cid = ''\n",
    "secret = ''"
   ]
  },
  {
   "cell_type": "code",
   "execution_count": null,
   "metadata": {},
   "outputs": [
    {
     "name": "stdout",
     "output_type": "stream",
     "text": [
      "['So Sick Stories', 'So It Goes', 'Snow Beach', 'Canal', 'Wikispeaks', '100', 'Piece of Shit', 'Puerto Rican Judo', '*', 'Eat']\n",
      "[youtube] SpBCXWKx4Tg: Downloading webpage\n",
      "[youtube] SpBCXWKx4Tg: Downloading video info webpage\n",
      "[youtube] SpBCXWKx4Tg: Downloading js player vfl6MUxK7\n",
      "[youtube] SpBCXWKx4Tg: Downloading js player vfl6MUxK7\n",
      "[download] Destination: RATKING feat. King Krule - So Sick Stories-SpBCXWKx4Tg.webm\n",
      "[download] 100% of 4.61MiB in 00:0103MiB/s ETA 00:007\n",
      "[ffmpeg] Destination: RATKING feat. King Krule - So Sick Stories-SpBCXWKx4Tg.mp3\n",
      "Deleting original file RATKING feat. King Krule - So Sick Stories-SpBCXWKx4Tg.webm (pass -k to keep)\n"
     ]
    },
    {
     "name": "stderr",
     "output_type": "stream",
     "text": [
      "/opt/anaconda3/envs/metis/lib/python3.7/site-packages/librosa/core/audio.py:161: UserWarning: PySoundFile failed. Trying audioread instead.\n",
      "  warnings.warn('PySoundFile failed. Trying audioread instead.')\n"
     ]
    },
    {
     "name": "stdout",
     "output_type": "stream",
     "text": [
      "[youtube] Yzdb4gEaF6E: Downloading webpage\n",
      "[youtube] Yzdb4gEaF6E: Downloading video info webpage\n",
      "[download] Destination: RATKING - So It Goes-Yzdb4gEaF6E.webm\n",
      "[download] 100% of 5.24MiB in 00:0082MiB/s ETA 00:006\n",
      "[ffmpeg] Destination: RATKING - So It Goes-Yzdb4gEaF6E.mp3\n",
      "Deleting original file RATKING - So It Goes-Yzdb4gEaF6E.webm (pass -k to keep)\n"
     ]
    },
    {
     "name": "stderr",
     "output_type": "stream",
     "text": [
      "/opt/anaconda3/envs/metis/lib/python3.7/site-packages/librosa/core/audio.py:161: UserWarning: PySoundFile failed. Trying audioread instead.\n",
      "  warnings.warn('PySoundFile failed. Trying audioread instead.')\n"
     ]
    },
    {
     "name": "stdout",
     "output_type": "stream",
     "text": [
      "[youtube] ihextXXsLew: Downloading webpage\n",
      "[youtube] ihextXXsLew: Downloading video info webpage\n",
      "[download] Destination: RATKING - Snow Beach-ihextXXsLew.webm\n",
      "[download] 100% of 5.66MiB in 00:0299MiB/s ETA 00:008\n",
      "[ffmpeg] Destination: RATKING - Snow Beach-ihextXXsLew.mp3\n",
      "Deleting original file RATKING - Snow Beach-ihextXXsLew.webm (pass -k to keep)\n"
     ]
    },
    {
     "name": "stderr",
     "output_type": "stream",
     "text": [
      "/opt/anaconda3/envs/metis/lib/python3.7/site-packages/librosa/core/audio.py:161: UserWarning: PySoundFile failed. Trying audioread instead.\n",
      "  warnings.warn('PySoundFile failed. Trying audioread instead.')\n"
     ]
    },
    {
     "name": "stdout",
     "output_type": "stream",
     "text": [
      "[youtube] uAWzCmkJqpc: Downloading webpage\n",
      "[youtube] uAWzCmkJqpc: Downloading video info webpage\n",
      "[download] Destination: RATKING - Canal-uAWzCmkJqpc.webm\n",
      "[download] 100% of 3.19MiB in 00:0128MiB/s ETA 00:003\n",
      "[ffmpeg] Destination: RATKING - Canal-uAWzCmkJqpc.mp3\n",
      "Deleting original file RATKING - Canal-uAWzCmkJqpc.webm (pass -k to keep)\n"
     ]
    },
    {
     "name": "stderr",
     "output_type": "stream",
     "text": [
      "/opt/anaconda3/envs/metis/lib/python3.7/site-packages/librosa/core/audio.py:161: UserWarning: PySoundFile failed. Trying audioread instead.\n",
      "  warnings.warn('PySoundFile failed. Trying audioread instead.')\n"
     ]
    },
    {
     "name": "stdout",
     "output_type": "stream",
     "text": [
      "[youtube] j9QdEfruq_0: Downloading webpage\n",
      "[youtube] j9QdEfruq_0: Downloading video info webpage\n",
      "[download] Destination: Wiki - 'Wikispeaks'-j9QdEfruq_0.webm\n",
      "[download] 100% of 5.91MiB in 00:0045MiB/s ETA 00:000\n",
      "[ffmpeg] Destination: Wiki - 'Wikispeaks'-j9QdEfruq_0.mp3\n",
      "Deleting original file Wiki - 'Wikispeaks'-j9QdEfruq_0.webm (pass -k to keep)\n"
     ]
    },
    {
     "name": "stderr",
     "output_type": "stream",
     "text": [
      "/opt/anaconda3/envs/metis/lib/python3.7/site-packages/librosa/core/audio.py:161: UserWarning: PySoundFile failed. Trying audioread instead.\n",
      "  warnings.warn('PySoundFile failed. Trying audioread instead.')\n"
     ]
    },
    {
     "name": "stdout",
     "output_type": "stream",
     "text": [
      "[youtube] WN4z48r5axw: Downloading webpage\n",
      "[youtube] WN4z48r5axw: Downloading video info webpage\n",
      "[download] Destination: RATKING - 100-WN4z48r5axw.m4a\n",
      "[download] 100% of 2.80MiB in 00:0067MiB/s ETA 00:003\n",
      "[ffmpeg] Correcting container in \"RATKING - 100-WN4z48r5axw.m4a\"\n",
      "[ffmpeg] Destination: RATKING - 100-WN4z48r5axw.mp3\n",
      "Deleting original file RATKING - 100-WN4z48r5axw.m4a (pass -k to keep)\n"
     ]
    },
    {
     "name": "stderr",
     "output_type": "stream",
     "text": [
      "/opt/anaconda3/envs/metis/lib/python3.7/site-packages/librosa/core/audio.py:161: UserWarning: PySoundFile failed. Trying audioread instead.\n",
      "  warnings.warn('PySoundFile failed. Trying audioread instead.')\n"
     ]
    },
    {
     "name": "stdout",
     "output_type": "stream",
     "text": [
      "[youtube] 9U9Yu9ZAuHU: Downloading webpage\n",
      "[youtube] 9U9Yu9ZAuHU: Downloading video info webpage\n",
      "[download] Destination: RATKING - PIECE OF SHIT (A FILM BY ARI MARCOPOULOS)-9U9Yu9ZAuHU.m4a\n",
      "[download] 100% of 4.78MiB in 00:0043MiB/s ETA 00:007\n",
      "[ffmpeg] Correcting container in \"RATKING - PIECE OF SHIT (A FILM BY ARI MARCOPOULOS)-9U9Yu9ZAuHU.m4a\"\n",
      "[ffmpeg] Destination: RATKING - PIECE OF SHIT (A FILM BY ARI MARCOPOULOS)-9U9Yu9ZAuHU.mp3\n",
      "Deleting original file RATKING - PIECE OF SHIT (A FILM BY ARI MARCOPOULOS)-9U9Yu9ZAuHU.m4a (pass -k to keep)\n"
     ]
    },
    {
     "name": "stderr",
     "output_type": "stream",
     "text": [
      "/opt/anaconda3/envs/metis/lib/python3.7/site-packages/librosa/core/audio.py:161: UserWarning: PySoundFile failed. Trying audioread instead.\n",
      "  warnings.warn('PySoundFile failed. Trying audioread instead.')\n"
     ]
    },
    {
     "name": "stdout",
     "output_type": "stream",
     "text": [
      "[youtube] 3cruR8Mro5Q: Downloading webpage\n",
      "[youtube] 3cruR8Mro5Q: Downloading video info webpage\n",
      "[download] Destination: RATKING (feat. Wavy Spice) - Puerto Rican Judo-3cruR8Mro5Q.webm\n",
      "[download] 100% of 4.09MiB in 00:0002MiB/s ETA 00:004\n",
      "[ffmpeg] Destination: RATKING (feat. Wavy Spice) - Puerto Rican Judo-3cruR8Mro5Q.mp3\n",
      "Deleting original file RATKING (feat. Wavy Spice) - Puerto Rican Judo-3cruR8Mro5Q.webm (pass -k to keep)\n"
     ]
    },
    {
     "name": "stderr",
     "output_type": "stream",
     "text": [
      "/opt/anaconda3/envs/metis/lib/python3.7/site-packages/librosa/core/audio.py:161: UserWarning: PySoundFile failed. Trying audioread instead.\n",
      "  warnings.warn('PySoundFile failed. Trying audioread instead.')\n"
     ]
    },
    {
     "name": "stdout",
     "output_type": "stream",
     "text": [
      "[youtube] Yzdb4gEaF6E: Downloading webpage\n",
      "[youtube] Yzdb4gEaF6E: Downloading video info webpage\n",
      "[download] Destination: RATKING - So It Goes-Yzdb4gEaF6E.webm\n",
      "[download] 100% of 5.24MiB in 00:0017MiB/s ETA 00:006\n",
      "[ffmpeg] Destination: RATKING - So It Goes-Yzdb4gEaF6E.mp3\n",
      "Deleting original file RATKING - So It Goes-Yzdb4gEaF6E.webm (pass -k to keep)\n"
     ]
    },
    {
     "name": "stderr",
     "output_type": "stream",
     "text": [
      "/opt/anaconda3/envs/metis/lib/python3.7/site-packages/librosa/core/audio.py:161: UserWarning: PySoundFile failed. Trying audioread instead.\n",
      "  warnings.warn('PySoundFile failed. Trying audioread instead.')\n"
     ]
    },
    {
     "name": "stdout",
     "output_type": "stream",
     "text": [
      "[youtube] mu1_deb3FgU: Downloading webpage\n",
      "[youtube] mu1_deb3FgU: Downloading video info webpage\n",
      "[download] Destination: RATKING - Eat-mu1_deb3FgU.webm\n",
      "[download] 100% of 3.51MiB in 00:0089MiB/s ETA 00:006\n",
      "[ffmpeg] Destination: RATKING - Eat-mu1_deb3FgU.mp3\n",
      "Deleting original file RATKING - Eat-mu1_deb3FgU.webm (pass -k to keep)\n"
     ]
    },
    {
     "name": "stderr",
     "output_type": "stream",
     "text": [
      "/opt/anaconda3/envs/metis/lib/python3.7/site-packages/librosa/core/audio.py:161: UserWarning: PySoundFile failed. Trying audioread instead.\n",
      "  warnings.warn('PySoundFile failed. Trying audioread instead.')\n"
     ]
    },
    {
     "name": "stdout",
     "output_type": "stream",
     "text": [
      "['Heavy Pop', 'We Bros', 'L Y F', 'Spitting Blood', 'Dirt', 'Concrete Gold', 'Cave Song', 'Such A Sad Puppy Dog', 'Summas Bliss', '14 Crowns For Me & Your Friends']\n",
      "[youtube] 9qxQZFKIbBw: Downloading webpage\n",
      "[youtube] 9qxQZFKIbBw: Downloading video info webpage\n",
      "[download] Destination: WU LYF - Heavy Pop-9qxQZFKIbBw.webm\n",
      "[download] 100% of 5.07MiB in 00:0113MiB/s ETA 00:006\n",
      "[ffmpeg] Destination: WU LYF - Heavy Pop-9qxQZFKIbBw.mp3\n",
      "Deleting original file WU LYF - Heavy Pop-9qxQZFKIbBw.webm (pass -k to keep)\n"
     ]
    },
    {
     "name": "stderr",
     "output_type": "stream",
     "text": [
      "/opt/anaconda3/envs/metis/lib/python3.7/site-packages/librosa/core/audio.py:161: UserWarning: PySoundFile failed. Trying audioread instead.\n",
      "  warnings.warn('PySoundFile failed. Trying audioread instead.')\n"
     ]
    },
    {
     "name": "stdout",
     "output_type": "stream",
     "text": [
      "[youtube] Ca9rBWTyuU0: Downloading webpage\n",
      "[youtube] Ca9rBWTyuU0: Downloading video info webpage\n",
      "[download] Destination: WU LYF - We Bros-Ca9rBWTyuU0.webm\n",
      "[download] 100% of 4.58MiB in 00:0077MiB/s ETA 00:005\n",
      "[ffmpeg] Destination: WU LYF - We Bros-Ca9rBWTyuU0.mp3\n",
      "Deleting original file WU LYF - We Bros-Ca9rBWTyuU0.webm (pass -k to keep)\n"
     ]
    },
    {
     "name": "stderr",
     "output_type": "stream",
     "text": [
      "/opt/anaconda3/envs/metis/lib/python3.7/site-packages/librosa/core/audio.py:161: UserWarning: PySoundFile failed. Trying audioread instead.\n",
      "  warnings.warn('PySoundFile failed. Trying audioread instead.')\n"
     ]
    },
    {
     "name": "stdout",
     "output_type": "stream",
     "text": [
      "[youtube] 1oa8xQLvnN0: Downloading webpage\n",
      "[youtube] 1oa8xQLvnN0: Downloading video info webpage\n",
      "[download] Destination: WU LYF - L Y F-1oa8xQLvnN0.webm\n",
      "[download] 100% of 4.41MiB in 00:0069MiB/s ETA 00:006\n",
      "[ffmpeg] Destination: WU LYF - L Y F-1oa8xQLvnN0.mp3\n",
      "Deleting original file WU LYF - L Y F-1oa8xQLvnN0.webm (pass -k to keep)\n"
     ]
    },
    {
     "name": "stderr",
     "output_type": "stream",
     "text": [
      "/opt/anaconda3/envs/metis/lib/python3.7/site-packages/librosa/core/audio.py:161: UserWarning: PySoundFile failed. Trying audioread instead.\n",
      "  warnings.warn('PySoundFile failed. Trying audioread instead.')\n"
     ]
    },
    {
     "name": "stdout",
     "output_type": "stream",
     "text": [
      "[youtube] qTKPCeoSTWg: Downloading webpage\n",
      "[youtube] qTKPCeoSTWg: Downloading video info webpage\n",
      "[download] Destination: WU LYF (SPITTING BLOOD)-qTKPCeoSTWg.webm\n",
      "[download] 100% of 3.57MiB in 00:0118MiB/s ETA 00:0003\n",
      "[ffmpeg] Destination: WU LYF (SPITTING BLOOD)-qTKPCeoSTWg.mp3\n",
      "Deleting original file WU LYF (SPITTING BLOOD)-qTKPCeoSTWg.webm (pass -k to keep)\n"
     ]
    },
    {
     "name": "stderr",
     "output_type": "stream",
     "text": [
      "/opt/anaconda3/envs/metis/lib/python3.7/site-packages/librosa/core/audio.py:161: UserWarning: PySoundFile failed. Trying audioread instead.\n",
      "  warnings.warn('PySoundFile failed. Trying audioread instead.')\n"
     ]
    },
    {
     "name": "stdout",
     "output_type": "stream",
     "text": [
      "[youtube] 1wKZqNkcAt8: Downloading webpage\n",
      "[youtube] 1wKZqNkcAt8: Downloading video info webpage\n",
      "[download] Destination: WU LYF - DIRT (HD+ lyrics)-1wKZqNkcAt8.webm\n",
      "[download] 100% of 2.98MiB in 00:0023MiB/s ETA 00:003\n",
      "[ffmpeg] Destination: WU LYF - DIRT (HD+ lyrics)-1wKZqNkcAt8.mp3\n",
      "Deleting original file WU LYF - DIRT (HD+ lyrics)-1wKZqNkcAt8.webm (pass -k to keep)\n"
     ]
    },
    {
     "name": "stderr",
     "output_type": "stream",
     "text": [
      "/opt/anaconda3/envs/metis/lib/python3.7/site-packages/librosa/core/audio.py:161: UserWarning: PySoundFile failed. Trying audioread instead.\n",
      "  warnings.warn('PySoundFile failed. Trying audioread instead.')\n"
     ]
    },
    {
     "name": "stdout",
     "output_type": "stream",
     "text": [
      "[youtube] PQJ5td5qphU: Downloading webpage\n",
      "[youtube] PQJ5td5qphU: Downloading video info webpage\n",
      "[download] Destination: WU LYF - Concrete Gold-PQJ5td5qphU.webm\n",
      "[download] 100% of 5.33MiB in 00:0052MiB/s ETA 00:005\n",
      "[ffmpeg] Destination: WU LYF - Concrete Gold-PQJ5td5qphU.mp3\n",
      "Deleting original file WU LYF - Concrete Gold-PQJ5td5qphU.webm (pass -k to keep)\n"
     ]
    },
    {
     "name": "stderr",
     "output_type": "stream",
     "text": [
      "/opt/anaconda3/envs/metis/lib/python3.7/site-packages/librosa/core/audio.py:161: UserWarning: PySoundFile failed. Trying audioread instead.\n",
      "  warnings.warn('PySoundFile failed. Trying audioread instead.')\n"
     ]
    },
    {
     "name": "stdout",
     "output_type": "stream",
     "text": [
      "[youtube] 2KcQKbhkzMo: Downloading webpage\n",
      "[youtube] 2KcQKbhkzMo: Downloading video info webpage\n",
      "[youtube] 2KcQKbhkzMo: Downloading MPD manifest\n",
      "[dashsegments] Total fragments: 24\n",
      "[download] Destination: WU LYF - Cave Song-2KcQKbhkzMo.webm\n",
      "[download] 100% of 3.57MiB in 00:04.23MiB/s ETA 00:00035\n",
      "[ffmpeg] Destination: WU LYF - Cave Song-2KcQKbhkzMo.mp3\n",
      "Deleting original file WU LYF - Cave Song-2KcQKbhkzMo.webm (pass -k to keep)\n"
     ]
    },
    {
     "name": "stderr",
     "output_type": "stream",
     "text": [
      "/opt/anaconda3/envs/metis/lib/python3.7/site-packages/librosa/core/audio.py:161: UserWarning: PySoundFile failed. Trying audioread instead.\n",
      "  warnings.warn('PySoundFile failed. Trying audioread instead.')\n"
     ]
    },
    {
     "name": "stdout",
     "output_type": "stream",
     "text": [
      "[youtube] SrbVm3h9Iyg: Downloading webpage\n",
      "[youtube] SrbVm3h9Iyg: Downloading video info webpage\n",
      "[download] Destination: Wu Lyf - Such A Sad Puppy Dog-SrbVm3h9Iyg.webm\n",
      "[download] 100% of 5.32MiB in 00:0102MiB/s ETA 00:007\n",
      "[ffmpeg] Destination: Wu Lyf - Such A Sad Puppy Dog-SrbVm3h9Iyg.mp3\n",
      "Deleting original file Wu Lyf - Such A Sad Puppy Dog-SrbVm3h9Iyg.webm (pass -k to keep)\n"
     ]
    },
    {
     "name": "stderr",
     "output_type": "stream",
     "text": [
      "/opt/anaconda3/envs/metis/lib/python3.7/site-packages/librosa/core/audio.py:161: UserWarning: PySoundFile failed. Trying audioread instead.\n",
      "  warnings.warn('PySoundFile failed. Trying audioread instead.')\n"
     ]
    },
    {
     "name": "stdout",
     "output_type": "stream",
     "text": [
      "[youtube] DDCtbQqfEnc: Downloading webpage\n",
      "[youtube] DDCtbQqfEnc: Downloading video info webpage\n",
      "[download] Destination: Wu Lyf - Summas Bliss-DDCtbQqfEnc.webm\n",
      "[download] 100% of 4.10MiB in 00:0047MiB/s ETA 00:007\n",
      "[ffmpeg] Destination: Wu Lyf - Summas Bliss-DDCtbQqfEnc.mp3\n",
      "Deleting original file Wu Lyf - Summas Bliss-DDCtbQqfEnc.webm (pass -k to keep)\n"
     ]
    },
    {
     "name": "stderr",
     "output_type": "stream",
     "text": [
      "/opt/anaconda3/envs/metis/lib/python3.7/site-packages/librosa/core/audio.py:161: UserWarning: PySoundFile failed. Trying audioread instead.\n",
      "  warnings.warn('PySoundFile failed. Trying audioread instead.')\n"
     ]
    },
    {
     "name": "stdout",
     "output_type": "stream",
     "text": [
      "[youtube] GgTxyGZYOuE: Downloading webpage\n",
      "[youtube] GgTxyGZYOuE: Downloading video info webpage\n",
      "[download] Destination: WU LYF - 14 Crowns for Me and Your Friends-GgTxyGZYOuE.webm\n",
      "[download] 100% of 4.38MiB in 00:0020MiB/s ETA 00:006\n",
      "[ffmpeg] Destination: WU LYF - 14 Crowns for Me and Your Friends-GgTxyGZYOuE.mp3\n",
      "Deleting original file WU LYF - 14 Crowns for Me and Your Friends-GgTxyGZYOuE.webm (pass -k to keep)\n"
     ]
    },
    {
     "name": "stderr",
     "output_type": "stream",
     "text": [
      "/opt/anaconda3/envs/metis/lib/python3.7/site-packages/librosa/core/audio.py:161: UserWarning: PySoundFile failed. Trying audioread instead.\n",
      "  warnings.warn('PySoundFile failed. Trying audioread instead.')\n"
     ]
    },
    {
     "name": "stdout",
     "output_type": "stream",
     "text": [
      "['Hip Hop Spa', \"Souleiman's Theme\", 'Body Double', 'Szechuan', 'Boys in the Mirror', 'Qasida - Sunset Fever 2', 'Ada and Souleiman', 'Qasida Nightmare', 'Qasida - Sunset Fever 1', 'Yelwa Procession']\n",
      "[youtube] VsbG4pXrhr8: Downloading webpage\n",
      "[youtube] VsbG4pXrhr8: Downloading video info webpage\n",
      "[download] Destination: Fatima Al Qadiri - Hip Hop Spa-VsbG4pXrhr8.webm\n",
      "[download] 100% of 4.68MiB in 00:0111MiB/s ETA 00:005\n",
      "[ffmpeg] Destination: Fatima Al Qadiri - Hip Hop Spa-VsbG4pXrhr8.mp3\n",
      "Deleting original file Fatima Al Qadiri - Hip Hop Spa-VsbG4pXrhr8.webm (pass -k to keep)\n"
     ]
    },
    {
     "name": "stderr",
     "output_type": "stream",
     "text": [
      "/opt/anaconda3/envs/metis/lib/python3.7/site-packages/librosa/core/audio.py:161: UserWarning: PySoundFile failed. Trying audioread instead.\n",
      "  warnings.warn('PySoundFile failed. Trying audioread instead.')\n"
     ]
    },
    {
     "name": "stdout",
     "output_type": "stream",
     "text": [
      "[youtube] InqkgOQKTjk: Downloading webpage\n",
      "[youtube] InqkgOQKTjk: Downloading video info webpage\n",
      "[download] Destination: Souleiman's Theme-InqkgOQKTjk.webm\n",
      "[download] 100% of 2.97MiB in 00:0017MiB/s ETA 00:003\n",
      "[ffmpeg] Destination: Souleiman's Theme-InqkgOQKTjk.mp3\n",
      "Deleting original file Souleiman's Theme-InqkgOQKTjk.webm (pass -k to keep)\n"
     ]
    },
    {
     "name": "stderr",
     "output_type": "stream",
     "text": [
      "/opt/anaconda3/envs/metis/lib/python3.7/site-packages/librosa/core/audio.py:161: UserWarning: PySoundFile failed. Trying audioread instead.\n",
      "  warnings.warn('PySoundFile failed. Trying audioread instead.')\n"
     ]
    },
    {
     "name": "stdout",
     "output_type": "stream",
     "text": [
      "[youtube] nGZhEhx6pmE: Downloading webpage\n",
      "[youtube] nGZhEhx6pmE: Downloading video info webpage\n",
      "[youtube] nGZhEhx6pmE: Downloading MPD manifest\n",
      "[dashsegments] Total fragments: 20\n",
      "[download] Destination: Fatima Al Qadiri - Body Double (From 'Atlantics' Soundtrack)-nGZhEhx6pmE.webm\n",
      "[download] 100% of 3.08MiB in 00:04.24MiB/s ETA 00:00004\n",
      "[ffmpeg] Destination: Fatima Al Qadiri - Body Double (From 'Atlantics' Soundtrack)-nGZhEhx6pmE.mp3\n",
      "Deleting original file Fatima Al Qadiri - Body Double (From 'Atlantics' Soundtrack)-nGZhEhx6pmE.webm (pass -k to keep)\n"
     ]
    },
    {
     "name": "stderr",
     "output_type": "stream",
     "text": [
      "/opt/anaconda3/envs/metis/lib/python3.7/site-packages/librosa/core/audio.py:161: UserWarning: PySoundFile failed. Trying audioread instead.\n",
      "  warnings.warn('PySoundFile failed. Trying audioread instead.')\n"
     ]
    },
    {
     "name": "stdout",
     "output_type": "stream",
     "text": [
      "[youtube] hW9smfA0Cco: Downloading webpage\n",
      "[youtube] hW9smfA0Cco: Downloading video info webpage\n",
      "[download] Destination: Szechuan-hW9smfA0Cco.webm\n",
      "[download] 100% of 4.87MiB in 00:0121MiB/s ETA 00:007\n",
      "[ffmpeg] Destination: Szechuan-hW9smfA0Cco.mp3\n",
      "Deleting original file Szechuan-hW9smfA0Cco.webm (pass -k to keep)\n"
     ]
    },
    {
     "name": "stderr",
     "output_type": "stream",
     "text": [
      "/opt/anaconda3/envs/metis/lib/python3.7/site-packages/librosa/core/audio.py:161: UserWarning: PySoundFile failed. Trying audioread instead.\n",
      "  warnings.warn('PySoundFile failed. Trying audioread instead.')\n"
     ]
    },
    {
     "name": "stdout",
     "output_type": "stream",
     "text": [
      "[youtube] jJkGbX8i5M4: Downloading webpage\n",
      "[youtube] jJkGbX8i5M4: Downloading video info webpage\n",
      "[download] Destination: Fatima Al Qadiri - Boys in the Mirror (Atlantics Original Soundtrack)-jJkGbX8i5M4.webm\n",
      "[download] 100% of 2.82MiB in 00:0040MiB/s ETA 00:003\n",
      "[ffmpeg] Destination: Fatima Al Qadiri - Boys in the Mirror (Atlantics Original Soundtrack)-jJkGbX8i5M4.mp3\n",
      "Deleting original file Fatima Al Qadiri - Boys in the Mirror (Atlantics Original Soundtrack)-jJkGbX8i5M4.webm (pass -k to keep)\n"
     ]
    },
    {
     "name": "stderr",
     "output_type": "stream",
     "text": [
      "/opt/anaconda3/envs/metis/lib/python3.7/site-packages/librosa/core/audio.py:161: UserWarning: PySoundFile failed. Trying audioread instead.\n",
      "  warnings.warn('PySoundFile failed. Trying audioread instead.')\n"
     ]
    },
    {
     "name": "stdout",
     "output_type": "stream",
     "text": [
      "[youtube] lCGKx0TdaIU: Downloading webpage\n",
      "[youtube] lCGKx0TdaIU: Downloading video info webpage\n",
      "[download] Destination: Qasida - Sunset Fever 2-lCGKx0TdaIU.webm\n",
      "[download] 100% of 1.46MiB in 00:0023MiB/s ETA 00:001\n",
      "[ffmpeg] Destination: Qasida - Sunset Fever 2-lCGKx0TdaIU.mp3\n",
      "Deleting original file Qasida - Sunset Fever 2-lCGKx0TdaIU.webm (pass -k to keep)\n"
     ]
    },
    {
     "name": "stderr",
     "output_type": "stream",
     "text": [
      "/opt/anaconda3/envs/metis/lib/python3.7/site-packages/librosa/core/audio.py:161: UserWarning: PySoundFile failed. Trying audioread instead.\n",
      "  warnings.warn('PySoundFile failed. Trying audioread instead.')\n"
     ]
    },
    {
     "name": "stdout",
     "output_type": "stream",
     "text": [
      "[youtube] 4jBtF70_qgk: Downloading webpage\n",
      "[youtube] 4jBtF70_qgk: Downloading video info webpage\n",
      "[download] Destination: Ada and Souleiman-4jBtF70_qgk.webm\n",
      "[download] 100% of 2.33MiB in 00:0129MiB/s ETA 00:002\n",
      "[ffmpeg] Destination: Ada and Souleiman-4jBtF70_qgk.mp3\n",
      "Deleting original file Ada and Souleiman-4jBtF70_qgk.webm (pass -k to keep)\n"
     ]
    },
    {
     "name": "stderr",
     "output_type": "stream",
     "text": [
      "/opt/anaconda3/envs/metis/lib/python3.7/site-packages/librosa/core/audio.py:161: UserWarning: PySoundFile failed. Trying audioread instead.\n",
      "  warnings.warn('PySoundFile failed. Trying audioread instead.')\n"
     ]
    },
    {
     "name": "stdout",
     "output_type": "stream",
     "text": [
      "[youtube] 686y2e_ZBdk: Downloading webpage\n",
      "[youtube] 686y2e_ZBdk: Downloading video info webpage\n",
      "[download] Destination: Qasida Nightmare-686y2e_ZBdk.webm\n",
      "[download] 100% of 1.89MiB in 00:0095MiB/s ETA 00:002\n",
      "[ffmpeg] Destination: Qasida Nightmare-686y2e_ZBdk.mp3\n",
      "Deleting original file Qasida Nightmare-686y2e_ZBdk.webm (pass -k to keep)\n"
     ]
    },
    {
     "name": "stderr",
     "output_type": "stream",
     "text": [
      "/opt/anaconda3/envs/metis/lib/python3.7/site-packages/librosa/core/audio.py:161: UserWarning: PySoundFile failed. Trying audioread instead.\n",
      "  warnings.warn('PySoundFile failed. Trying audioread instead.')\n"
     ]
    },
    {
     "name": "stdout",
     "output_type": "stream",
     "text": [
      "[youtube] P6P90pFlOcQ: Downloading webpage\n",
      "[youtube] P6P90pFlOcQ: Downloading video info webpage\n"
     ]
    },
    {
     "name": "stderr",
     "output_type": "stream",
     "text": [
      "ERROR: Signature extraction failed: Traceback (most recent call last):\n",
      "  File \"/opt/anaconda3/envs/metis/lib/python3.7/site-packages/youtube_dl/extractor/youtube.py\", line 1385, in _decrypt_signature\n",
      "    video_id, player_url, s\n",
      "  File \"/opt/anaconda3/envs/metis/lib/python3.7/site-packages/youtube_dl/extractor/youtube.py\", line 1262, in _extract_signature_function\n",
      "    raise ExtractorError('Cannot identify player %r' % player_url)\n",
      "youtube_dl.utils.ExtractorError: Cannot identify player 'https://www.youtube.com/s/player/17480f7d/player_ias.vflset/en_US/base.js'; please report this issue on https://yt-dl.org/bug . Make sure you are using the latest version; see  https://yt-dl.org/update  on how to update. Be sure to call youtube-dl with the --verbose flag and include its complete output.\n",
      " (caused by ExtractorError(\"Cannot identify player 'https://www.youtube.com/s/player/17480f7d/player_ias.vflset/en_US/base.js'; please report this issue on https://yt-dl.org/bug . Make sure you are using the latest version; see  https://yt-dl.org/update  on how to update. Be sure to call youtube-dl with the --verbose flag and include its complete output.\")); please report this issue on https://yt-dl.org/bug . Make sure you are using the latest version; see  https://yt-dl.org/update  on how to update. Be sure to call youtube-dl with the --verbose flag and include its complete output.\n"
     ]
    },
    {
     "name": "stdout",
     "output_type": "stream",
     "text": [
      "Audio extraction failed\n",
      "[youtube] VU05g56fBc4: Downloading webpage\n",
      "[youtube] VU05g56fBc4: Downloading video info webpage\n"
     ]
    },
    {
     "name": "stderr",
     "output_type": "stream",
     "text": [
      "ERROR: Signature extraction failed: Traceback (most recent call last):\n",
      "  File \"/opt/anaconda3/envs/metis/lib/python3.7/site-packages/youtube_dl/extractor/youtube.py\", line 1385, in _decrypt_signature\n",
      "    video_id, player_url, s\n",
      "  File \"/opt/anaconda3/envs/metis/lib/python3.7/site-packages/youtube_dl/extractor/youtube.py\", line 1262, in _extract_signature_function\n",
      "    raise ExtractorError('Cannot identify player %r' % player_url)\n",
      "youtube_dl.utils.ExtractorError: Cannot identify player 'https://www.youtube.com/s/player/17480f7d/player_ias.vflset/en_US/base.js'; please report this issue on https://yt-dl.org/bug . Make sure you are using the latest version; see  https://yt-dl.org/update  on how to update. Be sure to call youtube-dl with the --verbose flag and include its complete output.\n",
      " (caused by ExtractorError(\"Cannot identify player 'https://www.youtube.com/s/player/17480f7d/player_ias.vflset/en_US/base.js'; please report this issue on https://yt-dl.org/bug . Make sure you are using the latest version; see  https://yt-dl.org/update  on how to update. Be sure to call youtube-dl with the --verbose flag and include its complete output.\")); please report this issue on https://yt-dl.org/bug . Make sure you are using the latest version; see  https://yt-dl.org/update  on how to update. Be sure to call youtube-dl with the --verbose flag and include its complete output.\n"
     ]
    },
    {
     "name": "stdout",
     "output_type": "stream",
     "text": [
      "Audio extraction failed\n",
      "['Kilter', 'Esp Ion Age', 'Curtain', 'Nth', 'Phreqs', 'Husk', 'The Back Wards', 'Crone', 'Glumurphonel', 'Revault of Volts']\n",
      "[youtube] 7rj92VOWM5Y: Downloading webpage\n",
      "[youtube] 7rj92VOWM5Y: Downloading video info webpage\n",
      "[download] Destination: Kilter-7rj92VOWM5Y.webm\n",
      "[download] 100% of 5.02MiB in 00:0099MiB/s ETA 00:006\n",
      "[ffmpeg] Destination: Kilter-7rj92VOWM5Y.mp3\n",
      "Deleting original file Kilter-7rj92VOWM5Y.webm (pass -k to keep)\n"
     ]
    },
    {
     "name": "stderr",
     "output_type": "stream",
     "text": [
      "/opt/anaconda3/envs/metis/lib/python3.7/site-packages/librosa/core/audio.py:161: UserWarning: PySoundFile failed. Trying audioread instead.\n",
      "  warnings.warn('PySoundFile failed. Trying audioread instead.')\n"
     ]
    },
    {
     "name": "stdout",
     "output_type": "stream",
     "text": [
      "[youtube] 1L9WYtd9swc: Downloading webpage\n",
      "[youtube] 1L9WYtd9swc: Downloading video info webpage\n",
      "[download] Destination: Esp Ion Age-1L9WYtd9swc.webm\n",
      "[download] 100% of 3.05MiB in 00:0114MiB/s ETA 00:004\n",
      "[ffmpeg] Destination: Esp Ion Age-1L9WYtd9swc.mp3\n",
      "Deleting original file Esp Ion Age-1L9WYtd9swc.webm (pass -k to keep)\n"
     ]
    },
    {
     "name": "stderr",
     "output_type": "stream",
     "text": [
      "/opt/anaconda3/envs/metis/lib/python3.7/site-packages/librosa/core/audio.py:161: UserWarning: PySoundFile failed. Trying audioread instead.\n",
      "  warnings.warn('PySoundFile failed. Trying audioread instead.')\n"
     ]
    },
    {
     "name": "stdout",
     "output_type": "stream",
     "text": [
      "[youtube] 2Vyw_FGIhAE: Downloading webpage\n",
      "[youtube] 2Vyw_FGIhAE: Downloading video info webpage\n",
      "[download] Destination: PORTAL Ω CURTAIN-2Vyw_FGIhAE.m4a\n",
      "[download] 100% of 5.47MiB in 00:0255MiB/s ETA 00:006\n",
      "[ffmpeg] Correcting container in \"PORTAL Ω CURTAIN-2Vyw_FGIhAE.m4a\"\n",
      "[ffmpeg] Destination: PORTAL Ω CURTAIN-2Vyw_FGIhAE.mp3\n",
      "Deleting original file PORTAL Ω CURTAIN-2Vyw_FGIhAE.m4a (pass -k to keep)\n"
     ]
    },
    {
     "name": "stderr",
     "output_type": "stream",
     "text": [
      "/opt/anaconda3/envs/metis/lib/python3.7/site-packages/librosa/core/audio.py:161: UserWarning: PySoundFile failed. Trying audioread instead.\n",
      "  warnings.warn('PySoundFile failed. Trying audioread instead.')\n"
     ]
    },
    {
     "name": "stdout",
     "output_type": "stream",
     "text": [
      "[youtube] eG9xWgrMmHg: Downloading webpage\n",
      "[youtube] eG9xWgrMmHg: Downloading video info webpage\n",
      "[download] Destination: Nth-eG9xWgrMmHg.m4a\n",
      "[download] 100% of 2.02MiB in 00:0145MiB/s ETA 00:002\n",
      "[ffmpeg] Correcting container in \"Nth-eG9xWgrMmHg.m4a\"\n",
      "[ffmpeg] Destination: Nth-eG9xWgrMmHg.mp3\n",
      "Deleting original file Nth-eG9xWgrMmHg.m4a (pass -k to keep)\n"
     ]
    },
    {
     "name": "stderr",
     "output_type": "stream",
     "text": [
      "/opt/anaconda3/envs/metis/lib/python3.7/site-packages/librosa/core/audio.py:161: UserWarning: PySoundFile failed. Trying audioread instead.\n",
      "  warnings.warn('PySoundFile failed. Trying audioread instead.')\n"
     ]
    },
    {
     "name": "stdout",
     "output_type": "stream",
     "text": [
      "[youtube] ux4gIfyI5h0: Downloading webpage\n",
      "[youtube] ux4gIfyI5h0: Downloading video info webpage\n",
      "[download] Destination: PORTAL - Phreqs (official audio)-ux4gIfyI5h0.webm\n",
      "[download] 100% of 4.25MiB in 00:0004MiB/s ETA 00:005\n",
      "[ffmpeg] Destination: PORTAL - Phreqs (official audio)-ux4gIfyI5h0.mp3\n",
      "Deleting original file PORTAL - Phreqs (official audio)-ux4gIfyI5h0.webm (pass -k to keep)\n"
     ]
    },
    {
     "name": "stderr",
     "output_type": "stream",
     "text": [
      "/opt/anaconda3/envs/metis/lib/python3.7/site-packages/librosa/core/audio.py:161: UserWarning: PySoundFile failed. Trying audioread instead.\n",
      "  warnings.warn('PySoundFile failed. Trying audioread instead.')\n"
     ]
    },
    {
     "name": "stdout",
     "output_type": "stream",
     "text": [
      "[youtube] XhgsJwDkWF4: Downloading webpage\n",
      "[youtube] XhgsJwDkWF4: Downloading video info webpage\n",
      "[download] Destination: Husk-XhgsJwDkWF4.m4a\n",
      "[download] 100% of 3.46MiB in 00:0072MiB/s ETA 00:004\n",
      "[ffmpeg] Correcting container in \"Husk-XhgsJwDkWF4.m4a\"\n",
      "[ffmpeg] Destination: Husk-XhgsJwDkWF4.mp3\n",
      "Deleting original file Husk-XhgsJwDkWF4.m4a (pass -k to keep)\n"
     ]
    },
    {
     "name": "stderr",
     "output_type": "stream",
     "text": [
      "/opt/anaconda3/envs/metis/lib/python3.7/site-packages/librosa/core/audio.py:161: UserWarning: PySoundFile failed. Trying audioread instead.\n",
      "  warnings.warn('PySoundFile failed. Trying audioread instead.')\n"
     ]
    },
    {
     "name": "stdout",
     "output_type": "stream",
     "text": [
      "[youtube] thT7qas2Qyg: Downloading webpage\n",
      "[youtube] thT7qas2Qyg: Downloading video info webpage\n",
      "[download] Destination: The Back Wards-thT7qas2Qyg.webm\n",
      "[download] 100% of 3.76MiB in 00:0048MiB/s ETA 00:005\n",
      "[ffmpeg] Destination: The Back Wards-thT7qas2Qyg.mp3\n",
      "Deleting original file The Back Wards-thT7qas2Qyg.webm (pass -k to keep)\n"
     ]
    },
    {
     "name": "stderr",
     "output_type": "stream",
     "text": [
      "/opt/anaconda3/envs/metis/lib/python3.7/site-packages/librosa/core/audio.py:161: UserWarning: PySoundFile failed. Trying audioread instead.\n",
      "  warnings.warn('PySoundFile failed. Trying audioread instead.')\n"
     ]
    },
    {
     "name": "stdout",
     "output_type": "stream",
     "text": [
      "[youtube] DKw01afnjzA: Downloading webpage\n",
      "[youtube] DKw01afnjzA: Downloading video info webpage\n",
      "[download] Destination: Crone-DKw01afnjzA.m4a\n",
      "[download] 100% of 3.21MiB in 00:0173MiB/s ETA 00:003\n",
      "[ffmpeg] Correcting container in \"Crone-DKw01afnjzA.m4a\"\n",
      "[ffmpeg] Destination: Crone-DKw01afnjzA.mp3\n",
      "Deleting original file Crone-DKw01afnjzA.m4a (pass -k to keep)\n"
     ]
    },
    {
     "name": "stderr",
     "output_type": "stream",
     "text": [
      "/opt/anaconda3/envs/metis/lib/python3.7/site-packages/librosa/core/audio.py:161: UserWarning: PySoundFile failed. Trying audioread instead.\n",
      "  warnings.warn('PySoundFile failed. Trying audioread instead.')\n"
     ]
    },
    {
     "name": "stdout",
     "output_type": "stream",
     "text": [
      "[youtube] emrBZZtGFgI: Downloading webpage\n",
      "[youtube] emrBZZtGFgI: Downloading video info webpage\n",
      "[download] Destination: PORTAL - Glumurphonel-emrBZZtGFgI.webm\n",
      "[download] 100% of 3.81MiB in 00:0065MiB/s ETA 00:006\n",
      "[ffmpeg] Destination: PORTAL - Glumurphonel-emrBZZtGFgI.mp3\n",
      "Deleting original file PORTAL - Glumurphonel-emrBZZtGFgI.webm (pass -k to keep)\n"
     ]
    },
    {
     "name": "stderr",
     "output_type": "stream",
     "text": [
      "/opt/anaconda3/envs/metis/lib/python3.7/site-packages/librosa/core/audio.py:161: UserWarning: PySoundFile failed. Trying audioread instead.\n",
      "  warnings.warn('PySoundFile failed. Trying audioread instead.')\n"
     ]
    },
    {
     "name": "stdout",
     "output_type": "stream",
     "text": [
      "[youtube] 3W-VALmWEcg: Downloading webpage\n",
      "[youtube] 3W-VALmWEcg: Downloading video info webpage\n",
      "[download] Destination: Revault of Volts-3W-VALmWEcg.m4a\n",
      "[download] 100% of 3.61MiB in 00:0188MiB/s ETA 00:005\n",
      "[ffmpeg] Correcting container in \"Revault of Volts-3W-VALmWEcg.m4a\"\n",
      "[ffmpeg] Destination: Revault of Volts-3W-VALmWEcg.mp3\n",
      "Deleting original file Revault of Volts-3W-VALmWEcg.m4a (pass -k to keep)\n"
     ]
    },
    {
     "name": "stderr",
     "output_type": "stream",
     "text": [
      "/opt/anaconda3/envs/metis/lib/python3.7/site-packages/librosa/core/audio.py:161: UserWarning: PySoundFile failed. Trying audioread instead.\n",
      "  warnings.warn('PySoundFile failed. Trying audioread instead.')\n"
     ]
    },
    {
     "name": "stdout",
     "output_type": "stream",
     "text": [
      "['Dancing In The Dark', 'Monstro', 'A Wall', 'Lips That Bite', 'Wave Of History', 'Somos Chulas (No Somos Pendejas)', 'Santa', '100% Inheritance Tax', \"I'm Enough (I Want More)\", 'Poder Elegir']\n",
      "[youtube] qZnTHH3pUqg: Downloading webpage\n",
      "[youtube] qZnTHH3pUqg: Downloading video info webpage\n",
      "[download] Destination: Downtown Boys - Dancing In The Dark (Official Audio)-qZnTHH3pUqg.webm\n",
      "[download] 100% of 2.57MiB in 00:0052MiB/s ETA 00:003\n",
      "[ffmpeg] Destination: Downtown Boys - Dancing In The Dark (Official Audio)-qZnTHH3pUqg.mp3\n",
      "Deleting original file Downtown Boys - Dancing In The Dark (Official Audio)-qZnTHH3pUqg.webm (pass -k to keep)\n"
     ]
    },
    {
     "name": "stderr",
     "output_type": "stream",
     "text": [
      "/opt/anaconda3/envs/metis/lib/python3.7/site-packages/librosa/core/audio.py:161: UserWarning: PySoundFile failed. Trying audioread instead.\n",
      "  warnings.warn('PySoundFile failed. Trying audioread instead.')\n"
     ]
    },
    {
     "name": "stdout",
     "output_type": "stream",
     "text": [
      "[youtube] pL7x8Z-gSMg: Downloading webpage\n",
      "[youtube] pL7x8Z-gSMg: Downloading video info webpage\n",
      "[download] Destination: Downtown Boys - Monstro (Official Audio)-pL7x8Z-gSMg.webm\n",
      "[download] 100% of 3.05MiB in 00:0096MiB/s ETA 00:003\n",
      "[ffmpeg] Destination: Downtown Boys - Monstro (Official Audio)-pL7x8Z-gSMg.mp3\n",
      "Deleting original file Downtown Boys - Monstro (Official Audio)-pL7x8Z-gSMg.webm (pass -k to keep)\n"
     ]
    },
    {
     "name": "stderr",
     "output_type": "stream",
     "text": [
      "/opt/anaconda3/envs/metis/lib/python3.7/site-packages/librosa/core/audio.py:161: UserWarning: PySoundFile failed. Trying audioread instead.\n",
      "  warnings.warn('PySoundFile failed. Trying audioread instead.')\n"
     ]
    },
    {
     "name": "stdout",
     "output_type": "stream",
     "text": [
      "[youtube] G9yim3ZGuUc: Downloading webpage\n",
      "[youtube] G9yim3ZGuUc: Downloading video info webpage\n",
      "[download] Destination: Downtown Boys - A Wall-G9yim3ZGuUc.webm\n",
      "[download] 100% of 3.63MiB in 00:0154MiB/s ETA 00:0003\n",
      "[ffmpeg] Destination: Downtown Boys - A Wall-G9yim3ZGuUc.mp3\n",
      "Deleting original file Downtown Boys - A Wall-G9yim3ZGuUc.webm (pass -k to keep)\n"
     ]
    },
    {
     "name": "stderr",
     "output_type": "stream",
     "text": [
      "/opt/anaconda3/envs/metis/lib/python3.7/site-packages/librosa/core/audio.py:161: UserWarning: PySoundFile failed. Trying audioread instead.\n",
      "  warnings.warn('PySoundFile failed. Trying audioread instead.')\n"
     ]
    },
    {
     "name": "stdout",
     "output_type": "stream",
     "text": [
      "[youtube] EbGTfjHBPiw: Downloading webpage\n",
      "[youtube] EbGTfjHBPiw: Downloading video info webpage\n",
      "[download] Destination: Downtown Boys - Lips That Bite-EbGTfjHBPiw.webm\n",
      "[download] 100% of 3.74MiB in 00:0192MiB/s ETA 00:004\n",
      "[ffmpeg] Destination: Downtown Boys - Lips That Bite-EbGTfjHBPiw.mp3\n",
      "Deleting original file Downtown Boys - Lips That Bite-EbGTfjHBPiw.webm (pass -k to keep)\n"
     ]
    },
    {
     "name": "stderr",
     "output_type": "stream",
     "text": [
      "/opt/anaconda3/envs/metis/lib/python3.7/site-packages/librosa/core/audio.py:161: UserWarning: PySoundFile failed. Trying audioread instead.\n",
      "  warnings.warn('PySoundFile failed. Trying audioread instead.')\n"
     ]
    },
    {
     "name": "stdout",
     "output_type": "stream",
     "text": [
      "[youtube] T23wfhddpYY: Downloading webpage\n",
      "[youtube] T23wfhddpYY: Downloading video info webpage\n",
      "[download] Destination: Downtown Boys - Wave Of History (Official Video)-T23wfhddpYY.m4a\n",
      "[download] 100% of 1.80MiB in 00:0162MiB/s ETA 00:003\n",
      "[ffmpeg] Correcting container in \"Downtown Boys - Wave Of History (Official Video)-T23wfhddpYY.m4a\"\n",
      "[ffmpeg] Destination: Downtown Boys - Wave Of History (Official Video)-T23wfhddpYY.mp3\n",
      "Deleting original file Downtown Boys - Wave Of History (Official Video)-T23wfhddpYY.m4a (pass -k to keep)\n"
     ]
    },
    {
     "name": "stderr",
     "output_type": "stream",
     "text": [
      "/opt/anaconda3/envs/metis/lib/python3.7/site-packages/librosa/core/audio.py:161: UserWarning: PySoundFile failed. Trying audioread instead.\n",
      "  warnings.warn('PySoundFile failed. Trying audioread instead.')\n"
     ]
    },
    {
     "name": "stdout",
     "output_type": "stream",
     "text": [
      "[youtube] EWG1SfuT02o: Downloading webpage\n",
      "[youtube] EWG1SfuT02o: Downloading video info webpage\n",
      "[download] Destination: Downtown Boys - Somos Chulas (No Somos Pendejas)-EWG1SfuT02o.webm\n",
      "[download] 100% of 3.10MiB in 00:0333MiB/s ETA 00:003\n",
      "[ffmpeg] Destination: Downtown Boys - Somos Chulas (No Somos Pendejas)-EWG1SfuT02o.mp3\n",
      "Deleting original file Downtown Boys - Somos Chulas (No Somos Pendejas)-EWG1SfuT02o.webm (pass -k to keep)\n"
     ]
    },
    {
     "name": "stderr",
     "output_type": "stream",
     "text": [
      "/opt/anaconda3/envs/metis/lib/python3.7/site-packages/librosa/core/audio.py:161: UserWarning: PySoundFile failed. Trying audioread instead.\n",
      "  warnings.warn('PySoundFile failed. Trying audioread instead.')\n"
     ]
    },
    {
     "name": "stdout",
     "output_type": "stream",
     "text": [
      "[youtube] Rnuf03G7o60: Downloading webpage\n",
      "[youtube] Rnuf03G7o60: Downloading video info webpage\n",
      "[download] Destination: Downtown Boys - Santa (Official Audio)-Rnuf03G7o60.webm\n",
      "[download] 100% of 1.29MiB in 00:0050MiB/s ETA 00:001\n",
      "[ffmpeg] Destination: Downtown Boys - Santa (Official Audio)-Rnuf03G7o60.mp3\n",
      "Deleting original file Downtown Boys - Santa (Official Audio)-Rnuf03G7o60.webm (pass -k to keep)\n"
     ]
    },
    {
     "name": "stderr",
     "output_type": "stream",
     "text": [
      "/opt/anaconda3/envs/metis/lib/python3.7/site-packages/librosa/core/audio.py:161: UserWarning: PySoundFile failed. Trying audioread instead.\n",
      "  warnings.warn('PySoundFile failed. Trying audioread instead.')\n"
     ]
    },
    {
     "name": "stdout",
     "output_type": "stream",
     "text": [
      "[youtube] h_AaTM-IKxM: Downloading webpage\n",
      "[youtube] h_AaTM-IKxM: Downloading video info webpage\n",
      "[download] Destination: Downtown Boys - 100% Inheritance Tax (Official Audio)-h_AaTM-IKxM.m4a\n",
      "[download] 100% of 2.04MiB in 00:0173MiB/s ETA 00:002\n",
      "[ffmpeg] Correcting container in \"Downtown Boys - 100% Inheritance Tax (Official Audio)-h_AaTM-IKxM.m4a\"\n",
      "[ffmpeg] Destination: Downtown Boys - 100% Inheritance Tax (Official Audio)-h_AaTM-IKxM.mp3\n",
      "Deleting original file Downtown Boys - 100% Inheritance Tax (Official Audio)-h_AaTM-IKxM.m4a (pass -k to keep)\n"
     ]
    },
    {
     "name": "stderr",
     "output_type": "stream",
     "text": [
      "/opt/anaconda3/envs/metis/lib/python3.7/site-packages/librosa/core/audio.py:161: UserWarning: PySoundFile failed. Trying audioread instead.\n",
      "  warnings.warn('PySoundFile failed. Trying audioread instead.')\n"
     ]
    },
    {
     "name": "stdout",
     "output_type": "stream",
     "text": [
      "[youtube] ujj-mw3Hfi8: Downloading webpage\n",
      "[youtube] ujj-mw3Hfi8: Downloading video info webpage\n",
      "[download] Destination: Downtown Boys - I'm Enough (I Want More)-ujj-mw3Hfi8.webm\n",
      "[download] 100% of 2.76MiB in 00:0045MiB/s ETA 00:003\n",
      "[ffmpeg] Destination: Downtown Boys - I'm Enough (I Want More)-ujj-mw3Hfi8.mp3\n",
      "Deleting original file Downtown Boys - I'm Enough (I Want More)-ujj-mw3Hfi8.webm (pass -k to keep)\n"
     ]
    },
    {
     "name": "stderr",
     "output_type": "stream",
     "text": [
      "/opt/anaconda3/envs/metis/lib/python3.7/site-packages/librosa/core/audio.py:161: UserWarning: PySoundFile failed. Trying audioread instead.\n",
      "  warnings.warn('PySoundFile failed. Trying audioread instead.')\n"
     ]
    },
    {
     "name": "stdout",
     "output_type": "stream",
     "text": [
      "[youtube] 39h-jlzNmac: Downloading webpage\n",
      "[youtube] 39h-jlzNmac: Downloading video info webpage\n",
      "[download] Destination: Downtown Boys - Poder Elegir (Los Prisioneros Cover)-39h-jlzNmac.webm\n",
      "[download] 100% of 3.52MiB in 00:0087MiB/s ETA 00:006\n",
      "[ffmpeg] Destination: Downtown Boys - Poder Elegir (Los Prisioneros Cover)-39h-jlzNmac.mp3\n",
      "Deleting original file Downtown Boys - Poder Elegir (Los Prisioneros Cover)-39h-jlzNmac.webm (pass -k to keep)\n"
     ]
    },
    {
     "name": "stderr",
     "output_type": "stream",
     "text": [
      "/opt/anaconda3/envs/metis/lib/python3.7/site-packages/librosa/core/audio.py:161: UserWarning: PySoundFile failed. Trying audioread instead.\n",
      "  warnings.warn('PySoundFile failed. Trying audioread instead.')\n"
     ]
    },
    {
     "name": "stdout",
     "output_type": "stream",
     "text": [
      "['A More Perfect Union', 'No Future Part Three: Escape From No Future', '(I Blame) Society', 'Titus Andronicus Forever', 'Dimed Out', 'Just Like Ringing a Bell', 'Tumult Around the World', 'Richard II Or Extraordinary Popular Dimensions And The Madness Of Crowds (Responsible Hate Anthem)', 'Theme From “Cheers\"', 'A Pot In Which To Piss']\n",
      "[youtube] dFHlK8ZXgvE: Downloading webpage\n",
      "[youtube] dFHlK8ZXgvE: Downloading video info webpage\n",
      "[download] Destination: Titus Andronicus - A More Perfect Union-dFHlK8ZXgvE.webm\n",
      "[download] 100% of 4.89MiB in 00:0154MiB/s ETA 00:008\n",
      "[ffmpeg] Destination: Titus Andronicus - A More Perfect Union-dFHlK8ZXgvE.mp3\n",
      "Deleting original file Titus Andronicus - A More Perfect Union-dFHlK8ZXgvE.webm (pass -k to keep)\n"
     ]
    },
    {
     "name": "stderr",
     "output_type": "stream",
     "text": [
      "/opt/anaconda3/envs/metis/lib/python3.7/site-packages/librosa/core/audio.py:161: UserWarning: PySoundFile failed. Trying audioread instead.\n",
      "  warnings.warn('PySoundFile failed. Trying audioread instead.')\n"
     ]
    },
    {
     "name": "stdout",
     "output_type": "stream",
     "text": [
      "[youtube] b5C-r28j56k: Downloading webpage\n",
      "[youtube] b5C-r28j56k: Downloading video info webpage\n",
      "[download] Destination: Titus Andronicus - No Future Part Three - Escape From No Future-b5C-r28j56k.webm\n",
      "[download] 100% of 5.16MiB in 00:0164MiB/s ETA 00:0005\n",
      "[ffmpeg] Destination: Titus Andronicus - No Future Part Three - Escape From No Future-b5C-r28j56k.mp3\n",
      "Deleting original file Titus Andronicus - No Future Part Three - Escape From No Future-b5C-r28j56k.webm (pass -k to keep)\n"
     ]
    },
    {
     "name": "stderr",
     "output_type": "stream",
     "text": [
      "/opt/anaconda3/envs/metis/lib/python3.7/site-packages/librosa/core/audio.py:161: UserWarning: PySoundFile failed. Trying audioread instead.\n",
      "  warnings.warn('PySoundFile failed. Trying audioread instead.')\n"
     ]
    },
    {
     "name": "stdout",
     "output_type": "stream",
     "text": [
      "[youtube] kVcTdiThScg: Downloading webpage\n",
      "[youtube] kVcTdiThScg: Downloading video info webpage\n",
      "[download] Destination: TITUS ANDRONICUS - '(I BLAME) SOCIETY' [OFFICIAL LYRIC VIDEO] +@-kVcTdiThScg.m4a\n",
      "[download] 100% of 3.14MiB in 00:0007MiB/s ETA 00:0003\n",
      "[ffmpeg] Correcting container in \"TITUS ANDRONICUS - '(I BLAME) SOCIETY' [OFFICIAL LYRIC VIDEO] +@-kVcTdiThScg.m4a\"\n",
      "[ffmpeg] Destination: TITUS ANDRONICUS - '(I BLAME) SOCIETY' [OFFICIAL LYRIC VIDEO] +@-kVcTdiThScg.mp3\n",
      "Deleting original file TITUS ANDRONICUS - '(I BLAME) SOCIETY' [OFFICIAL LYRIC VIDEO] +@-kVcTdiThScg.m4a (pass -k to keep)\n"
     ]
    },
    {
     "name": "stderr",
     "output_type": "stream",
     "text": [
      "/opt/anaconda3/envs/metis/lib/python3.7/site-packages/librosa/core/audio.py:161: UserWarning: PySoundFile failed. Trying audioread instead.\n",
      "  warnings.warn('PySoundFile failed. Trying audioread instead.')\n"
     ]
    },
    {
     "name": "stdout",
     "output_type": "stream",
     "text": [
      "[youtube] YDNMYwK69jM: Downloading webpage\n",
      "[youtube] YDNMYwK69jM: Downloading video info webpage\n"
     ]
    },
    {
     "name": "stderr",
     "output_type": "stream",
     "text": [
      "ERROR: Signature extraction failed: Traceback (most recent call last):\n",
      "  File \"/opt/anaconda3/envs/metis/lib/python3.7/site-packages/youtube_dl/extractor/youtube.py\", line 1385, in _decrypt_signature\n",
      "    video_id, player_url, s\n",
      "  File \"/opt/anaconda3/envs/metis/lib/python3.7/site-packages/youtube_dl/extractor/youtube.py\", line 1262, in _extract_signature_function\n",
      "    raise ExtractorError('Cannot identify player %r' % player_url)\n",
      "youtube_dl.utils.ExtractorError: Cannot identify player 'https://www.youtube.com/s/player/17480f7d/player_ias.vflset/en_US/base.js'; please report this issue on https://yt-dl.org/bug . Make sure you are using the latest version; see  https://yt-dl.org/update  on how to update. Be sure to call youtube-dl with the --verbose flag and include its complete output.\n",
      " (caused by ExtractorError(\"Cannot identify player 'https://www.youtube.com/s/player/17480f7d/player_ias.vflset/en_US/base.js'; please report this issue on https://yt-dl.org/bug . Make sure you are using the latest version; see  https://yt-dl.org/update  on how to update. Be sure to call youtube-dl with the --verbose flag and include its complete output.\")); please report this issue on https://yt-dl.org/bug . Make sure you are using the latest version; see  https://yt-dl.org/update  on how to update. Be sure to call youtube-dl with the --verbose flag and include its complete output.\n"
     ]
    },
    {
     "name": "stdout",
     "output_type": "stream",
     "text": [
      "Audio extraction failed\n",
      "[youtube] 0dX6LL7b8Y0: Downloading webpage\n",
      "[youtube] 0dX6LL7b8Y0: Downloading video info webpage\n",
      "[download] Destination: +@ TITUS ANDRONICUS - 'DIMED OUT' ( Official Lyric Video )-0dX6LL7b8Y0.webm\n",
      "[download] 100% of 3.33MiB in 00:0114MiB/s ETA 00:004\n",
      "[ffmpeg] Destination: +@ TITUS ANDRONICUS - 'DIMED OUT' ( Official Lyric Video )-0dX6LL7b8Y0.mp3\n",
      "Deleting original file +@ TITUS ANDRONICUS - 'DIMED OUT' ( Official Lyric Video )-0dX6LL7b8Y0.webm (pass -k to keep)\n"
     ]
    },
    {
     "name": "stderr",
     "output_type": "stream",
     "text": [
      "/opt/anaconda3/envs/metis/lib/python3.7/site-packages/librosa/core/audio.py:161: UserWarning: PySoundFile failed. Trying audioread instead.\n",
      "  warnings.warn('PySoundFile failed. Trying audioread instead.')\n"
     ]
    },
    {
     "name": "stdout",
     "output_type": "stream",
     "text": [
      "[youtube] kkeWhRw0Xig: Downloading webpage\n",
      "[youtube] kkeWhRw0Xig: Downloading video info webpage\n",
      "[download] Destination: TITUS ANDRONICUS - 'JUST LIKE RINGING A BELL' [OFFICIAL VIDEO]-kkeWhRw0Xig.webm\n",
      "[download] 100% of 4.85MiB in 00:0042MiB/s ETA 00:005\n",
      "[ffmpeg] Destination: TITUS ANDRONICUS - 'JUST LIKE RINGING A BELL' [OFFICIAL VIDEO]-kkeWhRw0Xig.mp3\n",
      "Deleting original file TITUS ANDRONICUS - 'JUST LIKE RINGING A BELL' [OFFICIAL VIDEO]-kkeWhRw0Xig.webm (pass -k to keep)\n"
     ]
    },
    {
     "name": "stderr",
     "output_type": "stream",
     "text": [
      "/opt/anaconda3/envs/metis/lib/python3.7/site-packages/librosa/core/audio.py:161: UserWarning: PySoundFile failed. Trying audioread instead.\n",
      "  warnings.warn('PySoundFile failed. Trying audioread instead.')\n"
     ]
    },
    {
     "name": "stdout",
     "output_type": "stream",
     "text": [
      "[youtube] jqwdbnPuGEU: Downloading webpage\n",
      "[youtube] jqwdbnPuGEU: Downloading video info webpage\n",
      "[download] Destination: TITUS ANDRONICUS - 'TUMULT AROUND THE WORLD' [OFFICIAL VIDEO]-jqwdbnPuGEU.webm\n",
      "[download] 100% of 5.10MiB in 00:0065MiB/s ETA 00:005\n",
      "[ffmpeg] Destination: TITUS ANDRONICUS - 'TUMULT AROUND THE WORLD' [OFFICIAL VIDEO]-jqwdbnPuGEU.mp3\n",
      "Deleting original file TITUS ANDRONICUS - 'TUMULT AROUND THE WORLD' [OFFICIAL VIDEO]-jqwdbnPuGEU.webm (pass -k to keep)\n"
     ]
    },
    {
     "name": "stderr",
     "output_type": "stream",
     "text": [
      "/opt/anaconda3/envs/metis/lib/python3.7/site-packages/librosa/core/audio.py:161: UserWarning: PySoundFile failed. Trying audioread instead.\n",
      "  warnings.warn('PySoundFile failed. Trying audioread instead.')\n"
     ]
    },
    {
     "name": "stdout",
     "output_type": "stream",
     "text": [
      "[youtube] mmPLbTo7yZA: Downloading webpage\n",
      "[youtube] mmPLbTo7yZA: Downloading video info webpage\n",
      "[download] Destination: Richard II Or Extraordinary Popular Dimensions And The Madness Of Crowds (Responsible Hate Anthem)-mmPLbTo7yZA.webm\n",
      "[download] 100% of 4.56MiB in 00:0058MiB/s ETA 00:006\n",
      "[ffmpeg] Destination: Richard II Or Extraordinary Popular Dimensions And The Madness Of Crowds (Responsible Hate Anthem)-mmPLbTo7yZA.mp3\n",
      "Deleting original file Richard II Or Extraordinary Popular Dimensions And The Madness Of Crowds (Responsible Hate Anthem)-mmPLbTo7yZA.webm (pass -k to keep)\n"
     ]
    },
    {
     "name": "stderr",
     "output_type": "stream",
     "text": [
      "/opt/anaconda3/envs/metis/lib/python3.7/site-packages/librosa/core/audio.py:161: UserWarning: PySoundFile failed. Trying audioread instead.\n",
      "  warnings.warn('PySoundFile failed. Trying audioread instead.')\n"
     ]
    },
    {
     "name": "stdout",
     "output_type": "stream",
     "text": [
      "[youtube] EDwltcAo_Bg: Downloading webpage\n",
      "[youtube] EDwltcAo_Bg: Downloading video info webpage\n",
      "[download] Destination: Titus Andronicus - Theme From 'Cheers'-EDwltcAo_Bg.webm\n",
      "[download] 100% of 3.44MiB in 00:0077MiB/s ETA 00:005\n",
      "[ffmpeg] Destination: Titus Andronicus - Theme From 'Cheers'-EDwltcAo_Bg.mp3\n",
      "Deleting original file Titus Andronicus - Theme From 'Cheers'-EDwltcAo_Bg.webm (pass -k to keep)\n"
     ]
    },
    {
     "name": "stderr",
     "output_type": "stream",
     "text": [
      "/opt/anaconda3/envs/metis/lib/python3.7/site-packages/librosa/core/audio.py:161: UserWarning: PySoundFile failed. Trying audioread instead.\n",
      "  warnings.warn('PySoundFile failed. Trying audioread instead.')\n"
     ]
    },
    {
     "name": "stdout",
     "output_type": "stream",
     "text": [
      "[youtube] nOl8nGbmJ5A: Downloading webpage\n",
      "[youtube] nOl8nGbmJ5A: Downloading video info webpage\n",
      "[download] Destination: Titus Andronicus -  A Pot In Which To Piss-nOl8nGbmJ5A.webm\n",
      "[download] 100% of 6.11MiB in 00:0151MiB/s ETA 00:007\n",
      "[ffmpeg] Destination: Titus Andronicus -  A Pot In Which To Piss-nOl8nGbmJ5A.mp3\n",
      "Deleting original file Titus Andronicus -  A Pot In Which To Piss-nOl8nGbmJ5A.webm (pass -k to keep)\n"
     ]
    },
    {
     "name": "stderr",
     "output_type": "stream",
     "text": [
      "/opt/anaconda3/envs/metis/lib/python3.7/site-packages/librosa/core/audio.py:161: UserWarning: PySoundFile failed. Trying audioread instead.\n",
      "  warnings.warn('PySoundFile failed. Trying audioread instead.')\n"
     ]
    },
    {
     "name": "stdout",
     "output_type": "stream",
     "text": [
      "['Falling Down - Bonus Track', 'Star Shopping', 'Save That Shit', 'witchblades', 'Beamer Boy', 'Spotlight', \"I've Been Waiting (w/ ILoveMakonnen & Fall Out Boy)\", 'Life is Beautiful', 'Awful Things', 'Benz Truck (гелик)']\n",
      "[youtube] -jRKsiAOAA8: Downloading webpage\n",
      "[youtube] -jRKsiAOAA8: Downloading video info webpage\n",
      "[download] Destination: Lil Peep & XXXTENTACION - Falling Down--jRKsiAOAA8.webm\n",
      "[download] 100% of 3.22MiB in 00:0037MiB/s ETA 00:003\n",
      "[ffmpeg] Destination: Lil Peep & XXXTENTACION - Falling Down--jRKsiAOAA8.mp3\n",
      "Deleting original file Lil Peep & XXXTENTACION - Falling Down--jRKsiAOAA8.webm (pass -k to keep)\n"
     ]
    },
    {
     "name": "stderr",
     "output_type": "stream",
     "text": [
      "/opt/anaconda3/envs/metis/lib/python3.7/site-packages/librosa/core/audio.py:161: UserWarning: PySoundFile failed. Trying audioread instead.\n",
      "  warnings.warn('PySoundFile failed. Trying audioread instead.')\n"
     ]
    },
    {
     "name": "stdout",
     "output_type": "stream",
     "text": [
      "[youtube] qwzQPh7dW_4: Downloading webpage\n",
      "[youtube] qwzQPh7dW_4: Downloading video info webpage\n",
      "[download] Destination: lil peep - star shopping (prod. kryptik)-qwzQPh7dW_4.webm\n",
      "[download] 100% of 2.15MiB in 00:0053MiB/s ETA 00:003\n",
      "[ffmpeg] Destination: lil peep - star shopping (prod. kryptik)-qwzQPh7dW_4.mp3\n",
      "Deleting original file lil peep - star shopping (prod. kryptik)-qwzQPh7dW_4.webm (pass -k to keep)\n"
     ]
    },
    {
     "name": "stderr",
     "output_type": "stream",
     "text": [
      "/opt/anaconda3/envs/metis/lib/python3.7/site-packages/librosa/core/audio.py:161: UserWarning: PySoundFile failed. Trying audioread instead.\n",
      "  warnings.warn('PySoundFile failed. Trying audioread instead.')\n"
     ]
    },
    {
     "name": "stdout",
     "output_type": "stream",
     "text": [
      "[youtube] WvV5TbJc9tQ: Downloading webpage\n",
      "[youtube] WvV5TbJc9tQ: Downloading video info webpage\n",
      "[download] Destination: Lil Peep - Save That Shit (Official Video)-WvV5TbJc9tQ.webm\n",
      "[download] 100% of 3.51MiB in 00:0050MiB/s ETA 00:005\n",
      "[ffmpeg] Destination: Lil Peep - Save That Shit (Official Video)-WvV5TbJc9tQ.mp3\n",
      "Deleting original file Lil Peep - Save That Shit (Official Video)-WvV5TbJc9tQ.webm (pass -k to keep)\n"
     ]
    },
    {
     "name": "stderr",
     "output_type": "stream",
     "text": [
      "/opt/anaconda3/envs/metis/lib/python3.7/site-packages/librosa/core/audio.py:161: UserWarning: PySoundFile failed. Trying audioread instead.\n",
      "  warnings.warn('PySoundFile failed. Trying audioread instead.')\n"
     ]
    },
    {
     "name": "stdout",
     "output_type": "stream",
     "text": [
      "[youtube] E7sP6t1QyrI: Downloading webpage\n",
      "[youtube] E7sP6t1QyrI: Downloading video info webpage\n",
      "[download] Destination: witchblades - lil peep x lil tracy-E7sP6t1QyrI.webm\n",
      "[download] 100% of 2.38MiB in 00:0153MiB/s ETA 00:004\n",
      "[ffmpeg] Destination: witchblades - lil peep x lil tracy-E7sP6t1QyrI.mp3\n",
      "Deleting original file witchblades - lil peep x lil tracy-E7sP6t1QyrI.webm (pass -k to keep)\n"
     ]
    },
    {
     "name": "stderr",
     "output_type": "stream",
     "text": [
      "/opt/anaconda3/envs/metis/lib/python3.7/site-packages/librosa/core/audio.py:161: UserWarning: PySoundFile failed. Trying audioread instead.\n",
      "  warnings.warn('PySoundFile failed. Trying audioread instead.')\n"
     ]
    },
    {
     "name": "stdout",
     "output_type": "stream",
     "text": [
      "[youtube] K62a5_kAa0w: Downloading webpage\n",
      "[youtube] K62a5_kAa0w: Downloading video info webpage\n",
      "[download] Destination: lil peep - beamer boy (lyrics)-K62a5_kAa0w.webm\n",
      "[download] 100% of 3.02MiB in 00:0028MiB/s ETA 00:004\n",
      "[ffmpeg] Destination: lil peep - beamer boy (lyrics)-K62a5_kAa0w.mp3\n",
      "Deleting original file lil peep - beamer boy (lyrics)-K62a5_kAa0w.webm (pass -k to keep)\n"
     ]
    },
    {
     "name": "stderr",
     "output_type": "stream",
     "text": [
      "/opt/anaconda3/envs/metis/lib/python3.7/site-packages/librosa/core/audio.py:161: UserWarning: PySoundFile failed. Trying audioread instead.\n",
      "  warnings.warn('PySoundFile failed. Trying audioread instead.')\n"
     ]
    },
    {
     "name": "stdout",
     "output_type": "stream",
     "text": [
      "[youtube] b7K_lbglfI4: Downloading webpage\n",
      "[youtube] b7K_lbglfI4: Downloading video info webpage\n",
      "[download] Destination: Marshmello x Lil Peep - Spotlight [Official Audio]-b7K_lbglfI4.webm\n",
      "[download] 100% of 2.74MiB in 00:0067MiB/s ETA 00:002\n",
      "[ffmpeg] Destination: Marshmello x Lil Peep - Spotlight [Official Audio]-b7K_lbglfI4.mp3\n",
      "Deleting original file Marshmello x Lil Peep - Spotlight [Official Audio]-b7K_lbglfI4.webm (pass -k to keep)\n"
     ]
    },
    {
     "name": "stderr",
     "output_type": "stream",
     "text": [
      "/opt/anaconda3/envs/metis/lib/python3.7/site-packages/librosa/core/audio.py:161: UserWarning: PySoundFile failed. Trying audioread instead.\n",
      "  warnings.warn('PySoundFile failed. Trying audioread instead.')\n"
     ]
    },
    {
     "name": "stdout",
     "output_type": "stream",
     "text": [
      "[youtube] dQYPimscA20: Downloading webpage\n",
      "[youtube] dQYPimscA20: Downloading video info webpage\n",
      "[download] Destination: Lil Peep & ILoveMakonnen feat. Fall Out Boy – I’ve Been Waiting-dQYPimscA20.webm\n",
      "[download] 100% of 3.72MiB in 00:0171MiB/s ETA 00:0003\n",
      "[ffmpeg] Destination: Lil Peep & ILoveMakonnen feat. Fall Out Boy – I’ve Been Waiting-dQYPimscA20.mp3\n",
      "Deleting original file Lil Peep & ILoveMakonnen feat. Fall Out Boy – I’ve Been Waiting-dQYPimscA20.webm (pass -k to keep)\n"
     ]
    },
    {
     "name": "stderr",
     "output_type": "stream",
     "text": [
      "/opt/anaconda3/envs/metis/lib/python3.7/site-packages/librosa/core/audio.py:161: UserWarning: PySoundFile failed. Trying audioread instead.\n",
      "  warnings.warn('PySoundFile failed. Trying audioread instead.')\n"
     ]
    },
    {
     "name": "stdout",
     "output_type": "stream",
     "text": [
      "[youtube] 2ORsrbQa94M: Downloading webpage\n",
      "[youtube] 2ORsrbQa94M: Downloading video info webpage\n",
      "[download] Destination: Lil Peep - Life Is Beautiful-2ORsrbQa94M.webm\n",
      "[download] 100% of 3.21MiB in 00:0188MiB/s ETA 00:004\n",
      "[ffmpeg] Destination: Lil Peep - Life Is Beautiful-2ORsrbQa94M.mp3\n",
      "Deleting original file Lil Peep - Life Is Beautiful-2ORsrbQa94M.webm (pass -k to keep)\n"
     ]
    },
    {
     "name": "stderr",
     "output_type": "stream",
     "text": [
      "/opt/anaconda3/envs/metis/lib/python3.7/site-packages/librosa/core/audio.py:161: UserWarning: PySoundFile failed. Trying audioread instead.\n",
      "  warnings.warn('PySoundFile failed. Trying audioread instead.')\n"
     ]
    },
    {
     "name": "stdout",
     "output_type": "stream",
     "text": [
      "[youtube] zOujzvtwZ6M: Downloading webpage\n",
      "[youtube] zOujzvtwZ6M: Downloading video info webpage\n",
      "[download] Destination: Lil Peep - Awful Things ft. Lil Tracy (Official Video)-zOujzvtwZ6M.webm\n",
      "[download] 100% of 3.25MiB in 00:0160MiB/s ETA 00:005\n",
      "[ffmpeg] Destination: Lil Peep - Awful Things ft. Lil Tracy (Official Video)-zOujzvtwZ6M.mp3\n",
      "Deleting original file Lil Peep - Awful Things ft. Lil Tracy (Official Video)-zOujzvtwZ6M.webm (pass -k to keep)\n"
     ]
    },
    {
     "name": "stderr",
     "output_type": "stream",
     "text": [
      "/opt/anaconda3/envs/metis/lib/python3.7/site-packages/librosa/core/audio.py:161: UserWarning: PySoundFile failed. Trying audioread instead.\n",
      "  warnings.warn('PySoundFile failed. Trying audioread instead.')\n"
     ]
    },
    {
     "name": "stdout",
     "output_type": "stream",
     "text": [
      "[youtube] 3rkJ3L5Ce80: Downloading webpage\n",
      "[youtube] 3rkJ3L5Ce80: Downloading video info webpage\n",
      "[download] Destination: lil peep - benz truck (prod. smokeasac)-3rkJ3L5Ce80.webm\n",
      "[download] 100% of 3.19MiB in 00:0131MiB/s ETA 00:004\n",
      "[ffmpeg] Destination: lil peep - benz truck (prod. smokeasac)-3rkJ3L5Ce80.mp3\n",
      "Deleting original file lil peep - benz truck (prod. smokeasac)-3rkJ3L5Ce80.webm (pass -k to keep)\n"
     ]
    },
    {
     "name": "stderr",
     "output_type": "stream",
     "text": [
      "/opt/anaconda3/envs/metis/lib/python3.7/site-packages/librosa/core/audio.py:161: UserWarning: PySoundFile failed. Trying audioread instead.\n",
      "  warnings.warn('PySoundFile failed. Trying audioread instead.')\n"
     ]
    },
    {
     "name": "stdout",
     "output_type": "stream",
     "text": [
      "['LMK_WHAT’S REALLY GOOD REMIX_ FEAT_PRINCESS NOKIA_JUNGLEPUSSY_CUPCAKKE_MS. BOOGIE_100 BPM', 'KAYTRANADA_WAITIN_115 BPM', 'Rewind', 'Frontline', 'LMK', 'All the Way Down', 'SANTA MUERTE_BLUFF_94 BPM', 'LSDXOXO_TRUTH OR DARE_123 BPM', 'The High', 'Waitin']\n",
      "[youtube] -xH004y94Cw: Downloading webpage\n",
      "[youtube] -xH004y94Cw: Downloading video info webpage\n",
      "[download] Destination: LMK_WHAT’S REALLY GOOD REMIX_ FEAT_PRINCESS NOKIA_JUNGLEPUSSY_CUPCAKKE_MS. BOOGIE_100 BPM--xH004y94Cw.webm\n",
      "[download] 100% of 5.01MiB in 00:0049MiB/s ETA 00:008\n",
      "[ffmpeg] Destination: LMK_WHAT’S REALLY GOOD REMIX_ FEAT_PRINCESS NOKIA_JUNGLEPUSSY_CUPCAKKE_MS. BOOGIE_100 BPM--xH004y94Cw.mp3\n",
      "Deleting original file LMK_WHAT’S REALLY GOOD REMIX_ FEAT_PRINCESS NOKIA_JUNGLEPUSSY_CUPCAKKE_MS. BOOGIE_100 BPM--xH004y94Cw.webm (pass -k to keep)\n"
     ]
    },
    {
     "name": "stderr",
     "output_type": "stream",
     "text": [
      "/opt/anaconda3/envs/metis/lib/python3.7/site-packages/librosa/core/audio.py:161: UserWarning: PySoundFile failed. Trying audioread instead.\n",
      "  warnings.warn('PySoundFile failed. Trying audioread instead.')\n"
     ]
    },
    {
     "name": "stdout",
     "output_type": "stream",
     "text": [
      "[youtube] ZTDsCODkasA: Downloading webpage\n",
      "[youtube] ZTDsCODkasA: Downloading video info webpage\n",
      "[download] Destination: Kelela - KAYTRANADA_WAITIN_115 BPM-ZTDsCODkasA.webm\n",
      "[download] 100% of 5.16MiB in 00:0055MiB/s ETA 00:006\n",
      "[ffmpeg] Destination: Kelela - KAYTRANADA_WAITIN_115 BPM-ZTDsCODkasA.mp3\n",
      "Deleting original file Kelela - KAYTRANADA_WAITIN_115 BPM-ZTDsCODkasA.webm (pass -k to keep)\n"
     ]
    },
    {
     "name": "stderr",
     "output_type": "stream",
     "text": [
      "/opt/anaconda3/envs/metis/lib/python3.7/site-packages/librosa/core/audio.py:161: UserWarning: PySoundFile failed. Trying audioread instead.\n",
      "  warnings.warn('PySoundFile failed. Trying audioread instead.')\n"
     ]
    },
    {
     "name": "stdout",
     "output_type": "stream",
     "text": [
      "[youtube] py6PgXq0yDM: Downloading webpage\n",
      "[youtube] py6PgXq0yDM: Downloading video info webpage\n",
      "[download] Destination: Kelela - Rewind (Official Video)-py6PgXq0yDM.webm\n",
      "[download] 100% of 3.83MiB in 00:0109MiB/s ETA 00:004\n",
      "[ffmpeg] Destination: Kelela - Rewind (Official Video)-py6PgXq0yDM.mp3\n",
      "Deleting original file Kelela - Rewind (Official Video)-py6PgXq0yDM.webm (pass -k to keep)\n"
     ]
    },
    {
     "name": "stderr",
     "output_type": "stream",
     "text": [
      "/opt/anaconda3/envs/metis/lib/python3.7/site-packages/librosa/core/audio.py:161: UserWarning: PySoundFile failed. Trying audioread instead.\n",
      "  warnings.warn('PySoundFile failed. Trying audioread instead.')\n"
     ]
    },
    {
     "name": "stdout",
     "output_type": "stream",
     "text": [
      "[youtube] l227G1KSWks: Downloading webpage\n",
      "[youtube] l227G1KSWks: Downloading video info webpage\n",
      "[download] Destination: Kelela - Frontline-l227G1KSWks.webm\n",
      "[download] 100% of 5.13MiB in 00:0163MiB/s ETA 00:006\n",
      "[ffmpeg] Destination: Kelela - Frontline-l227G1KSWks.mp3\n",
      "Deleting original file Kelela - Frontline-l227G1KSWks.webm (pass -k to keep)\n"
     ]
    },
    {
     "name": "stderr",
     "output_type": "stream",
     "text": [
      "/opt/anaconda3/envs/metis/lib/python3.7/site-packages/librosa/core/audio.py:161: UserWarning: PySoundFile failed. Trying audioread instead.\n",
      "  warnings.warn('PySoundFile failed. Trying audioread instead.')\n"
     ]
    },
    {
     "name": "stdout",
     "output_type": "stream",
     "text": [
      "[youtube] ePi5BLJogyA: Downloading webpage\n",
      "[youtube] ePi5BLJogyA: Downloading video info webpage\n",
      "[download] Destination: Kelela - LMK-ePi5BLJogyA.webm\n",
      "[download] 100% of 3.32MiB in 00:0180MiB/s ETA 00:003\n",
      "[ffmpeg] Destination: Kelela - LMK-ePi5BLJogyA.mp3\n",
      "Deleting original file Kelela - LMK-ePi5BLJogyA.webm (pass -k to keep)\n"
     ]
    },
    {
     "name": "stderr",
     "output_type": "stream",
     "text": [
      "/opt/anaconda3/envs/metis/lib/python3.7/site-packages/librosa/core/audio.py:161: UserWarning: PySoundFile failed. Trying audioread instead.\n",
      "  warnings.warn('PySoundFile failed. Trying audioread instead.')\n"
     ]
    },
    {
     "name": "stdout",
     "output_type": "stream",
     "text": [
      "[youtube] q6rUS_GnOLI: Downloading webpage\n",
      "[youtube] q6rUS_GnOLI: Downloading video info webpage\n",
      "[download] Destination: All the Way Down-q6rUS_GnOLI.webm\n",
      "[download] 100% of 4.44MiB in 00:0170MiB/s ETA 00:005\n",
      "[ffmpeg] Destination: All the Way Down-q6rUS_GnOLI.mp3\n",
      "Deleting original file All the Way Down-q6rUS_GnOLI.webm (pass -k to keep)\n"
     ]
    },
    {
     "name": "stderr",
     "output_type": "stream",
     "text": [
      "/opt/anaconda3/envs/metis/lib/python3.7/site-packages/librosa/core/audio.py:161: UserWarning: PySoundFile failed. Trying audioread instead.\n",
      "  warnings.warn('PySoundFile failed. Trying audioread instead.')\n"
     ]
    },
    {
     "name": "stdout",
     "output_type": "stream",
     "text": [
      "[youtube] mFgyUwEZNFw: Downloading webpage\n",
      "[youtube] mFgyUwEZNFw: Downloading video info webpage\n",
      "[download] Destination: SANTA MUERTE_BLUFF_94 BPM-mFgyUwEZNFw.webm\n",
      "[download] 100% of 3.22MiB in 00:0070MiB/s ETA 00:004\n",
      "[ffmpeg] Destination: SANTA MUERTE_BLUFF_94 BPM-mFgyUwEZNFw.mp3\n",
      "Deleting original file SANTA MUERTE_BLUFF_94 BPM-mFgyUwEZNFw.webm (pass -k to keep)\n"
     ]
    },
    {
     "name": "stderr",
     "output_type": "stream",
     "text": [
      "/opt/anaconda3/envs/metis/lib/python3.7/site-packages/librosa/core/audio.py:161: UserWarning: PySoundFile failed. Trying audioread instead.\n",
      "  warnings.warn('PySoundFile failed. Trying audioread instead.')\n"
     ]
    },
    {
     "name": "stdout",
     "output_type": "stream",
     "text": [
      "[youtube] Bzh1VReBLvw: Downloading webpage\n",
      "[youtube] Bzh1VReBLvw: Downloading video info webpage\n",
      "[download] Destination: LSDXOXO_TRUTH OR DARE_123 BPM-Bzh1VReBLvw.webm\n",
      "[download] 100% of 4.68MiB in 00:0148MiB/s ETA 00:005\n",
      "[ffmpeg] Destination: LSDXOXO_TRUTH OR DARE_123 BPM-Bzh1VReBLvw.mp3\n",
      "Deleting original file LSDXOXO_TRUTH OR DARE_123 BPM-Bzh1VReBLvw.webm (pass -k to keep)\n"
     ]
    },
    {
     "name": "stderr",
     "output_type": "stream",
     "text": [
      "/opt/anaconda3/envs/metis/lib/python3.7/site-packages/librosa/core/audio.py:161: UserWarning: PySoundFile failed. Trying audioread instead.\n",
      "  warnings.warn('PySoundFile failed. Trying audioread instead.')\n"
     ]
    },
    {
     "name": "stdout",
     "output_type": "stream",
     "text": [
      "[youtube] ur36XHxmoBw: Downloading webpage\n",
      "[youtube] ur36XHxmoBw: Downloading video info webpage\n",
      "[download] Destination: The High-ur36XHxmoBw.webm\n",
      "[download] 100% of 5.23MiB in 00:0070MiB/s ETA 00:006\n",
      "[ffmpeg] Destination: The High-ur36XHxmoBw.mp3\n",
      "Deleting original file The High-ur36XHxmoBw.webm (pass -k to keep)\n"
     ]
    },
    {
     "name": "stderr",
     "output_type": "stream",
     "text": [
      "/opt/anaconda3/envs/metis/lib/python3.7/site-packages/librosa/core/audio.py:161: UserWarning: PySoundFile failed. Trying audioread instead.\n",
      "  warnings.warn('PySoundFile failed. Trying audioread instead.')\n"
     ]
    },
    {
     "name": "stdout",
     "output_type": "stream",
     "text": [
      "[youtube] ZTDsCODkasA: Downloading webpage\n",
      "[youtube] ZTDsCODkasA: Downloading video info webpage\n",
      "[download] Destination: Kelela - KAYTRANADA_WAITIN_115 BPM-ZTDsCODkasA.webm\n",
      "[download] 100% of 5.16MiB in 00:0001MiB/s ETA 00:007\n",
      "[ffmpeg] Destination: Kelela - KAYTRANADA_WAITIN_115 BPM-ZTDsCODkasA.mp3\n",
      "Deleting original file Kelela - KAYTRANADA_WAITIN_115 BPM-ZTDsCODkasA.webm (pass -k to keep)\n"
     ]
    },
    {
     "name": "stderr",
     "output_type": "stream",
     "text": [
      "/opt/anaconda3/envs/metis/lib/python3.7/site-packages/librosa/core/audio.py:161: UserWarning: PySoundFile failed. Trying audioread instead.\n",
      "  warnings.warn('PySoundFile failed. Trying audioread instead.')\n"
     ]
    },
    {
     "name": "stdout",
     "output_type": "stream",
     "text": [
      "['Wuthering Heights', 'Running Up That Hill (A Deal With God)', 'Cloudbusting', \"This Woman's Work\", 'Hounds Of Love', 'The Man with the Child in His Eyes', 'Babooshka - 2018 Remaster', 'And Dream Of Sheep', 'Army Dreamers - 2018 Remaster', 'The Big Sky - Special Single Mix']\n",
      "[youtube] Fk-4lXLM34g: Downloading webpage\n",
      "[youtube] Fk-4lXLM34g: Downloading video info webpage\n",
      "[download] Destination: Kate Bush - Wuthering Heights - Official Music Video - Version 2-Fk-4lXLM34g.webm\n",
      "[download] 100% of 4.08MiB in 00:0061MiB/s ETA 00:004\n",
      "[ffmpeg] Destination: Kate Bush - Wuthering Heights - Official Music Video - Version 2-Fk-4lXLM34g.mp3\n",
      "Deleting original file Kate Bush - Wuthering Heights - Official Music Video - Version 2-Fk-4lXLM34g.webm (pass -k to keep)\n"
     ]
    },
    {
     "name": "stderr",
     "output_type": "stream",
     "text": [
      "/opt/anaconda3/envs/metis/lib/python3.7/site-packages/librosa/core/audio.py:161: UserWarning: PySoundFile failed. Trying audioread instead.\n",
      "  warnings.warn('PySoundFile failed. Trying audioread instead.')\n"
     ]
    },
    {
     "name": "stdout",
     "output_type": "stream",
     "text": [
      "[youtube] wp43OdtAAkM: Downloading webpage\n",
      "[youtube] wp43OdtAAkM: Downloading video info webpage\n",
      "[download] Destination: Kate Bush - Running Up That Hill - Official Music Video-wp43OdtAAkM.webm\n",
      "[download] 100% of 4.47MiB in 00:0023MiB/s ETA 00:004\n",
      "[ffmpeg] Destination: Kate Bush - Running Up That Hill - Official Music Video-wp43OdtAAkM.mp3\n",
      "Deleting original file Kate Bush - Running Up That Hill - Official Music Video-wp43OdtAAkM.webm (pass -k to keep)\n"
     ]
    },
    {
     "name": "stderr",
     "output_type": "stream",
     "text": [
      "/opt/anaconda3/envs/metis/lib/python3.7/site-packages/librosa/core/audio.py:161: UserWarning: PySoundFile failed. Trying audioread instead.\n",
      "  warnings.warn('PySoundFile failed. Trying audioread instead.')\n"
     ]
    },
    {
     "name": "stdout",
     "output_type": "stream",
     "text": [
      "[youtube] pllRW9wETzw: Downloading webpage\n",
      "[youtube] pllRW9wETzw: Downloading video info webpage\n",
      "[download] Destination: Kate Bush - Cloudbusting - Official Music Video-pllRW9wETzw.webm\n",
      "[download] 100% of 6.50MiB in 00:0076MiB/s ETA 00:006\n",
      "[ffmpeg] Destination: Kate Bush - Cloudbusting - Official Music Video-pllRW9wETzw.mp3\n",
      "Deleting original file Kate Bush - Cloudbusting - Official Music Video-pllRW9wETzw.webm (pass -k to keep)\n"
     ]
    },
    {
     "name": "stderr",
     "output_type": "stream",
     "text": [
      "/opt/anaconda3/envs/metis/lib/python3.7/site-packages/librosa/core/audio.py:161: UserWarning: PySoundFile failed. Trying audioread instead.\n",
      "  warnings.warn('PySoundFile failed. Trying audioread instead.')\n"
     ]
    },
    {
     "name": "stdout",
     "output_type": "stream",
     "text": [
      "[youtube] 7TupvVpxY_U: Downloading webpage\n",
      "[youtube] 7TupvVpxY_U: Downloading video info webpage\n",
      "[download] Destination: Kate Bush - This Woman's Work-7TupvVpxY_U.webm\n",
      "[download] 100% of 3.49MiB in 00:0255MiB/s ETA 00:005\n",
      "[ffmpeg] Destination: Kate Bush - This Woman's Work-7TupvVpxY_U.mp3\n",
      "Deleting original file Kate Bush - This Woman's Work-7TupvVpxY_U.webm (pass -k to keep)\n"
     ]
    },
    {
     "name": "stderr",
     "output_type": "stream",
     "text": [
      "/opt/anaconda3/envs/metis/lib/python3.7/site-packages/librosa/core/audio.py:161: UserWarning: PySoundFile failed. Trying audioread instead.\n",
      "  warnings.warn('PySoundFile failed. Trying audioread instead.')\n"
     ]
    },
    {
     "name": "stdout",
     "output_type": "stream",
     "text": [
      "[youtube] VerK4zwMRQw: Downloading webpage\n",
      "[youtube] VerK4zwMRQw: Downloading video info webpage\n",
      "[download] Destination: Kate Bush - Hounds of Love - Official Music Video-VerK4zwMRQw.webm\n",
      "[download] 100% of 2.80MiB in 00:0095MiB/s ETA 00:0002\n",
      "[ffmpeg] Destination: Kate Bush - Hounds of Love - Official Music Video-VerK4zwMRQw.mp3\n",
      "Deleting original file Kate Bush - Hounds of Love - Official Music Video-VerK4zwMRQw.webm (pass -k to keep)\n"
     ]
    },
    {
     "name": "stderr",
     "output_type": "stream",
     "text": [
      "/opt/anaconda3/envs/metis/lib/python3.7/site-packages/librosa/core/audio.py:161: UserWarning: PySoundFile failed. Trying audioread instead.\n",
      "  warnings.warn('PySoundFile failed. Trying audioread instead.')\n"
     ]
    },
    {
     "name": "stdout",
     "output_type": "stream",
     "text": [
      "[youtube] NAj8suae3WY: Downloading webpage\n",
      "[youtube] NAj8suae3WY: Downloading video info webpage\n",
      "[download] Destination: Kate Bush - The Man with the Child in His Eyes - Official Music Video-NAj8suae3WY.webm\n",
      "[download] 100% of 2.85MiB in 00:0038MiB/s ETA 00:003\n",
      "[ffmpeg] Destination: Kate Bush - The Man with the Child in His Eyes - Official Music Video-NAj8suae3WY.mp3\n",
      "Deleting original file Kate Bush - The Man with the Child in His Eyes - Official Music Video-NAj8suae3WY.webm (pass -k to keep)\n"
     ]
    },
    {
     "name": "stderr",
     "output_type": "stream",
     "text": [
      "/opt/anaconda3/envs/metis/lib/python3.7/site-packages/librosa/core/audio.py:161: UserWarning: PySoundFile failed. Trying audioread instead.\n",
      "  warnings.warn('PySoundFile failed. Trying audioread instead.')\n"
     ]
    },
    {
     "name": "stdout",
     "output_type": "stream",
     "text": [
      "[youtube] 3NMhpI2-pLU: Downloading webpage\n",
      "[youtube] 3NMhpI2-pLU: Downloading video info webpage\n",
      "[download] Destination: Babooshka (2018 Remaster)-3NMhpI2-pLU.webm\n",
      "[download] 100% of 3.14MiB in 00:0111MiB/s ETA 00:004\n",
      "[ffmpeg] Destination: Babooshka (2018 Remaster)-3NMhpI2-pLU.mp3\n",
      "Deleting original file Babooshka (2018 Remaster)-3NMhpI2-pLU.webm (pass -k to keep)\n"
     ]
    },
    {
     "name": "stderr",
     "output_type": "stream",
     "text": [
      "/opt/anaconda3/envs/metis/lib/python3.7/site-packages/librosa/core/audio.py:161: UserWarning: PySoundFile failed. Trying audioread instead.\n",
      "  warnings.warn('PySoundFile failed. Trying audioread instead.')\n"
     ]
    },
    {
     "name": "stdout",
     "output_type": "stream",
     "text": [
      "[youtube] SQWs46gaCXY: Downloading webpage\n",
      "[youtube] SQWs46gaCXY: Downloading video info webpage\n",
      "[download] Destination: Kate Bush - And Dreams of Sheep-SQWs46gaCXY.webm\n",
      "[download] 100% of 2.72MiB in 00:0061MiB/s ETA 00:002\n",
      "[ffmpeg] Destination: Kate Bush - And Dreams of Sheep-SQWs46gaCXY.mp3\n",
      "Deleting original file Kate Bush - And Dreams of Sheep-SQWs46gaCXY.webm (pass -k to keep)\n"
     ]
    },
    {
     "name": "stderr",
     "output_type": "stream",
     "text": [
      "/opt/anaconda3/envs/metis/lib/python3.7/site-packages/librosa/core/audio.py:161: UserWarning: PySoundFile failed. Trying audioread instead.\n",
      "  warnings.warn('PySoundFile failed. Trying audioread instead.')\n"
     ]
    },
    {
     "name": "stdout",
     "output_type": "stream",
     "text": [
      "[youtube] U9pI40LnmHM: Downloading webpage\n",
      "[youtube] U9pI40LnmHM: Downloading video info webpage\n",
      "[download] Destination: Army Dreamers (2018 Remaster)-U9pI40LnmHM.webm\n",
      "[download] 100% of 2.88MiB in 00:0003MiB/s ETA 00:002\n",
      "[ffmpeg] Destination: Army Dreamers (2018 Remaster)-U9pI40LnmHM.mp3\n",
      "Deleting original file Army Dreamers (2018 Remaster)-U9pI40LnmHM.webm (pass -k to keep)\n"
     ]
    },
    {
     "name": "stderr",
     "output_type": "stream",
     "text": [
      "/opt/anaconda3/envs/metis/lib/python3.7/site-packages/librosa/core/audio.py:161: UserWarning: PySoundFile failed. Trying audioread instead.\n",
      "  warnings.warn('PySoundFile failed. Trying audioread instead.')\n"
     ]
    },
    {
     "name": "stdout",
     "output_type": "stream",
     "text": [
      "[youtube] _lsjXdH1tNY: Downloading webpage\n",
      "[youtube] _lsjXdH1tNY: Downloading video info webpage\n",
      "[download] Destination: The Big Sky (Special Single Mix)-_lsjXdH1tNY.webm\n",
      "[download] 100% of 4.26MiB in 00:0181MiB/s ETA 00:0004\n",
      "[ffmpeg] Destination: The Big Sky (Special Single Mix)-_lsjXdH1tNY.mp3\n",
      "Deleting original file The Big Sky (Special Single Mix)-_lsjXdH1tNY.webm (pass -k to keep)\n"
     ]
    },
    {
     "name": "stderr",
     "output_type": "stream",
     "text": [
      "/opt/anaconda3/envs/metis/lib/python3.7/site-packages/librosa/core/audio.py:161: UserWarning: PySoundFile failed. Trying audioread instead.\n",
      "  warnings.warn('PySoundFile failed. Trying audioread instead.')\n"
     ]
    },
    {
     "name": "stdout",
     "output_type": "stream",
     "text": [
      "['A Sea Of Love', 'Cubist Camouflage', 'Promises Of Fertility', 'Hear Me Out', 'Lifeblood', 'The Sacred Dance', 'On The Embankment', 'Kraanvogel', 'Marked For Life', 'Rushing To Paradise']\n",
      "[youtube] mq3GsIQLwoI: Downloading webpage\n",
      "[youtube] mq3GsIQLwoI: Downloading video info webpage\n",
      "[download] Destination: Huerco S. - A Sea Of Love-mq3GsIQLwoI.m4a\n",
      "[download] 100% of 6.64MiB in 00:0128MiB/s ETA 00:006\n",
      "[ffmpeg] Correcting container in \"Huerco S. - A Sea Of Love-mq3GsIQLwoI.m4a\"\n",
      "[ffmpeg] Destination: Huerco S. - A Sea Of Love-mq3GsIQLwoI.mp3\n",
      "Deleting original file Huerco S. - A Sea Of Love-mq3GsIQLwoI.m4a (pass -k to keep)\n"
     ]
    },
    {
     "name": "stderr",
     "output_type": "stream",
     "text": [
      "/opt/anaconda3/envs/metis/lib/python3.7/site-packages/librosa/core/audio.py:161: UserWarning: PySoundFile failed. Trying audioread instead.\n",
      "  warnings.warn('PySoundFile failed. Trying audioread instead.')\n"
     ]
    },
    {
     "name": "stdout",
     "output_type": "stream",
     "text": [
      "[youtube] bC9CV_dbmic: Downloading webpage\n",
      "[youtube] bC9CV_dbmic: Downloading video info webpage\n",
      "[download] Destination: Cubist Camouflage-bC9CV_dbmic.webm\n",
      "[download] 100% of 2.41MiB in 00:0070MiB/s ETA 00:004\n",
      "[ffmpeg] Destination: Cubist Camouflage-bC9CV_dbmic.mp3\n",
      "Deleting original file Cubist Camouflage-bC9CV_dbmic.webm (pass -k to keep)\n"
     ]
    },
    {
     "name": "stderr",
     "output_type": "stream",
     "text": [
      "/opt/anaconda3/envs/metis/lib/python3.7/site-packages/librosa/core/audio.py:161: UserWarning: PySoundFile failed. Trying audioread instead.\n",
      "  warnings.warn('PySoundFile failed. Trying audioread instead.')\n"
     ]
    },
    {
     "name": "stdout",
     "output_type": "stream",
     "text": [
      "[youtube] NpLAHsLc95o: Downloading webpage\n",
      "[youtube] NpLAHsLc95o: Downloading video info webpage\n",
      "[youtube] NpLAHsLc95o: Downloading MPD manifest\n",
      "[dashsegments] Total fragments: 43\n",
      "[download] Destination: Huerco S. - Promises Of Fertility-NpLAHsLc95o.webm\n",
      "[download] 100% of 6.51MiB in 00:05.78MiB/s ETA 00:000229\n",
      "[ffmpeg] Destination: Huerco S. - Promises Of Fertility-NpLAHsLc95o.mp3\n",
      "Deleting original file Huerco S. - Promises Of Fertility-NpLAHsLc95o.webm (pass -k to keep)\n"
     ]
    },
    {
     "name": "stderr",
     "output_type": "stream",
     "text": [
      "/opt/anaconda3/envs/metis/lib/python3.7/site-packages/librosa/core/audio.py:161: UserWarning: PySoundFile failed. Trying audioread instead.\n",
      "  warnings.warn('PySoundFile failed. Trying audioread instead.')\n"
     ]
    },
    {
     "name": "stdout",
     "output_type": "stream",
     "text": [
      "[youtube] tnYZymp_vVU: Downloading webpage\n",
      "[youtube] tnYZymp_vVU: Downloading video info webpage\n",
      "[download] Destination: Huerco S. - Hear Me Out-tnYZymp_vVU.webm\n",
      "[download] 100% of 5.69MiB in 00:0164MiB/s ETA 00:006\n",
      "[ffmpeg] Destination: Huerco S. - Hear Me Out-tnYZymp_vVU.mp3\n",
      "Deleting original file Huerco S. - Hear Me Out-tnYZymp_vVU.webm (pass -k to keep)\n"
     ]
    },
    {
     "name": "stderr",
     "output_type": "stream",
     "text": [
      "/opt/anaconda3/envs/metis/lib/python3.7/site-packages/librosa/core/audio.py:161: UserWarning: PySoundFile failed. Trying audioread instead.\n",
      "  warnings.warn('PySoundFile failed. Trying audioread instead.')\n"
     ]
    },
    {
     "name": "stdout",
     "output_type": "stream",
     "text": [
      "[youtube] geKe4vyG3ug: Downloading webpage\n",
      "[youtube] geKe4vyG3ug: Downloading video info webpage\n",
      "[download] Destination: Huerco S. - Lifeblood (Naïve Melody)-geKe4vyG3ug.webm\n",
      "[download] 100% of 7.74MiB in 00:0026MiB/s ETA 00:000\n",
      "[ffmpeg] Destination: Huerco S. - Lifeblood (Naïve Melody)-geKe4vyG3ug.mp3\n",
      "Deleting original file Huerco S. - Lifeblood (Naïve Melody)-geKe4vyG3ug.webm (pass -k to keep)\n"
     ]
    },
    {
     "name": "stderr",
     "output_type": "stream",
     "text": [
      "/opt/anaconda3/envs/metis/lib/python3.7/site-packages/librosa/core/audio.py:161: UserWarning: PySoundFile failed. Trying audioread instead.\n",
      "  warnings.warn('PySoundFile failed. Trying audioread instead.')\n"
     ]
    },
    {
     "name": "stdout",
     "output_type": "stream",
     "text": [
      "[youtube] PgR3olAuBu4: Downloading webpage\n",
      "[youtube] PgR3olAuBu4: Downloading video info webpage\n",
      "[download] Destination: The Sacred Dance-PgR3olAuBu4.webm\n",
      "[download] 100% of 5.72MiB in 00:0033MiB/s ETA 00:006\n",
      "[ffmpeg] Destination: The Sacred Dance-PgR3olAuBu4.mp3\n",
      "Deleting original file The Sacred Dance-PgR3olAuBu4.webm (pass -k to keep)\n"
     ]
    },
    {
     "name": "stderr",
     "output_type": "stream",
     "text": [
      "/opt/anaconda3/envs/metis/lib/python3.7/site-packages/librosa/core/audio.py:161: UserWarning: PySoundFile failed. Trying audioread instead.\n",
      "  warnings.warn('PySoundFile failed. Trying audioread instead.')\n"
     ]
    },
    {
     "name": "stdout",
     "output_type": "stream",
     "text": [
      "[youtube] aMgEENExanM: Downloading webpage\n",
      "[youtube] aMgEENExanM: Downloading video info webpage\n",
      "[download] Destination: Huerco S. - On The Embankment-aMgEENExanM.webm\n",
      "[download] 100% of 6.94MiB in 00:0121MiB/s ETA 00:009\n",
      "[ffmpeg] Destination: Huerco S. - On The Embankment-aMgEENExanM.mp3\n",
      "Deleting original file Huerco S. - On The Embankment-aMgEENExanM.webm (pass -k to keep)\n"
     ]
    },
    {
     "name": "stderr",
     "output_type": "stream",
     "text": [
      "/opt/anaconda3/envs/metis/lib/python3.7/site-packages/librosa/core/audio.py:161: UserWarning: PySoundFile failed. Trying audioread instead.\n",
      "  warnings.warn('PySoundFile failed. Trying audioread instead.')\n"
     ]
    },
    {
     "name": "stdout",
     "output_type": "stream",
     "text": [
      "[youtube] i9qGYndoncc: Downloading webpage\n",
      "[youtube] i9qGYndoncc: Downloading video info webpage\n",
      "[download] Destination: Kraanvogel-i9qGYndoncc.webm\n",
      "[download] 100% of 5.11MiB in 00:0063MiB/s ETA 00:007\n",
      "[ffmpeg] Destination: Kraanvogel-i9qGYndoncc.mp3\n",
      "Deleting original file Kraanvogel-i9qGYndoncc.webm (pass -k to keep)\n"
     ]
    },
    {
     "name": "stderr",
     "output_type": "stream",
     "text": [
      "/opt/anaconda3/envs/metis/lib/python3.7/site-packages/librosa/core/audio.py:161: UserWarning: PySoundFile failed. Trying audioread instead.\n",
      "  warnings.warn('PySoundFile failed. Trying audioread instead.')\n"
     ]
    },
    {
     "name": "stdout",
     "output_type": "stream",
     "text": [
      "[youtube] Rkm2aROIrSM: Downloading webpage\n",
      "[youtube] Rkm2aROIrSM: Downloading video info webpage\n",
      "[youtube] Rkm2aROIrSM: Downloading MPD manifest\n",
      "[dashsegments] Total fragments: 24\n",
      "[download] Destination: Huerco S. - Marked For Life-Rkm2aROIrSM.webm\n",
      "[download] 100% of 3.50MiB in 00:05.53MiB/s ETA 00:00045\n",
      "[ffmpeg] Destination: Huerco S. - Marked For Life-Rkm2aROIrSM.mp3\n",
      "Deleting original file Huerco S. - Marked For Life-Rkm2aROIrSM.webm (pass -k to keep)\n"
     ]
    },
    {
     "name": "stderr",
     "output_type": "stream",
     "text": [
      "/opt/anaconda3/envs/metis/lib/python3.7/site-packages/librosa/core/audio.py:161: UserWarning: PySoundFile failed. Trying audioread instead.\n",
      "  warnings.warn('PySoundFile failed. Trying audioread instead.')\n"
     ]
    },
    {
     "name": "stdout",
     "output_type": "stream",
     "text": [
      "[youtube] kRv7cfVRStY: Downloading webpage\n",
      "[youtube] kRv7cfVRStY: Downloading video info webpage\n",
      "[download] Destination: Huerco S  - Rushing To Paradise-kRv7cfVRStY.m4a\n",
      "[download] 100% of 8.48MiB in 00:0060MiB/s ETA 00:000\n",
      "[ffmpeg] Correcting container in \"Huerco S  - Rushing To Paradise-kRv7cfVRStY.m4a\"\n",
      "[ffmpeg] Destination: Huerco S  - Rushing To Paradise-kRv7cfVRStY.mp3\n",
      "Deleting original file Huerco S  - Rushing To Paradise-kRv7cfVRStY.m4a (pass -k to keep)\n"
     ]
    },
    {
     "name": "stderr",
     "output_type": "stream",
     "text": [
      "/opt/anaconda3/envs/metis/lib/python3.7/site-packages/librosa/core/audio.py:161: UserWarning: PySoundFile failed. Trying audioread instead.\n",
      "  warnings.warn('PySoundFile failed. Trying audioread instead.')\n"
     ]
    },
    {
     "name": "stdout",
     "output_type": "stream",
     "text": [
      "['Bluebird', 'The House That Built Me', 'Automatic', \"Mama's Broken Heart\", 'Tin Man', \"Somethin' Bad - (Duet with Carrie Underwood)\", 'It All Comes Out in the Wash', 'Gunpowder & Lead', 'Vice', 'We Were Us']\n",
      "[youtube] nUB8ogvze_8: Downloading webpage\n",
      "[youtube] nUB8ogvze_8: Downloading video info webpage\n",
      "[download] Destination: Miranda Lambert - Bluebird (Official Video)-nUB8ogvze_8.webm\n",
      "[download] 100% of 3.41MiB in 00:0165MiB/s ETA 00:004\n",
      "[ffmpeg] Destination: Miranda Lambert - Bluebird (Official Video)-nUB8ogvze_8.mp3\n",
      "Deleting original file Miranda Lambert - Bluebird (Official Video)-nUB8ogvze_8.webm (pass -k to keep)\n"
     ]
    },
    {
     "name": "stderr",
     "output_type": "stream",
     "text": [
      "/opt/anaconda3/envs/metis/lib/python3.7/site-packages/librosa/core/audio.py:161: UserWarning: PySoundFile failed. Trying audioread instead.\n",
      "  warnings.warn('PySoundFile failed. Trying audioread instead.')\n"
     ]
    },
    {
     "name": "stdout",
     "output_type": "stream",
     "text": [
      "[youtube] DQYNM6SjD_o: Downloading webpage\n",
      "[youtube] DQYNM6SjD_o: Downloading video info webpage\n",
      "[download] Destination: Miranda Lambert - The House That Built Me-DQYNM6SjD_o.webm\n",
      "[download] 100% of 4.25MiB in 00:0053MiB/s ETA 00:007\n",
      "[ffmpeg] Destination: Miranda Lambert - The House That Built Me-DQYNM6SjD_o.mp3\n",
      "Deleting original file Miranda Lambert - The House That Built Me-DQYNM6SjD_o.webm (pass -k to keep)\n"
     ]
    },
    {
     "name": "stderr",
     "output_type": "stream",
     "text": [
      "/opt/anaconda3/envs/metis/lib/python3.7/site-packages/librosa/core/audio.py:161: UserWarning: PySoundFile failed. Trying audioread instead.\n",
      "  warnings.warn('PySoundFile failed. Trying audioread instead.')\n"
     ]
    },
    {
     "name": "stdout",
     "output_type": "stream",
     "text": [
      "[youtube] 2ksWKOy665o: Downloading webpage\n",
      "[youtube] 2ksWKOy665o: Downloading video info webpage\n",
      "[download] Destination: Miranda Lambert - Automatic-2ksWKOy665o.webm\n",
      "[download] 100% of 3.88MiB in 00:0052MiB/s ETA 00:005\n",
      "[ffmpeg] Destination: Miranda Lambert - Automatic-2ksWKOy665o.mp3\n",
      "Deleting original file Miranda Lambert - Automatic-2ksWKOy665o.webm (pass -k to keep)\n"
     ]
    },
    {
     "name": "stderr",
     "output_type": "stream",
     "text": [
      "/opt/anaconda3/envs/metis/lib/python3.7/site-packages/librosa/core/audio.py:161: UserWarning: PySoundFile failed. Trying audioread instead.\n",
      "  warnings.warn('PySoundFile failed. Trying audioread instead.')\n"
     ]
    },
    {
     "name": "stdout",
     "output_type": "stream",
     "text": [
      "[youtube] 7yg05svXp98: Downloading webpage\n",
      "[youtube] 7yg05svXp98: Downloading video info webpage\n",
      "[download] Destination: Miranda Lambert - Mama's Broken Heart-7yg05svXp98.webm\n",
      "[download] 100% of 2.88MiB in 00:0181MiB/s ETA 00:004\n",
      "[ffmpeg] Destination: Miranda Lambert - Mama's Broken Heart-7yg05svXp98.mp3\n",
      "Deleting original file Miranda Lambert - Mama's Broken Heart-7yg05svXp98.webm (pass -k to keep)\n"
     ]
    },
    {
     "name": "stderr",
     "output_type": "stream",
     "text": [
      "/opt/anaconda3/envs/metis/lib/python3.7/site-packages/librosa/core/audio.py:161: UserWarning: PySoundFile failed. Trying audioread instead.\n",
      "  warnings.warn('PySoundFile failed. Trying audioread instead.')\n"
     ]
    },
    {
     "name": "stdout",
     "output_type": "stream",
     "text": [
      "[youtube] Y8PWkTnsrCo: Downloading webpage\n",
      "[youtube] Y8PWkTnsrCo: Downloading video info webpage\n",
      "[download] Destination: Tin Man - Miranda Lambert-Y8PWkTnsrCo.webm\n",
      "[download] 100% of 4.14MiB in 00:0154MiB/s ETA 00:006\n",
      "[ffmpeg] Destination: Tin Man - Miranda Lambert-Y8PWkTnsrCo.mp3\n",
      "Deleting original file Tin Man - Miranda Lambert-Y8PWkTnsrCo.webm (pass -k to keep)\n"
     ]
    },
    {
     "name": "stderr",
     "output_type": "stream",
     "text": [
      "/opt/anaconda3/envs/metis/lib/python3.7/site-packages/librosa/core/audio.py:161: UserWarning: PySoundFile failed. Trying audioread instead.\n",
      "  warnings.warn('PySoundFile failed. Trying audioread instead.')\n"
     ]
    },
    {
     "name": "stdout",
     "output_type": "stream",
     "text": [
      "[youtube] o4Yzj-m_SBk: Downloading webpage\n",
      "[youtube] o4Yzj-m_SBk: Downloading video info webpage\n",
      "[download] Destination: Miranda Lambert - Somethin' Bad (Official Music Video) ft. Carrie Underwood-o4Yzj-m_SBk.webm\n",
      "[download] 100% of 2.63MiB in 00:0033MiB/s ETA 00:003\n",
      "[ffmpeg] Destination: Miranda Lambert - Somethin' Bad (Official Music Video) ft. Carrie Underwood-o4Yzj-m_SBk.mp3\n",
      "Deleting original file Miranda Lambert - Somethin' Bad (Official Music Video) ft. Carrie Underwood-o4Yzj-m_SBk.webm (pass -k to keep)\n"
     ]
    },
    {
     "name": "stderr",
     "output_type": "stream",
     "text": [
      "/opt/anaconda3/envs/metis/lib/python3.7/site-packages/librosa/core/audio.py:161: UserWarning: PySoundFile failed. Trying audioread instead.\n",
      "  warnings.warn('PySoundFile failed. Trying audioread instead.')\n"
     ]
    },
    {
     "name": "stdout",
     "output_type": "stream",
     "text": [
      "[youtube] Ka7gRrEy0JM: Downloading webpage\n",
      "[youtube] Ka7gRrEy0JM: Downloading video info webpage\n",
      "[download] Destination: Miranda Lambert - It All Comes Out in the Wash (Official Video)-Ka7gRrEy0JM.webm\n",
      "[download] 100% of 3.33MiB in 00:0115MiB/s ETA 00:004\n",
      "[ffmpeg] Destination: Miranda Lambert - It All Comes Out in the Wash (Official Video)-Ka7gRrEy0JM.mp3\n",
      "Deleting original file Miranda Lambert - It All Comes Out in the Wash (Official Video)-Ka7gRrEy0JM.webm (pass -k to keep)\n"
     ]
    },
    {
     "name": "stderr",
     "output_type": "stream",
     "text": [
      "/opt/anaconda3/envs/metis/lib/python3.7/site-packages/librosa/core/audio.py:161: UserWarning: PySoundFile failed. Trying audioread instead.\n",
      "  warnings.warn('PySoundFile failed. Trying audioread instead.')\n"
     ]
    },
    {
     "name": "stdout",
     "output_type": "stream",
     "text": [
      "[youtube] aWQdEDtveB0: Downloading webpage\n",
      "[youtube] aWQdEDtveB0: Downloading video info webpage\n",
      "[download] Destination: Gunpowder & Lead-aWQdEDtveB0.webm\n",
      "[download] 100% of 2.93MiB in 00:0002MiB/s ETA 00:003\n",
      "[ffmpeg] Destination: Gunpowder & Lead-aWQdEDtveB0.mp3\n",
      "Deleting original file Gunpowder & Lead-aWQdEDtveB0.webm (pass -k to keep)\n"
     ]
    },
    {
     "name": "stderr",
     "output_type": "stream",
     "text": [
      "/opt/anaconda3/envs/metis/lib/python3.7/site-packages/librosa/core/audio.py:161: UserWarning: PySoundFile failed. Trying audioread instead.\n",
      "  warnings.warn('PySoundFile failed. Trying audioread instead.')\n"
     ]
    },
    {
     "name": "stdout",
     "output_type": "stream",
     "text": [
      "[youtube] zTlaRu_Wsl4: Downloading webpage\n",
      "[youtube] zTlaRu_Wsl4: Downloading video info webpage\n",
      "[download] Destination: Miranda Lambert - Vice-zTlaRu_Wsl4.webm\n",
      "[download] 100% of 3.38MiB in 00:0063MiB/s ETA 00:004\n",
      "[ffmpeg] Destination: Miranda Lambert - Vice-zTlaRu_Wsl4.mp3\n",
      "Deleting original file Miranda Lambert - Vice-zTlaRu_Wsl4.webm (pass -k to keep)\n"
     ]
    },
    {
     "name": "stderr",
     "output_type": "stream",
     "text": [
      "/opt/anaconda3/envs/metis/lib/python3.7/site-packages/librosa/core/audio.py:161: UserWarning: PySoundFile failed. Trying audioread instead.\n",
      "  warnings.warn('PySoundFile failed. Trying audioread instead.')\n"
     ]
    },
    {
     "name": "stdout",
     "output_type": "stream",
     "text": [
      "[youtube] dlFEJ-Ctpjc: Downloading webpage\n",
      "[youtube] dlFEJ-Ctpjc: Downloading video info webpage\n",
      "[download] Destination: Keith Urban - We Were Us ft. Miranda Lambert-dlFEJ-Ctpjc.webm\n",
      "[download] 100% of 3.16MiB in 00:0087MiB/s ETA 00:003\n",
      "[ffmpeg] Destination: Keith Urban - We Were Us ft. Miranda Lambert-dlFEJ-Ctpjc.mp3\n",
      "Deleting original file Keith Urban - We Were Us ft. Miranda Lambert-dlFEJ-Ctpjc.webm (pass -k to keep)\n"
     ]
    },
    {
     "name": "stderr",
     "output_type": "stream",
     "text": [
      "/opt/anaconda3/envs/metis/lib/python3.7/site-packages/librosa/core/audio.py:161: UserWarning: PySoundFile failed. Trying audioread instead.\n",
      "  warnings.warn('PySoundFile failed. Trying audioread instead.')\n"
     ]
    },
    {
     "name": "stdout",
     "output_type": "stream",
     "text": [
      "['Good Goodbye (feat. Pusha T and Stormzy)', 'Trouble On My Mind', 'If You Know You Know', 'The Games We Play', \"Don't Like.1 - Album Version (Edited)\", 'Drug Dealers Anonymous', 'Santeria', 'Mercy.1 - Album Version (Edited)', 'Come Back Baby', 'Coming Home (feat. Ms. Lauryn Hill)']\n",
      "[youtube] phVQZrb2AdA: Downloading webpage\n",
      "[youtube] phVQZrb2AdA: Downloading video info webpage\n",
      "[download] Destination: Good Goodbye (Official Video) - Linkin Park (feat. Pusha T and Stormzy)-phVQZrb2AdA.webm\n",
      "[download] 100% of 3.69MiB in 00:0030MiB/s ETA 00:004\n",
      "[ffmpeg] Destination: Good Goodbye (Official Video) - Linkin Park (feat. Pusha T and Stormzy)-phVQZrb2AdA.mp3\n",
      "Deleting original file Good Goodbye (Official Video) - Linkin Park (feat. Pusha T and Stormzy)-phVQZrb2AdA.webm (pass -k to keep)\n"
     ]
    },
    {
     "name": "stderr",
     "output_type": "stream",
     "text": [
      "/opt/anaconda3/envs/metis/lib/python3.7/site-packages/librosa/core/audio.py:161: UserWarning: PySoundFile failed. Trying audioread instead.\n",
      "  warnings.warn('PySoundFile failed. Trying audioread instead.')\n"
     ]
    },
    {
     "name": "stdout",
     "output_type": "stream",
     "text": [
      "[youtube] 2GKL_ZoJQjc: Downloading webpage\n",
      "[youtube] 2GKL_ZoJQjc: Downloading video info webpage\n",
      "[download] Destination: Pusha T - Trouble On My Mind feat. Tyler, The Creator (Official Video)-2GKL_ZoJQjc.webm\n",
      "[download] 100% of 3.82MiB in 00:0049MiB/s ETA 00:005\n",
      "[ffmpeg] Destination: Pusha T - Trouble On My Mind feat. Tyler, The Creator (Official Video)-2GKL_ZoJQjc.mp3\n",
      "Deleting original file Pusha T - Trouble On My Mind feat. Tyler, The Creator (Official Video)-2GKL_ZoJQjc.webm (pass -k to keep)\n"
     ]
    },
    {
     "name": "stderr",
     "output_type": "stream",
     "text": [
      "/opt/anaconda3/envs/metis/lib/python3.7/site-packages/librosa/core/audio.py:161: UserWarning: PySoundFile failed. Trying audioread instead.\n",
      "  warnings.warn('PySoundFile failed. Trying audioread instead.')\n"
     ]
    },
    {
     "name": "stdout",
     "output_type": "stream",
     "text": [
      "[youtube] L7-0ugujS2U: Downloading webpage\n",
      "[youtube] L7-0ugujS2U: Downloading video info webpage\n",
      "[download] Destination: Pusha T - If You Know You Know-L7-0ugujS2U.webm\n",
      "[download] 100% of 3.66MiB in 00:0016MiB/s ETA 00:00known ETA\n",
      "[ffmpeg] Destination: Pusha T - If You Know You Know-L7-0ugujS2U.mp3\n",
      "Deleting original file Pusha T - If You Know You Know-L7-0ugujS2U.webm (pass -k to keep)\n"
     ]
    },
    {
     "name": "stderr",
     "output_type": "stream",
     "text": [
      "/opt/anaconda3/envs/metis/lib/python3.7/site-packages/librosa/core/audio.py:161: UserWarning: PySoundFile failed. Trying audioread instead.\n",
      "  warnings.warn('PySoundFile failed. Trying audioread instead.')\n"
     ]
    },
    {
     "name": "stdout",
     "output_type": "stream",
     "text": [
      "[youtube] 7kiNsjeYsVs: Downloading webpage\n",
      "[youtube] 7kiNsjeYsVs: Downloading video info webpage\n",
      "[download] Destination: The Games We Play-7kiNsjeYsVs.webm\n",
      "[download] 100% of 2.67MiB in 00:0205MiB/s ETA 00:003\n",
      "[ffmpeg] Destination: The Games We Play-7kiNsjeYsVs.mp3\n",
      "Deleting original file The Games We Play-7kiNsjeYsVs.webm (pass -k to keep)\n"
     ]
    },
    {
     "name": "stderr",
     "output_type": "stream",
     "text": [
      "/opt/anaconda3/envs/metis/lib/python3.7/site-packages/librosa/core/audio.py:161: UserWarning: PySoundFile failed. Trying audioread instead.\n",
      "  warnings.warn('PySoundFile failed. Trying audioread instead.')\n"
     ]
    },
    {
     "name": "stdout",
     "output_type": "stream",
     "text": [
      "[youtube] n3yyNfZS7pQ: Downloading webpage\n",
      "[youtube] n3yyNfZS7pQ: Downloading video info webpage\n",
      "[download] Destination: Don't Like.1-n3yyNfZS7pQ.webm\n",
      "[download] 100% of 4.29MiB in 00:0253MiB/s ETA 00:004\n",
      "[ffmpeg] Destination: Don't Like.1-n3yyNfZS7pQ.mp3\n",
      "Deleting original file Don't Like.1-n3yyNfZS7pQ.webm (pass -k to keep)\n"
     ]
    },
    {
     "name": "stderr",
     "output_type": "stream",
     "text": [
      "/opt/anaconda3/envs/metis/lib/python3.7/site-packages/librosa/core/audio.py:161: UserWarning: PySoundFile failed. Trying audioread instead.\n",
      "  warnings.warn('PySoundFile failed. Trying audioread instead.')\n"
     ]
    },
    {
     "name": "stdout",
     "output_type": "stream",
     "text": [
      "[youtube] COCpn1W13Kw: Downloading webpage\n",
      "[youtube] COCpn1W13Kw: Downloading video info webpage\n",
      "[download] Destination: Pusha T - Drug Dealers Anonymous Feat. Jay Z  (Official Version)-COCpn1W13Kw.webm\n",
      "[download] 100% of 4.29MiB in 00:0059MiB/s ETA 00:006\n",
      "[ffmpeg] Destination: Pusha T - Drug Dealers Anonymous Feat. Jay Z  (Official Version)-COCpn1W13Kw.mp3\n",
      "Deleting original file Pusha T - Drug Dealers Anonymous Feat. Jay Z  (Official Version)-COCpn1W13Kw.webm (pass -k to keep)\n"
     ]
    },
    {
     "name": "stderr",
     "output_type": "stream",
     "text": [
      "/opt/anaconda3/envs/metis/lib/python3.7/site-packages/librosa/core/audio.py:161: UserWarning: PySoundFile failed. Trying audioread instead.\n",
      "  warnings.warn('PySoundFile failed. Trying audioread instead.')\n"
     ]
    },
    {
     "name": "stdout",
     "output_type": "stream",
     "text": [
      "[youtube] RMhIC6195KU: Downloading webpage\n",
      "[youtube] RMhIC6195KU: Downloading video info webpage\n",
      "[download] Destination: Santeria-RMhIC6195KU.webm\n",
      "[download] 100% of 2.84MiB in 00:0141MiB/s ETA 00:004\n",
      "[ffmpeg] Destination: Santeria-RMhIC6195KU.mp3\n",
      "Deleting original file Santeria-RMhIC6195KU.webm (pass -k to keep)\n"
     ]
    },
    {
     "name": "stderr",
     "output_type": "stream",
     "text": [
      "/opt/anaconda3/envs/metis/lib/python3.7/site-packages/librosa/core/audio.py:161: UserWarning: PySoundFile failed. Trying audioread instead.\n",
      "  warnings.warn('PySoundFile failed. Trying audioread instead.')\n"
     ]
    },
    {
     "name": "stdout",
     "output_type": "stream",
     "text": [
      "[youtube] 7Dqgr0wNyPo: Downloading webpage\n",
      "[youtube] 7Dqgr0wNyPo: Downloading video info webpage\n",
      "[download] Destination: Kanye West - Mercy (Explicit) ft. Big Sean, Pusha T, 2 Chainz-7Dqgr0wNyPo.webm\n",
      "[download] 100% of 5.59MiB in 00:0177MiB/s ETA 00:005\n",
      "[ffmpeg] Destination: Kanye West - Mercy (Explicit) ft. Big Sean, Pusha T, 2 Chainz-7Dqgr0wNyPo.mp3\n",
      "Deleting original file Kanye West - Mercy (Explicit) ft. Big Sean, Pusha T, 2 Chainz-7Dqgr0wNyPo.webm (pass -k to keep)\n"
     ]
    },
    {
     "name": "stderr",
     "output_type": "stream",
     "text": [
      "/opt/anaconda3/envs/metis/lib/python3.7/site-packages/librosa/core/audio.py:161: UserWarning: PySoundFile failed. Trying audioread instead.\n",
      "  warnings.warn('PySoundFile failed. Trying audioread instead.')\n"
     ]
    },
    {
     "name": "stdout",
     "output_type": "stream",
     "text": [
      "[youtube] sul4duD8e6U: Downloading webpage\n",
      "[youtube] sul4duD8e6U: Downloading video info webpage\n",
      "[download] Destination: Come Back Baby-sul4duD8e6U.webm\n",
      "[download] 100% of 3.15MiB in 00:0062MiB/s ETA 00:003\n",
      "[ffmpeg] Destination: Come Back Baby-sul4duD8e6U.mp3\n",
      "Deleting original file Come Back Baby-sul4duD8e6U.webm (pass -k to keep)\n"
     ]
    },
    {
     "name": "stderr",
     "output_type": "stream",
     "text": [
      "/opt/anaconda3/envs/metis/lib/python3.7/site-packages/librosa/core/audio.py:161: UserWarning: PySoundFile failed. Trying audioread instead.\n",
      "  warnings.warn('PySoundFile failed. Trying audioread instead.')\n"
     ]
    },
    {
     "name": "stdout",
     "output_type": "stream",
     "text": [
      "[youtube] 9bx_r7H7eF8: Downloading webpage\n",
      "[youtube] 9bx_r7H7eF8: Downloading video info webpage\n",
      "[download] Destination: Pusha T - Coming Home (Audio) ft. Ms. Lauryn Hill-9bx_r7H7eF8.webm\n",
      "[download] 100% of 3.36MiB in 00:0045MiB/s ETA 00:005\n",
      "[ffmpeg] Destination: Pusha T - Coming Home (Audio) ft. Ms. Lauryn Hill-9bx_r7H7eF8.mp3\n",
      "Deleting original file Pusha T - Coming Home (Audio) ft. Ms. Lauryn Hill-9bx_r7H7eF8.webm (pass -k to keep)\n"
     ]
    },
    {
     "name": "stderr",
     "output_type": "stream",
     "text": [
      "/opt/anaconda3/envs/metis/lib/python3.7/site-packages/librosa/core/audio.py:161: UserWarning: PySoundFile failed. Trying audioread instead.\n",
      "  warnings.warn('PySoundFile failed. Trying audioread instead.')\n"
     ]
    },
    {
     "name": "stdout",
     "output_type": "stream",
     "text": [
      "['Pain Killer', 'Against the Moon', \"The Lord's Favorite\", 'Balm of Gilead', 'Catch it', 'Plowing Into the Field of Love', 'Hurrah', 'On My Fingers', 'Under the sun', 'Lockdown Blues']\n",
      "[youtube] 4nbLSGDeQSE: Downloading webpage\n",
      "[youtube] 4nbLSGDeQSE: Downloading video info webpage\n",
      "[download] Destination: Iceage - Pain Killer (feat. Sky Ferreira) (Official Music Video)-4nbLSGDeQSE.m4a\n",
      "[download] 100% of 3.44MiB in 00:0140MiB/s ETA 00:004\n",
      "[ffmpeg] Correcting container in \"Iceage - Pain Killer (feat. Sky Ferreira) (Official Music Video)-4nbLSGDeQSE.m4a\"\n",
      "[ffmpeg] Destination: Iceage - Pain Killer (feat. Sky Ferreira) (Official Music Video)-4nbLSGDeQSE.mp3\n",
      "Deleting original file Iceage - Pain Killer (feat. Sky Ferreira) (Official Music Video)-4nbLSGDeQSE.m4a (pass -k to keep)\n"
     ]
    },
    {
     "name": "stderr",
     "output_type": "stream",
     "text": [
      "/opt/anaconda3/envs/metis/lib/python3.7/site-packages/librosa/core/audio.py:161: UserWarning: PySoundFile failed. Trying audioread instead.\n",
      "  warnings.warn('PySoundFile failed. Trying audioread instead.')\n"
     ]
    },
    {
     "name": "stdout",
     "output_type": "stream",
     "text": [
      "[youtube] Z0z3SRcKYE4: Downloading webpage\n",
      "[youtube] Z0z3SRcKYE4: Downloading video info webpage\n",
      "[download] Destination: Iceage - Against The Moon-Z0z3SRcKYE4.webm\n",
      "[download] 100% of 3.28MiB in 00:0127MiB/s ETA 00:004\n",
      "[ffmpeg] Destination: Iceage - Against The Moon-Z0z3SRcKYE4.mp3\n",
      "Deleting original file Iceage - Against The Moon-Z0z3SRcKYE4.webm (pass -k to keep)\n"
     ]
    },
    {
     "name": "stderr",
     "output_type": "stream",
     "text": [
      "/opt/anaconda3/envs/metis/lib/python3.7/site-packages/librosa/core/audio.py:161: UserWarning: PySoundFile failed. Trying audioread instead.\n",
      "  warnings.warn('PySoundFile failed. Trying audioread instead.')\n"
     ]
    },
    {
     "name": "stdout",
     "output_type": "stream",
     "text": [
      "[youtube] roB4hRdLlas: Downloading webpage\n",
      "[youtube] roB4hRdLlas: Downloading video info webpage\n",
      "[download] Destination: Iceage - The Lord's Favorite-roB4hRdLlas.webm\n",
      "[download] 100% of 3.57MiB in 00:0064MiB/s ETA 00:005\n",
      "[ffmpeg] Destination: Iceage - The Lord's Favorite-roB4hRdLlas.mp3\n",
      "Deleting original file Iceage - The Lord's Favorite-roB4hRdLlas.webm (pass -k to keep)\n"
     ]
    },
    {
     "name": "stderr",
     "output_type": "stream",
     "text": [
      "/opt/anaconda3/envs/metis/lib/python3.7/site-packages/librosa/core/audio.py:161: UserWarning: PySoundFile failed. Trying audioread instead.\n",
      "  warnings.warn('PySoundFile failed. Trying audioread instead.')\n"
     ]
    },
    {
     "name": "stdout",
     "output_type": "stream",
     "text": [
      "[youtube] nqY2SPZ4H9s: Downloading webpage\n",
      "[youtube] nqY2SPZ4H9s: Downloading video info webpage\n",
      "[download] Destination: Iceage - Balm of Gilead (Official Audio)-nqY2SPZ4H9s.webm\n",
      "[download] 100% of 2.91MiB in 00:0091MiB/s ETA 00:003\n",
      "[ffmpeg] Destination: Iceage - Balm of Gilead (Official Audio)-nqY2SPZ4H9s.mp3\n",
      "Deleting original file Iceage - Balm of Gilead (Official Audio)-nqY2SPZ4H9s.webm (pass -k to keep)\n"
     ]
    },
    {
     "name": "stderr",
     "output_type": "stream",
     "text": [
      "/opt/anaconda3/envs/metis/lib/python3.7/site-packages/librosa/core/audio.py:161: UserWarning: PySoundFile failed. Trying audioread instead.\n",
      "  warnings.warn('PySoundFile failed. Trying audioread instead.')\n"
     ]
    },
    {
     "name": "stdout",
     "output_type": "stream",
     "text": [
      "[youtube] xdRnQ3tHy1o: Downloading webpage\n",
      "[youtube] xdRnQ3tHy1o: Downloading video info webpage\n",
      "[download] Destination: Iceage - Catch It-xdRnQ3tHy1o.m4a\n",
      "[download] 100% of 5.24MiB in 00:0085MiB/s ETA 00:006\n",
      "[ffmpeg] Correcting container in \"Iceage - Catch It-xdRnQ3tHy1o.m4a\"\n",
      "[ffmpeg] Destination: Iceage - Catch It-xdRnQ3tHy1o.mp3\n",
      "Deleting original file Iceage - Catch It-xdRnQ3tHy1o.m4a (pass -k to keep)\n"
     ]
    },
    {
     "name": "stderr",
     "output_type": "stream",
     "text": [
      "/opt/anaconda3/envs/metis/lib/python3.7/site-packages/librosa/core/audio.py:161: UserWarning: PySoundFile failed. Trying audioread instead.\n",
      "  warnings.warn('PySoundFile failed. Trying audioread instead.')\n"
     ]
    },
    {
     "name": "stdout",
     "output_type": "stream",
     "text": [
      "[youtube] HX76LXiqXHc: Downloading webpage\n",
      "[youtube] HX76LXiqXHc: Downloading video info webpage\n",
      "[download] Destination: Iceage - Plowing Into the Field of Love-HX76LXiqXHc.m4a\n",
      "[download] 100% of 3.79MiB in 00:0126MiB/s ETA 00:004\n",
      "[ffmpeg] Correcting container in \"Iceage - Plowing Into the Field of Love-HX76LXiqXHc.m4a\"\n",
      "[ffmpeg] Destination: Iceage - Plowing Into the Field of Love-HX76LXiqXHc.mp3\n",
      "Deleting original file Iceage - Plowing Into the Field of Love-HX76LXiqXHc.m4a (pass -k to keep)\n"
     ]
    },
    {
     "name": "stderr",
     "output_type": "stream",
     "text": [
      "/opt/anaconda3/envs/metis/lib/python3.7/site-packages/librosa/core/audio.py:161: UserWarning: PySoundFile failed. Trying audioread instead.\n",
      "  warnings.warn('PySoundFile failed. Trying audioread instead.')\n"
     ]
    },
    {
     "name": "stdout",
     "output_type": "stream",
     "text": [
      "[youtube] 6LX04SpaQS4: Downloading webpage\n",
      "[youtube] 6LX04SpaQS4: Downloading video info webpage\n",
      "[download] Destination: Hurrah-6LX04SpaQS4.webm\n",
      "[download] 100% of 3.87MiB in 00:0070MiB/s ETA 00:004\n",
      "[ffmpeg] Destination: Hurrah-6LX04SpaQS4.mp3\n",
      "Deleting original file Hurrah-6LX04SpaQS4.webm (pass -k to keep)\n"
     ]
    },
    {
     "name": "stderr",
     "output_type": "stream",
     "text": [
      "/opt/anaconda3/envs/metis/lib/python3.7/site-packages/librosa/core/audio.py:161: UserWarning: PySoundFile failed. Trying audioread instead.\n",
      "  warnings.warn('PySoundFile failed. Trying audioread instead.')\n"
     ]
    },
    {
     "name": "stdout",
     "output_type": "stream",
     "text": [
      "[youtube] wDjzcuZrr9I: Downloading webpage\n",
      "[youtube] wDjzcuZrr9I: Downloading video info webpage\n"
     ]
    },
    {
     "name": "stderr",
     "output_type": "stream",
     "text": [
      "ERROR: Signature extraction failed: Traceback (most recent call last):\n",
      "  File \"/opt/anaconda3/envs/metis/lib/python3.7/site-packages/youtube_dl/extractor/youtube.py\", line 1385, in _decrypt_signature\n",
      "    video_id, player_url, s\n",
      "  File \"/opt/anaconda3/envs/metis/lib/python3.7/site-packages/youtube_dl/extractor/youtube.py\", line 1262, in _extract_signature_function\n",
      "    raise ExtractorError('Cannot identify player %r' % player_url)\n",
      "youtube_dl.utils.ExtractorError: Cannot identify player 'https://www.youtube.com/s/player/6b56e673/player_ias.vflset/en_US/base.js'; please report this issue on https://yt-dl.org/bug . Make sure you are using the latest version; see  https://yt-dl.org/update  on how to update. Be sure to call youtube-dl with the --verbose flag and include its complete output.\n",
      " (caused by ExtractorError(\"Cannot identify player 'https://www.youtube.com/s/player/6b56e673/player_ias.vflset/en_US/base.js'; please report this issue on https://yt-dl.org/bug . Make sure you are using the latest version; see  https://yt-dl.org/update  on how to update. Be sure to call youtube-dl with the --verbose flag and include its complete output.\")); please report this issue on https://yt-dl.org/bug . Make sure you are using the latest version; see  https://yt-dl.org/update  on how to update. Be sure to call youtube-dl with the --verbose flag and include its complete output.\n"
     ]
    },
    {
     "name": "stdout",
     "output_type": "stream",
     "text": [
      "Audio extraction failed\n",
      "[youtube] P-nOdShPN-g: Downloading webpage\n",
      "[youtube] P-nOdShPN-g: Downloading video info webpage\n",
      "[download] Destination: Iceage - Under The Sun (AZUMA MAKOTO FLORAL INSTALLATION “CRAZY GARDEN × ICEAGE”)-P-nOdShPN-g.webm\n",
      "[download] 100% of 4.06MiB in 00:0049MiB/s ETA 00:004\n",
      "[ffmpeg] Destination: Iceage - Under The Sun (AZUMA MAKOTO FLORAL INSTALLATION “CRAZY GARDEN × ICEAGE”)-P-nOdShPN-g.mp3\n",
      "Deleting original file Iceage - Under The Sun (AZUMA MAKOTO FLORAL INSTALLATION “CRAZY GARDEN × ICEAGE”)-P-nOdShPN-g.webm (pass -k to keep)\n"
     ]
    },
    {
     "name": "stderr",
     "output_type": "stream",
     "text": [
      "/opt/anaconda3/envs/metis/lib/python3.7/site-packages/librosa/core/audio.py:161: UserWarning: PySoundFile failed. Trying audioread instead.\n",
      "  warnings.warn('PySoundFile failed. Trying audioread instead.')\n"
     ]
    },
    {
     "name": "stdout",
     "output_type": "stream",
     "text": [
      "[youtube] rqSlml_c1lA: Downloading webpage\n",
      "[youtube] rqSlml_c1lA: Downloading video info webpage\n",
      "[download] Destination: Iceage - Lockdown Blues (Lyric Video)-rqSlml_c1lA.webm\n",
      "[download] 100% of 3.58MiB in 00:0105MiB/s ETA 00:004\n",
      "[ffmpeg] Destination: Iceage - Lockdown Blues (Lyric Video)-rqSlml_c1lA.mp3\n",
      "Deleting original file Iceage - Lockdown Blues (Lyric Video)-rqSlml_c1lA.webm (pass -k to keep)\n"
     ]
    },
    {
     "name": "stderr",
     "output_type": "stream",
     "text": [
      "/opt/anaconda3/envs/metis/lib/python3.7/site-packages/librosa/core/audio.py:161: UserWarning: PySoundFile failed. Trying audioread instead.\n",
      "  warnings.warn('PySoundFile failed. Trying audioread instead.')\n"
     ]
    },
    {
     "name": "stdout",
     "output_type": "stream",
     "text": [
      "['Anchin Kfu Ayinkash', 'Wede Harer Guzo', 'Yefikir Engurguro', 'Sintayehu', 'Migibima Moltual', 'Bayne Lay Yihedal', 'Embuwa Bey Lamitu', 'Yefkir Engurguro - Mixed', 'Yene Mircha', 'Semen Ena Debub']\n",
      "[youtube] CU9n63ANaEc: Downloading webpage\n",
      "[youtube] CU9n63ANaEc: Downloading video info webpage\n",
      "[download] Destination: Hailu Mergia & Dahlak Band — Anchin Kfu Ayinkash-CU9n63ANaEc.m4a\n",
      "[download] 100% of 5.04MiB in 00:0183MiB/s ETA 00:005\n",
      "[ffmpeg] Correcting container in \"Hailu Mergia & Dahlak Band — Anchin Kfu Ayinkash-CU9n63ANaEc.m4a\"\n",
      "[ffmpeg] Destination: Hailu Mergia & Dahlak Band — Anchin Kfu Ayinkash-CU9n63ANaEc.mp3\n",
      "Deleting original file Hailu Mergia & Dahlak Band — Anchin Kfu Ayinkash-CU9n63ANaEc.m4a (pass -k to keep)\n"
     ]
    },
    {
     "name": "stderr",
     "output_type": "stream",
     "text": [
      "/opt/anaconda3/envs/metis/lib/python3.7/site-packages/librosa/core/audio.py:161: UserWarning: PySoundFile failed. Trying audioread instead.\n",
      "  warnings.warn('PySoundFile failed. Trying audioread instead.')\n"
     ]
    },
    {
     "name": "stdout",
     "output_type": "stream",
     "text": [
      "[youtube] R0pDkwNmjZY: Downloading webpage\n",
      "[youtube] R0pDkwNmjZY: Downloading video info webpage\n",
      "[download] Destination: Hailu Mergia & Dahlak Band - Wede Harer Guzo [Awesome Tapes From Africa]-R0pDkwNmjZY.m4a\n",
      "[download] 100% of 6.00MiB in 00:0108MiB/s ETA 00:008\n",
      "[ffmpeg] Correcting container in \"Hailu Mergia & Dahlak Band - Wede Harer Guzo [Awesome Tapes From Africa]-R0pDkwNmjZY.m4a\"\n",
      "[ffmpeg] Destination: Hailu Mergia & Dahlak Band - Wede Harer Guzo [Awesome Tapes From Africa]-R0pDkwNmjZY.mp3\n",
      "Deleting original file Hailu Mergia & Dahlak Band - Wede Harer Guzo [Awesome Tapes From Africa]-R0pDkwNmjZY.m4a (pass -k to keep)\n"
     ]
    },
    {
     "name": "stderr",
     "output_type": "stream",
     "text": [
      "/opt/anaconda3/envs/metis/lib/python3.7/site-packages/librosa/core/audio.py:161: UserWarning: PySoundFile failed. Trying audioread instead.\n",
      "  warnings.warn('PySoundFile failed. Trying audioread instead.')\n"
     ]
    },
    {
     "name": "stdout",
     "output_type": "stream",
     "text": [
      "[youtube] NRgNFbOPm0E: Downloading webpage\n",
      "[youtube] NRgNFbOPm0E: Downloading video info webpage\n",
      "[download] Destination: Hailu Mergia - Yefikir Engurguro-NRgNFbOPm0E.webm\n",
      "[download] 100% of 6.83MiB in 00:0172MiB/s ETA 00:0006\n",
      "[ffmpeg] Destination: Hailu Mergia - Yefikir Engurguro-NRgNFbOPm0E.mp3\n",
      "Deleting original file Hailu Mergia - Yefikir Engurguro-NRgNFbOPm0E.webm (pass -k to keep)\n"
     ]
    },
    {
     "name": "stderr",
     "output_type": "stream",
     "text": [
      "/opt/anaconda3/envs/metis/lib/python3.7/site-packages/librosa/core/audio.py:161: UserWarning: PySoundFile failed. Trying audioread instead.\n",
      "  warnings.warn('PySoundFile failed. Trying audioread instead.')\n"
     ]
    },
    {
     "name": "stdout",
     "output_type": "stream",
     "text": [
      "[youtube] Z0D5NnUFfC4: Downloading webpage\n",
      "[youtube] Z0D5NnUFfC4: Downloading video info webpage\n",
      "[download] Destination: Hailu Mergia & Dahlak Band — Sintayehu [Ethiopia]-Z0D5NnUFfC4.m4a\n",
      "[download] 100% of 6.19MiB in 00:0067MiB/s ETA 00:000\n",
      "[ffmpeg] Correcting container in \"Hailu Mergia & Dahlak Band — Sintayehu [Ethiopia]-Z0D5NnUFfC4.m4a\"\n",
      "[ffmpeg] Destination: Hailu Mergia & Dahlak Band — Sintayehu [Ethiopia]-Z0D5NnUFfC4.mp3\n",
      "Deleting original file Hailu Mergia & Dahlak Band — Sintayehu [Ethiopia]-Z0D5NnUFfC4.m4a (pass -k to keep)\n"
     ]
    },
    {
     "name": "stderr",
     "output_type": "stream",
     "text": [
      "/opt/anaconda3/envs/metis/lib/python3.7/site-packages/librosa/core/audio.py:161: UserWarning: PySoundFile failed. Trying audioread instead.\n",
      "  warnings.warn('PySoundFile failed. Trying audioread instead.')\n"
     ]
    },
    {
     "name": "stdout",
     "output_type": "stream",
     "text": [
      "[youtube] v2fFWLKAxMo: Downloading webpage\n",
      "[youtube] v2fFWLKAxMo: Downloading video info webpage\n",
      "[download] Destination: Hailu Mergia & Dahlak Band — Migibima Moltual-v2fFWLKAxMo.m4a\n",
      "[download] 100% of 6.00MiB in 00:0152MiB/s ETA 00:000\n",
      "[ffmpeg] Correcting container in \"Hailu Mergia & Dahlak Band — Migibima Moltual-v2fFWLKAxMo.m4a\"\n",
      "[ffmpeg] Destination: Hailu Mergia & Dahlak Band — Migibima Moltual-v2fFWLKAxMo.mp3\n",
      "Deleting original file Hailu Mergia & Dahlak Band — Migibima Moltual-v2fFWLKAxMo.m4a (pass -k to keep)\n"
     ]
    },
    {
     "name": "stderr",
     "output_type": "stream",
     "text": [
      "/opt/anaconda3/envs/metis/lib/python3.7/site-packages/librosa/core/audio.py:161: UserWarning: PySoundFile failed. Trying audioread instead.\n",
      "  warnings.warn('PySoundFile failed. Trying audioread instead.')\n"
     ]
    },
    {
     "name": "stdout",
     "output_type": "stream",
     "text": [
      "[youtube] ABGpRxTIOVY: Downloading webpage\n",
      "[youtube] ABGpRxTIOVY: Downloading video info webpage\n",
      "[youtube] ABGpRxTIOVY: Downloading MPD manifest\n",
      "[dashsegments] Total fragments: 32\n",
      "[download] Destination: Hailu Mergia — Bayine Lay Yihedal-ABGpRxTIOVY.webm\n",
      "[download] 100% of 5.35MiB in 00:03.65MiB/s ETA 00:00012\n",
      "[ffmpeg] Destination: Hailu Mergia — Bayine Lay Yihedal-ABGpRxTIOVY.mp3\n",
      "Deleting original file Hailu Mergia — Bayine Lay Yihedal-ABGpRxTIOVY.webm (pass -k to keep)\n"
     ]
    },
    {
     "name": "stderr",
     "output_type": "stream",
     "text": [
      "/opt/anaconda3/envs/metis/lib/python3.7/site-packages/librosa/core/audio.py:161: UserWarning: PySoundFile failed. Trying audioread instead.\n",
      "  warnings.warn('PySoundFile failed. Trying audioread instead.')\n"
     ]
    },
    {
     "name": "stdout",
     "output_type": "stream",
     "text": [
      "[youtube] hNueC_1ba1s: Downloading webpage\n",
      "[youtube] hNueC_1ba1s: Downloading video info webpage\n",
      "[download] Destination: Hailu Mergia & Dahlak Band — Embuwa Bey Lamitu-hNueC_1ba1s.m4a\n",
      "[download] 100% of 5.66MiB in 00:0125MiB/s ETA 00:0005\n",
      "[ffmpeg] Correcting container in \"Hailu Mergia & Dahlak Band — Embuwa Bey Lamitu-hNueC_1ba1s.m4a\"\n",
      "[ffmpeg] Destination: Hailu Mergia & Dahlak Band — Embuwa Bey Lamitu-hNueC_1ba1s.mp3\n",
      "Deleting original file Hailu Mergia & Dahlak Band — Embuwa Bey Lamitu-hNueC_1ba1s.m4a (pass -k to keep)\n"
     ]
    },
    {
     "name": "stderr",
     "output_type": "stream",
     "text": [
      "/opt/anaconda3/envs/metis/lib/python3.7/site-packages/librosa/core/audio.py:161: UserWarning: PySoundFile failed. Trying audioread instead.\n",
      "  warnings.warn('PySoundFile failed. Trying audioread instead.')\n"
     ]
    },
    {
     "name": "stdout",
     "output_type": "stream",
     "text": [
      "[youtube] NRgNFbOPm0E: Downloading webpage\n",
      "[youtube] NRgNFbOPm0E: Downloading video info webpage\n",
      "[download] Destination: Hailu Mergia - Yefikir Engurguro-NRgNFbOPm0E.webm\n",
      "[download] 100% of 6.83MiB in 00:0027MiB/s ETA 00:009\n",
      "[ffmpeg] Destination: Hailu Mergia - Yefikir Engurguro-NRgNFbOPm0E.mp3\n",
      "Deleting original file Hailu Mergia - Yefikir Engurguro-NRgNFbOPm0E.webm (pass -k to keep)\n"
     ]
    },
    {
     "name": "stderr",
     "output_type": "stream",
     "text": [
      "/opt/anaconda3/envs/metis/lib/python3.7/site-packages/librosa/core/audio.py:161: UserWarning: PySoundFile failed. Trying audioread instead.\n",
      "  warnings.warn('PySoundFile failed. Trying audioread instead.')\n"
     ]
    },
    {
     "name": "stdout",
     "output_type": "stream",
     "text": [
      "[youtube] whejbnXfcbw: Downloading webpage\n",
      "[youtube] whejbnXfcbw: Downloading video info webpage\n",
      "[youtube] whejbnXfcbw: Downloading MPD manifest\n",
      "[dashsegments] Total fragments: 30\n",
      "[download] Destination: Hailu Mergia — Yene Mircha-whejbnXfcbw.webm\n",
      "[download] 100% of 4.86MiB in 00:05.45MiB/s ETA 00:00040\n",
      "[ffmpeg] Destination: Hailu Mergia — Yene Mircha-whejbnXfcbw.mp3\n",
      "Deleting original file Hailu Mergia — Yene Mircha-whejbnXfcbw.webm (pass -k to keep)\n"
     ]
    },
    {
     "name": "stderr",
     "output_type": "stream",
     "text": [
      "/opt/anaconda3/envs/metis/lib/python3.7/site-packages/librosa/core/audio.py:161: UserWarning: PySoundFile failed. Trying audioread instead.\n",
      "  warnings.warn('PySoundFile failed. Trying audioread instead.')\n"
     ]
    },
    {
     "name": "stdout",
     "output_type": "stream",
     "text": [
      "[youtube] ZAQ6rjz-XaU: Downloading webpage\n",
      "[youtube] ZAQ6rjz-XaU: Downloading video info webpage\n",
      "[download] Destination: Semen Ena Debub-ZAQ6rjz-XaU.webm\n",
      "[download] 100% of 6.22MiB in 00:0150MiB/s ETA 00:007\n",
      "[ffmpeg] Destination: Semen Ena Debub-ZAQ6rjz-XaU.mp3\n",
      "Deleting original file Semen Ena Debub-ZAQ6rjz-XaU.webm (pass -k to keep)\n"
     ]
    },
    {
     "name": "stderr",
     "output_type": "stream",
     "text": [
      "/opt/anaconda3/envs/metis/lib/python3.7/site-packages/librosa/core/audio.py:161: UserWarning: PySoundFile failed. Trying audioread instead.\n",
      "  warnings.warn('PySoundFile failed. Trying audioread instead.')\n"
     ]
    },
    {
     "name": "stdout",
     "output_type": "stream",
     "text": [
      "['circle the drain', 'Your Dog', 'bloodstream', 'yellow is the color of her eyes', 'crawling in my skin', \"I'm On Fire\", 'lucy', 'royal screw up', 'Cool', 'night swimming']\n",
      "[youtube] DTc1w32Vbeo: Downloading webpage\n",
      "[youtube] DTc1w32Vbeo: Downloading video info webpage\n",
      "[download] Destination: Soccer Mommy - circle the drain (Official Music Video)-DTc1w32Vbeo.webm\n",
      "[download] 100% of 4.16MiB in 00:0198MiB/s ETA 00:007\n",
      "[ffmpeg] Destination: Soccer Mommy - circle the drain (Official Music Video)-DTc1w32Vbeo.mp3\n",
      "Deleting original file Soccer Mommy - circle the drain (Official Music Video)-DTc1w32Vbeo.webm (pass -k to keep)\n"
     ]
    },
    {
     "name": "stderr",
     "output_type": "stream",
     "text": [
      "/opt/anaconda3/envs/metis/lib/python3.7/site-packages/librosa/core/audio.py:161: UserWarning: PySoundFile failed. Trying audioread instead.\n",
      "  warnings.warn('PySoundFile failed. Trying audioread instead.')\n"
     ]
    },
    {
     "name": "stdout",
     "output_type": "stream",
     "text": [
      "[youtube] Ouem6cFXJvA: Downloading webpage\n",
      "[youtube] Ouem6cFXJvA: Downloading video info webpage\n",
      "[download] Destination: Soccer Mommy - Your Dog (Official Video)-Ouem6cFXJvA.webm\n",
      "[download] 100% of 3.00MiB in 00:0146MiB/s ETA 00:004\n",
      "[ffmpeg] Destination: Soccer Mommy - Your Dog (Official Video)-Ouem6cFXJvA.mp3\n",
      "Deleting original file Soccer Mommy - Your Dog (Official Video)-Ouem6cFXJvA.webm (pass -k to keep)\n"
     ]
    },
    {
     "name": "stderr",
     "output_type": "stream",
     "text": [
      "/opt/anaconda3/envs/metis/lib/python3.7/site-packages/librosa/core/audio.py:161: UserWarning: PySoundFile failed. Trying audioread instead.\n",
      "  warnings.warn('PySoundFile failed. Trying audioread instead.')\n"
     ]
    },
    {
     "name": "stdout",
     "output_type": "stream",
     "text": [
      "[youtube] K8-J8V8cwTU: Downloading webpage\n",
      "[youtube] K8-J8V8cwTU: Downloading video info webpage\n",
      "[download] Destination: Soccer Mommy - bloodstream-K8-J8V8cwTU.webm\n",
      "[download] 100% of 5.12MiB in 00:0104MiB/s ETA 00:006\n",
      "[ffmpeg] Destination: Soccer Mommy - bloodstream-K8-J8V8cwTU.mp3\n",
      "Deleting original file Soccer Mommy - bloodstream-K8-J8V8cwTU.webm (pass -k to keep)\n"
     ]
    },
    {
     "name": "stderr",
     "output_type": "stream",
     "text": [
      "/opt/anaconda3/envs/metis/lib/python3.7/site-packages/librosa/core/audio.py:161: UserWarning: PySoundFile failed. Trying audioread instead.\n",
      "  warnings.warn('PySoundFile failed. Trying audioread instead.')\n"
     ]
    },
    {
     "name": "stdout",
     "output_type": "stream",
     "text": [
      "[youtube] NEjOzDFzx10: Downloading webpage\n",
      "[youtube] NEjOzDFzx10: Downloading video info webpage\n",
      "[download] Destination: Soccer Mommy - yellow is the color of her eyes (Official Music Video)-NEjOzDFzx10.webm\n",
      "[download] 100% of 6.84MiB in 00:0023MiB/s ETA 00:000\n",
      "[ffmpeg] Destination: Soccer Mommy - yellow is the color of her eyes (Official Music Video)-NEjOzDFzx10.mp3\n",
      "Deleting original file Soccer Mommy - yellow is the color of her eyes (Official Music Video)-NEjOzDFzx10.webm (pass -k to keep)\n"
     ]
    },
    {
     "name": "stderr",
     "output_type": "stream",
     "text": [
      "/opt/anaconda3/envs/metis/lib/python3.7/site-packages/librosa/core/audio.py:161: UserWarning: PySoundFile failed. Trying audioread instead.\n",
      "  warnings.warn('PySoundFile failed. Trying audioread instead.')\n"
     ]
    },
    {
     "name": "stdout",
     "output_type": "stream",
     "text": [
      "[youtube] tLkqqGojcKg: Downloading webpage\n",
      "[youtube] tLkqqGojcKg: Downloading video info webpage\n",
      "[download] Destination: Soccer Mommy - crawling in my skin-tLkqqGojcKg.webm\n",
      "[download] 100% of 4.05MiB in 00:0154MiB/s ETA 00:005\n",
      "[ffmpeg] Destination: Soccer Mommy - crawling in my skin-tLkqqGojcKg.mp3\n",
      "Deleting original file Soccer Mommy - crawling in my skin-tLkqqGojcKg.webm (pass -k to keep)\n"
     ]
    },
    {
     "name": "stderr",
     "output_type": "stream",
     "text": [
      "/opt/anaconda3/envs/metis/lib/python3.7/site-packages/librosa/core/audio.py:161: UserWarning: PySoundFile failed. Trying audioread instead.\n",
      "  warnings.warn('PySoundFile failed. Trying audioread instead.')\n"
     ]
    },
    {
     "name": "stdout",
     "output_type": "stream",
     "text": [
      "[youtube] NPTE02IodLg: Downloading webpage\n",
      "[youtube] NPTE02IodLg: Downloading video info webpage\n",
      "[download] Destination: Soccer Mommy - I'm On Fire (Bruce Springsteen cover)-NPTE02IodLg.webm\n",
      "[download] 100% of 3.14MiB in 00:0046MiB/s ETA 00:003\n",
      "[ffmpeg] Destination: Soccer Mommy - I'm On Fire (Bruce Springsteen cover)-NPTE02IodLg.mp3\n",
      "Deleting original file Soccer Mommy - I'm On Fire (Bruce Springsteen cover)-NPTE02IodLg.webm (pass -k to keep)\n"
     ]
    },
    {
     "name": "stderr",
     "output_type": "stream",
     "text": [
      "/opt/anaconda3/envs/metis/lib/python3.7/site-packages/librosa/core/audio.py:161: UserWarning: PySoundFile failed. Trying audioread instead.\n",
      "  warnings.warn('PySoundFile failed. Trying audioread instead.')\n"
     ]
    },
    {
     "name": "stdout",
     "output_type": "stream",
     "text": [
      "[youtube] acRDJTYHWIo: Downloading webpage\n",
      "[youtube] acRDJTYHWIo: Downloading video info webpage\n",
      "[download] Destination: Soccer Mommy - lucy (Official Audio)-acRDJTYHWIo.m4a\n",
      "[download] 100% of 4.57MiB in 00:0196MiB/s ETA 00:006\n",
      "[ffmpeg] Correcting container in \"Soccer Mommy - lucy (Official Audio)-acRDJTYHWIo.m4a\"\n",
      "[ffmpeg] Destination: Soccer Mommy - lucy (Official Audio)-acRDJTYHWIo.mp3\n",
      "Deleting original file Soccer Mommy - lucy (Official Audio)-acRDJTYHWIo.m4a (pass -k to keep)\n"
     ]
    },
    {
     "name": "stderr",
     "output_type": "stream",
     "text": [
      "/opt/anaconda3/envs/metis/lib/python3.7/site-packages/librosa/core/audio.py:161: UserWarning: PySoundFile failed. Trying audioread instead.\n",
      "  warnings.warn('PySoundFile failed. Trying audioread instead.')\n"
     ]
    },
    {
     "name": "stdout",
     "output_type": "stream",
     "text": [
      "[youtube] h-W4P8TYcMc: Downloading webpage\n",
      "[youtube] h-W4P8TYcMc: Downloading video info webpage\n",
      "[download] Destination: Soccer Mommy - royal screw up-h-W4P8TYcMc.webm\n",
      "[download] 100% of 3.88MiB in 00:0090MiB/s ETA 00:006\n",
      "[ffmpeg] Destination: Soccer Mommy - royal screw up-h-W4P8TYcMc.mp3\n",
      "Deleting original file Soccer Mommy - royal screw up-h-W4P8TYcMc.webm (pass -k to keep)\n"
     ]
    },
    {
     "name": "stderr",
     "output_type": "stream",
     "text": [
      "/opt/anaconda3/envs/metis/lib/python3.7/site-packages/librosa/core/audio.py:161: UserWarning: PySoundFile failed. Trying audioread instead.\n",
      "  warnings.warn('PySoundFile failed. Trying audioread instead.')\n"
     ]
    },
    {
     "name": "stdout",
     "output_type": "stream",
     "text": [
      "[youtube] 7Phsup-LrII: Downloading webpage\n",
      "[youtube] 7Phsup-LrII: Downloading video info webpage\n",
      "[download] Destination: Soccer Mommy - Cool (Official Music Video)-7Phsup-LrII.m4a\n",
      "[download] 100% of 2.93MiB in 00:0198MiB/s ETA 00:004\n",
      "[ffmpeg] Correcting container in \"Soccer Mommy - Cool (Official Music Video)-7Phsup-LrII.m4a\"\n",
      "[ffmpeg] Destination: Soccer Mommy - Cool (Official Music Video)-7Phsup-LrII.mp3\n",
      "Deleting original file Soccer Mommy - Cool (Official Music Video)-7Phsup-LrII.m4a (pass -k to keep)\n"
     ]
    },
    {
     "name": "stderr",
     "output_type": "stream",
     "text": [
      "/opt/anaconda3/envs/metis/lib/python3.7/site-packages/librosa/core/audio.py:161: UserWarning: PySoundFile failed. Trying audioread instead.\n",
      "  warnings.warn('PySoundFile failed. Trying audioread instead.')\n"
     ]
    },
    {
     "name": "stdout",
     "output_type": "stream",
     "text": [
      "[youtube] IUxgkYyFjDo: Downloading webpage\n",
      "[youtube] IUxgkYyFjDo: Downloading video info webpage\n",
      "[download] Destination: Soccer Mommy - night swimming-IUxgkYyFjDo.webm\n",
      "[download] 100% of 3.98MiB in 00:0177MiB/s ETA 00:004\n",
      "[ffmpeg] Destination: Soccer Mommy - night swimming-IUxgkYyFjDo.mp3\n",
      "Deleting original file Soccer Mommy - night swimming-IUxgkYyFjDo.webm (pass -k to keep)\n"
     ]
    },
    {
     "name": "stderr",
     "output_type": "stream",
     "text": [
      "/opt/anaconda3/envs/metis/lib/python3.7/site-packages/librosa/core/audio.py:161: UserWarning: PySoundFile failed. Trying audioread instead.\n",
      "  warnings.warn('PySoundFile failed. Trying audioread instead.')\n"
     ]
    },
    {
     "name": "stdout",
     "output_type": "stream",
     "text": [
      "['Nativity', 'Orion Song', 'Solilunita', 'Oscollo', 'Moscow (Mariposa Voladora)', 'Pachuyma']\n",
      "[youtube] UZtPfWHRBYE: Downloading webpage\n",
      "[youtube] UZtPfWHRBYE: Downloading video info webpage\n",
      "[youtube] UZtPfWHRBYE: Downloading MPD manifest\n",
      "[dashsegments] Total fragments: 35\n",
      "[download] Destination: Song of the Day #388 - Elysia Crampton - Nativity-UZtPfWHRBYE.m4a\n",
      "[download] 100% of 5.12MiB in 00:160.21KiB/s ETA 00:005\n",
      "[ffmpeg] Correcting container in \"Song of the Day #388 - Elysia Crampton - Nativity-UZtPfWHRBYE.m4a\"\n",
      "[ffmpeg] Destination: Song of the Day #388 - Elysia Crampton - Nativity-UZtPfWHRBYE.mp3\n",
      "Deleting original file Song of the Day #388 - Elysia Crampton - Nativity-UZtPfWHRBYE.m4a (pass -k to keep)\n"
     ]
    },
    {
     "name": "stderr",
     "output_type": "stream",
     "text": [
      "/opt/anaconda3/envs/metis/lib/python3.7/site-packages/librosa/core/audio.py:161: UserWarning: PySoundFile failed. Trying audioread instead.\n",
      "  warnings.warn('PySoundFile failed. Trying audioread instead.')\n"
     ]
    },
    {
     "name": "stdout",
     "output_type": "stream",
     "text": [
      "[youtube] DSCIQPOiJ8A: Downloading webpage\n",
      "[youtube] DSCIQPOiJ8A: Downloading video info webpage\n",
      "[youtube] DSCIQPOiJ8A: Downloading MPD manifest\n",
      "[dashsegments] Total fragments: 23\n",
      "[download] Destination: elysia crampton - orion song-DSCIQPOiJ8A.webm\n",
      "[download] 100% of 3.59MiB in 00:08.40MiB/s ETA 00:00015\n",
      "[ffmpeg] Destination: elysia crampton - orion song-DSCIQPOiJ8A.mp3\n",
      "Deleting original file elysia crampton - orion song-DSCIQPOiJ8A.webm (pass -k to keep)\n"
     ]
    },
    {
     "name": "stderr",
     "output_type": "stream",
     "text": [
      "/opt/anaconda3/envs/metis/lib/python3.7/site-packages/librosa/core/audio.py:161: UserWarning: PySoundFile failed. Trying audioread instead.\n",
      "  warnings.warn('PySoundFile failed. Trying audioread instead.')\n"
     ]
    },
    {
     "name": "stdout",
     "output_type": "stream",
     "text": [
      "[youtube] onQcB4O2EPI: Downloading webpage\n",
      "[youtube] onQcB4O2EPI: Downloading video info webpage\n",
      "[download] Destination: Elysia Crampton - Lake [BKEDIT 011]-onQcB4O2EPI.webm\n",
      "[download] 100% of 4.89MiB in 00:0154MiB/s ETA 00:0005\n",
      "[ffmpeg] Destination: Elysia Crampton - Lake [BKEDIT 011]-onQcB4O2EPI.mp3\n",
      "Deleting original file Elysia Crampton - Lake [BKEDIT 011]-onQcB4O2EPI.webm (pass -k to keep)\n"
     ]
    },
    {
     "name": "stderr",
     "output_type": "stream",
     "text": [
      "/opt/anaconda3/envs/metis/lib/python3.7/site-packages/librosa/core/audio.py:161: UserWarning: PySoundFile failed. Trying audioread instead.\n",
      "  warnings.warn('PySoundFile failed. Trying audioread instead.')\n"
     ]
    },
    {
     "name": "stdout",
     "output_type": "stream",
     "text": [
      "[youtube] 4SxWmN2GkAI: Downloading webpage\n",
      "[youtube] 4SxWmN2GkAI: Downloading video info webpage\n",
      "[download] Destination: Elysia Crampton - Oscollo-4SxWmN2GkAI.webm\n",
      "[download] 100% of 3.23MiB in 00:0125MiB/s ETA 00:005\n",
      "[ffmpeg] Destination: Elysia Crampton - Oscollo-4SxWmN2GkAI.mp3\n",
      "Deleting original file Elysia Crampton - Oscollo-4SxWmN2GkAI.webm (pass -k to keep)\n"
     ]
    },
    {
     "name": "stderr",
     "output_type": "stream",
     "text": [
      "/opt/anaconda3/envs/metis/lib/python3.7/site-packages/librosa/core/audio.py:161: UserWarning: PySoundFile failed. Trying audioread instead.\n",
      "  warnings.warn('PySoundFile failed. Trying audioread instead.')\n"
     ]
    },
    {
     "name": "stdout",
     "output_type": "stream",
     "text": [
      "[youtube] _0PFsnm-ljU: Downloading webpage\n",
      "[youtube] _0PFsnm-ljU: Downloading video info webpage\n",
      "[download] Destination: Mariposas voladoras para invitaciones de boda-_0PFsnm-ljU.webm\n",
      "[download] 100% of 1014.33KiB in 00:0123MiB/s ETA 00:001\n",
      "[ffmpeg] Destination: Mariposas voladoras para invitaciones de boda-_0PFsnm-ljU.mp3\n",
      "Deleting original file Mariposas voladoras para invitaciones de boda-_0PFsnm-ljU.webm (pass -k to keep)\n"
     ]
    },
    {
     "name": "stderr",
     "output_type": "stream",
     "text": [
      "/opt/anaconda3/envs/metis/lib/python3.7/site-packages/librosa/core/audio.py:161: UserWarning: PySoundFile failed. Trying audioread instead.\n",
      "  warnings.warn('PySoundFile failed. Trying audioread instead.')\n"
     ]
    },
    {
     "name": "stdout",
     "output_type": "stream",
     "text": [
      "[youtube] IBaEapak7fU: Downloading webpage\n",
      "[youtube] IBaEapak7fU: Downloading video info webpage\n",
      "[youtube] IBaEapak7fU: Downloading MPD manifest\n",
      "[dashsegments] Total fragments: 31\n",
      "[download] Destination: Trans producer Elysia Crampton - 'In Bolivia, my body was a beacon, a good omen'-IBaEapak7fU.webm\n",
      "[download] 100% of 5.12MiB in 00:12.46MiB/s ETA 00:000044\n",
      "[ffmpeg] Destination: Trans producer Elysia Crampton - 'In Bolivia, my body was a beacon, a good omen'-IBaEapak7fU.mp3\n",
      "Deleting original file Trans producer Elysia Crampton - 'In Bolivia, my body was a beacon, a good omen'-IBaEapak7fU.webm (pass -k to keep)\n"
     ]
    },
    {
     "name": "stderr",
     "output_type": "stream",
     "text": [
      "/opt/anaconda3/envs/metis/lib/python3.7/site-packages/librosa/core/audio.py:161: UserWarning: PySoundFile failed. Trying audioread instead.\n",
      "  warnings.warn('PySoundFile failed. Trying audioread instead.')\n"
     ]
    },
    {
     "name": "stdout",
     "output_type": "stream",
     "text": [
      "[\"G.L.O.S.S. (We're from the Future)\", 'Outcast Stomp', 'Lined Lips and Spiked Bats', 'Masculine Artifice', 'Targets of Men Targets of Men']\n",
      "[youtube] o3OOlZQsiQo: Downloading webpage\n",
      "[youtube] o3OOlZQsiQo: Downloading video info webpage\n",
      "[download] Destination: G L O S S -  G LO S S  We're from The Future-o3OOlZQsiQo.webm\n",
      "[download] 100% of 1.32MiB in 00:0064MiB/s ETA 00:001\n",
      "[ffmpeg] Destination: G L O S S -  G LO S S  We're from The Future-o3OOlZQsiQo.mp3\n",
      "Deleting original file G L O S S -  G LO S S  We're from The Future-o3OOlZQsiQo.webm (pass -k to keep)\n"
     ]
    },
    {
     "name": "stderr",
     "output_type": "stream",
     "text": [
      "/opt/anaconda3/envs/metis/lib/python3.7/site-packages/librosa/core/audio.py:161: UserWarning: PySoundFile failed. Trying audioread instead.\n",
      "  warnings.warn('PySoundFile failed. Trying audioread instead.')\n"
     ]
    },
    {
     "name": "stdout",
     "output_type": "stream",
     "text": [
      "[youtube] PlgPEOtMXrM: Downloading webpage\n",
      "[youtube] PlgPEOtMXrM: Downloading video info webpage\n",
      "[download] Destination: G L O S S - Outcast Stomp-PlgPEOtMXrM.m4a\n",
      "[download] 100% of 1.76MiB in 00:0109MiB/s ETA 00:002\n",
      "[ffmpeg] Correcting container in \"G L O S S - Outcast Stomp-PlgPEOtMXrM.m4a\"\n",
      "[ffmpeg] Destination: G L O S S - Outcast Stomp-PlgPEOtMXrM.mp3\n",
      "Deleting original file G L O S S - Outcast Stomp-PlgPEOtMXrM.m4a (pass -k to keep)\n"
     ]
    },
    {
     "name": "stderr",
     "output_type": "stream",
     "text": [
      "/opt/anaconda3/envs/metis/lib/python3.7/site-packages/librosa/core/audio.py:161: UserWarning: PySoundFile failed. Trying audioread instead.\n",
      "  warnings.warn('PySoundFile failed. Trying audioread instead.')\n"
     ]
    },
    {
     "name": "stdout",
     "output_type": "stream",
     "text": [
      "[youtube] GE_lfmeHk7Q: Downloading webpage\n",
      "[youtube] GE_lfmeHk7Q: Downloading video info webpage\n",
      "[download] Destination: G L O S S - Lined Lips And Spiked Bats-GE_lfmeHk7Q.m4a\n",
      "[download] 100% of 1.32MiB in 00:0098MiB/s ETA 00:0001\n",
      "[ffmpeg] Correcting container in \"G L O S S - Lined Lips And Spiked Bats-GE_lfmeHk7Q.m4a\"\n",
      "[ffmpeg] Destination: G L O S S - Lined Lips And Spiked Bats-GE_lfmeHk7Q.mp3\n",
      "Deleting original file G L O S S - Lined Lips And Spiked Bats-GE_lfmeHk7Q.m4a (pass -k to keep)\n"
     ]
    },
    {
     "name": "stderr",
     "output_type": "stream",
     "text": [
      "/opt/anaconda3/envs/metis/lib/python3.7/site-packages/librosa/core/audio.py:161: UserWarning: PySoundFile failed. Trying audioread instead.\n",
      "  warnings.warn('PySoundFile failed. Trying audioread instead.')\n"
     ]
    },
    {
     "name": "stdout",
     "output_type": "stream",
     "text": [
      "[youtube] muZr7PWoGDw: Downloading webpage\n",
      "[youtube] muZr7PWoGDw: Downloading video info webpage\n"
     ]
    },
    {
     "name": "stderr",
     "output_type": "stream",
     "text": [
      "ERROR: Signature extraction failed: Traceback (most recent call last):\n",
      "  File \"/opt/anaconda3/envs/metis/lib/python3.7/site-packages/youtube_dl/extractor/youtube.py\", line 1385, in _decrypt_signature\n",
      "    video_id, player_url, s\n",
      "  File \"/opt/anaconda3/envs/metis/lib/python3.7/site-packages/youtube_dl/extractor/youtube.py\", line 1262, in _extract_signature_function\n",
      "    raise ExtractorError('Cannot identify player %r' % player_url)\n",
      "youtube_dl.utils.ExtractorError: Cannot identify player 'https://www.youtube.com/s/player/6b56e673/player_ias.vflset/en_US/base.js'; please report this issue on https://yt-dl.org/bug . Make sure you are using the latest version; see  https://yt-dl.org/update  on how to update. Be sure to call youtube-dl with the --verbose flag and include its complete output.\n",
      " (caused by ExtractorError(\"Cannot identify player 'https://www.youtube.com/s/player/6b56e673/player_ias.vflset/en_US/base.js'; please report this issue on https://yt-dl.org/bug . Make sure you are using the latest version; see  https://yt-dl.org/update  on how to update. Be sure to call youtube-dl with the --verbose flag and include its complete output.\")); please report this issue on https://yt-dl.org/bug . Make sure you are using the latest version; see  https://yt-dl.org/update  on how to update. Be sure to call youtube-dl with the --verbose flag and include its complete output.\n"
     ]
    },
    {
     "name": "stdout",
     "output_type": "stream",
     "text": [
      "Audio extraction failed\n",
      "[youtube] 3FnJWuC_NUw: Downloading webpage\n",
      "[youtube] 3FnJWuC_NUw: Downloading video info webpage\n",
      "[download] Destination: Targets of Men Targets of Men-3FnJWuC_NUw.webm\n",
      "[download] 100% of 1.59MiB in 00:0176MiB/s ETA 00:001\n",
      "[ffmpeg] Destination: Targets of Men Targets of Men-3FnJWuC_NUw.mp3\n",
      "Deleting original file Targets of Men Targets of Men-3FnJWuC_NUw.webm (pass -k to keep)\n"
     ]
    },
    {
     "name": "stderr",
     "output_type": "stream",
     "text": [
      "/opt/anaconda3/envs/metis/lib/python3.7/site-packages/librosa/core/audio.py:161: UserWarning: PySoundFile failed. Trying audioread instead.\n",
      "  warnings.warn('PySoundFile failed. Trying audioread instead.')\n"
     ]
    },
    {
     "name": "stdout",
     "output_type": "stream",
     "text": [
      "['LSD (feat. Chance The Rapper)', 'Holy', 'Stellar', 'BASQUIAT', 'BETTY', 'HEAVN', 'ZORA', 'GIOVANNI', 'Bubbles', 'GIOVANNI']\n",
      "[youtube] gz_kxQdSEeE: Downloading webpage\n",
      "[youtube] gz_kxQdSEeE: Downloading video info webpage\n",
      "[download] Destination: Jamila Woods - LSD (Official Video) ft. Chance The Rapper-gz_kxQdSEeE.webm\n",
      "[download] 100% of 3.66MiB in 00:0018MiB/s ETA 00:006\n",
      "[ffmpeg] Destination: Jamila Woods - LSD (Official Video) ft. Chance The Rapper-gz_kxQdSEeE.mp3\n",
      "Deleting original file Jamila Woods - LSD (Official Video) ft. Chance The Rapper-gz_kxQdSEeE.webm (pass -k to keep)\n"
     ]
    },
    {
     "name": "stderr",
     "output_type": "stream",
     "text": [
      "/opt/anaconda3/envs/metis/lib/python3.7/site-packages/librosa/core/audio.py:161: UserWarning: PySoundFile failed. Trying audioread instead.\n",
      "  warnings.warn('PySoundFile failed. Trying audioread instead.')\n"
     ]
    },
    {
     "name": "stdout",
     "output_type": "stream",
     "text": [
      "[youtube] t3MhH2WekcY: Downloading webpage\n",
      "[youtube] t3MhH2WekcY: Downloading video info webpage\n",
      "[download] Destination: Jamila Woods - Holy (Official Video)-t3MhH2WekcY.webm\n",
      "[download] 100% of 3.15MiB in 00:0084MiB/s ETA 00:003\n",
      "[ffmpeg] Destination: Jamila Woods - Holy (Official Video)-t3MhH2WekcY.mp3\n",
      "Deleting original file Jamila Woods - Holy (Official Video)-t3MhH2WekcY.webm (pass -k to keep)\n"
     ]
    },
    {
     "name": "stderr",
     "output_type": "stream",
     "text": [
      "/opt/anaconda3/envs/metis/lib/python3.7/site-packages/librosa/core/audio.py:161: UserWarning: PySoundFile failed. Trying audioread instead.\n",
      "  warnings.warn('PySoundFile failed. Trying audioread instead.')\n"
     ]
    },
    {
     "name": "stdout",
     "output_type": "stream",
     "text": [
      "[youtube] rC8o3Z-101g: Downloading webpage\n",
      "[youtube] rC8o3Z-101g: Downloading video info webpage\n",
      "[download] Destination: Stellar-rC8o3Z-101g.webm\n",
      "[download] 100% of 2.01MiB in 00:0116MiB/s ETA 00:002\n",
      "[ffmpeg] Destination: Stellar-rC8o3Z-101g.mp3\n",
      "Deleting original file Stellar-rC8o3Z-101g.webm (pass -k to keep)\n"
     ]
    },
    {
     "name": "stderr",
     "output_type": "stream",
     "text": [
      "/opt/anaconda3/envs/metis/lib/python3.7/site-packages/librosa/core/audio.py:161: UserWarning: PySoundFile failed. Trying audioread instead.\n",
      "  warnings.warn('PySoundFile failed. Trying audioread instead.')\n"
     ]
    },
    {
     "name": "stdout",
     "output_type": "stream",
     "text": [
      "[youtube] XezEKGO7Tys: Downloading webpage\n",
      "[youtube] XezEKGO7Tys: Downloading video info webpage\n",
      "[download] Destination: BASQUIAT-XezEKGO7Tys.webm\n",
      "[download] 100% of 6.62MiB in 00:0043MiB/s ETA 00:000\n",
      "[ffmpeg] Destination: BASQUIAT-XezEKGO7Tys.mp3\n",
      "Deleting original file BASQUIAT-XezEKGO7Tys.webm (pass -k to keep)\n"
     ]
    },
    {
     "name": "stderr",
     "output_type": "stream",
     "text": [
      "/opt/anaconda3/envs/metis/lib/python3.7/site-packages/librosa/core/audio.py:161: UserWarning: PySoundFile failed. Trying audioread instead.\n",
      "  warnings.warn('PySoundFile failed. Trying audioread instead.')\n"
     ]
    },
    {
     "name": "stdout",
     "output_type": "stream",
     "text": [
      "[youtube] E2fx6-1Jh1k: Downloading webpage\n",
      "[youtube] E2fx6-1Jh1k: Downloading video info webpage\n"
     ]
    },
    {
     "name": "stderr",
     "output_type": "stream",
     "text": [
      "ERROR: Signature extraction failed: Traceback (most recent call last):\n",
      "  File \"/opt/anaconda3/envs/metis/lib/python3.7/site-packages/youtube_dl/extractor/youtube.py\", line 1385, in _decrypt_signature\n",
      "    video_id, player_url, s\n",
      "  File \"/opt/anaconda3/envs/metis/lib/python3.7/site-packages/youtube_dl/extractor/youtube.py\", line 1262, in _extract_signature_function\n",
      "    raise ExtractorError('Cannot identify player %r' % player_url)\n",
      "youtube_dl.utils.ExtractorError: Cannot identify player 'https://www.youtube.com/s/player/17480f7d/player_ias.vflset/en_US/base.js'; please report this issue on https://yt-dl.org/bug . Make sure you are using the latest version; see  https://yt-dl.org/update  on how to update. Be sure to call youtube-dl with the --verbose flag and include its complete output.\n",
      " (caused by ExtractorError(\"Cannot identify player 'https://www.youtube.com/s/player/17480f7d/player_ias.vflset/en_US/base.js'; please report this issue on https://yt-dl.org/bug . Make sure you are using the latest version; see  https://yt-dl.org/update  on how to update. Be sure to call youtube-dl with the --verbose flag and include its complete output.\")); please report this issue on https://yt-dl.org/bug . Make sure you are using the latest version; see  https://yt-dl.org/update  on how to update. Be sure to call youtube-dl with the --verbose flag and include its complete output.\n"
     ]
    },
    {
     "name": "stdout",
     "output_type": "stream",
     "text": [
      "Audio extraction failed\n",
      "[youtube] SJoTxOGEGvE: Downloading webpage\n",
      "[youtube] SJoTxOGEGvE: Downloading video info webpage\n",
      "[download] Destination: HEAVN-SJoTxOGEGvE.webm\n",
      "[download] 100% of 4.18MiB in 00:0143MiB/s ETA 00:007\n",
      "[ffmpeg] Destination: HEAVN-SJoTxOGEGvE.mp3\n",
      "Deleting original file HEAVN-SJoTxOGEGvE.webm (pass -k to keep)\n"
     ]
    },
    {
     "name": "stderr",
     "output_type": "stream",
     "text": [
      "/opt/anaconda3/envs/metis/lib/python3.7/site-packages/librosa/core/audio.py:161: UserWarning: PySoundFile failed. Trying audioread instead.\n",
      "  warnings.warn('PySoundFile failed. Trying audioread instead.')\n"
     ]
    },
    {
     "name": "stdout",
     "output_type": "stream",
     "text": [
      "[youtube] NO0_3XwBb5s: Downloading webpage\n",
      "[youtube] NO0_3XwBb5s: Downloading video info webpage\n",
      "[download] Destination: Jamila Woods - ZORA-NO0_3XwBb5s.m4a\n",
      "[download] 100% of 3.78MiB in 00:0140MiB/s ETA 00:004\n",
      "[ffmpeg] Correcting container in \"Jamila Woods - ZORA-NO0_3XwBb5s.m4a\"\n",
      "[ffmpeg] Destination: Jamila Woods - ZORA-NO0_3XwBb5s.mp3\n",
      "Deleting original file Jamila Woods - ZORA-NO0_3XwBb5s.m4a (pass -k to keep)\n"
     ]
    },
    {
     "name": "stderr",
     "output_type": "stream",
     "text": [
      "/opt/anaconda3/envs/metis/lib/python3.7/site-packages/librosa/core/audio.py:161: UserWarning: PySoundFile failed. Trying audioread instead.\n",
      "  warnings.warn('PySoundFile failed. Trying audioread instead.')\n"
     ]
    },
    {
     "name": "stdout",
     "output_type": "stream",
     "text": [
      "[youtube] 6utkqG-v9gM: Downloading webpage\n",
      "[youtube] 6utkqG-v9gM: Downloading video info webpage\n",
      "[download] Destination: Jamila Woods - GIOVANNI-6utkqG-v9gM.webm\n",
      "[download] 100% of 8.37MiB in 00:0094MiB/s ETA 00:008\n",
      "[ffmpeg] Destination: Jamila Woods - GIOVANNI-6utkqG-v9gM.mp3\n",
      "Deleting original file Jamila Woods - GIOVANNI-6utkqG-v9gM.webm (pass -k to keep)\n"
     ]
    },
    {
     "name": "stderr",
     "output_type": "stream",
     "text": [
      "/opt/anaconda3/envs/metis/lib/python3.7/site-packages/librosa/core/audio.py:161: UserWarning: PySoundFile failed. Trying audioread instead.\n",
      "  warnings.warn('PySoundFile failed. Trying audioread instead.')\n"
     ]
    },
    {
     "name": "stdout",
     "output_type": "stream",
     "text": [
      "[youtube] NBjMTpggdOo: Downloading webpage\n",
      "[youtube] NBjMTpggdOo: Downloading video info webpage\n",
      "[download] Destination: Bubbles-NBjMTpggdOo.webm\n",
      "[download] 100% of 2.12MiB in 00:0153MiB/s ETA 00:003\n",
      "[ffmpeg] Destination: Bubbles-NBjMTpggdOo.mp3\n",
      "Deleting original file Bubbles-NBjMTpggdOo.webm (pass -k to keep)\n"
     ]
    },
    {
     "name": "stderr",
     "output_type": "stream",
     "text": [
      "/opt/anaconda3/envs/metis/lib/python3.7/site-packages/librosa/core/audio.py:161: UserWarning: PySoundFile failed. Trying audioread instead.\n",
      "  warnings.warn('PySoundFile failed. Trying audioread instead.')\n"
     ]
    },
    {
     "name": "stdout",
     "output_type": "stream",
     "text": [
      "[youtube] 6utkqG-v9gM: Downloading webpage\n",
      "[youtube] 6utkqG-v9gM: Downloading video info webpage\n",
      "[download] Destination: Jamila Woods - GIOVANNI-6utkqG-v9gM.webm\n",
      "[download] 100% of 8.37MiB in 00:0026MiB/s ETA 00:005\n",
      "[ffmpeg] Destination: Jamila Woods - GIOVANNI-6utkqG-v9gM.mp3\n",
      "Deleting original file Jamila Woods - GIOVANNI-6utkqG-v9gM.webm (pass -k to keep)\n"
     ]
    },
    {
     "name": "stderr",
     "output_type": "stream",
     "text": [
      "/opt/anaconda3/envs/metis/lib/python3.7/site-packages/librosa/core/audio.py:161: UserWarning: PySoundFile failed. Trying audioread instead.\n",
      "  warnings.warn('PySoundFile failed. Trying audioread instead.')\n"
     ]
    },
    {
     "name": "stdout",
     "output_type": "stream",
     "text": [
      "['Here With Me', 'Forever', 'The Mother We Share', 'Death Stranding', 'Miracle', 'Get Out', 'Tether (Eric Prydz Vs. CHVRCHES) - Radio Edit', 'Leave a Trace', 'Clearest Blue', 'Never Say Die']\n",
      "[youtube] J3UXp9jIr-U: Downloading webpage\n",
      "[youtube] J3UXp9jIr-U: Downloading video info webpage\n",
      "[download] Destination: Marshmello - Here With Me Feat. CHVRCHES (Official Music Video)-J3UXp9jIr-U.webm\n",
      "[download] 100% of 2.67MiB in 00:0031MiB/s ETA 00:003\n",
      "[ffmpeg] Destination: Marshmello - Here With Me Feat. CHVRCHES (Official Music Video)-J3UXp9jIr-U.mp3\n",
      "Deleting original file Marshmello - Here With Me Feat. CHVRCHES (Official Music Video)-J3UXp9jIr-U.webm (pass -k to keep)\n"
     ]
    },
    {
     "name": "stderr",
     "output_type": "stream",
     "text": [
      "/opt/anaconda3/envs/metis/lib/python3.7/site-packages/librosa/core/audio.py:161: UserWarning: PySoundFile failed. Trying audioread instead.\n",
      "  warnings.warn('PySoundFile failed. Trying audioread instead.')\n"
     ]
    },
    {
     "name": "stdout",
     "output_type": "stream",
     "text": [
      "[youtube] CRDruiv08_4: Downloading webpage\n",
      "[youtube] CRDruiv08_4: Downloading video info webpage\n",
      "[download] Destination: CHVRCHES - Forever-CRDruiv08_4.webm\n",
      "[download] 100% of 3.54MiB in 00:0104MiB/s ETA 00:006\n",
      "[ffmpeg] Destination: CHVRCHES - Forever-CRDruiv08_4.mp3\n",
      "Deleting original file CHVRCHES - Forever-CRDruiv08_4.webm (pass -k to keep)\n"
     ]
    },
    {
     "name": "stderr",
     "output_type": "stream",
     "text": [
      "/opt/anaconda3/envs/metis/lib/python3.7/site-packages/librosa/core/audio.py:161: UserWarning: PySoundFile failed. Trying audioread instead.\n",
      "  warnings.warn('PySoundFile failed. Trying audioread instead.')\n"
     ]
    },
    {
     "name": "stdout",
     "output_type": "stream",
     "text": [
      "[youtube] _mTRvJ9fugM: Downloading webpage\n",
      "[youtube] _mTRvJ9fugM: Downloading video info webpage\n",
      "[download] Destination: CHVRCHES - The Mother We Share-_mTRvJ9fugM.webm\n",
      "[download] 100% of 2.94MiB in 00:0136MiB/s ETA 00:003\n",
      "[ffmpeg] Destination: CHVRCHES - The Mother We Share-_mTRvJ9fugM.mp3\n",
      "Deleting original file CHVRCHES - The Mother We Share-_mTRvJ9fugM.webm (pass -k to keep)\n"
     ]
    },
    {
     "name": "stderr",
     "output_type": "stream",
     "text": [
      "/opt/anaconda3/envs/metis/lib/python3.7/site-packages/librosa/core/audio.py:161: UserWarning: PySoundFile failed. Trying audioread instead.\n",
      "  warnings.warn('PySoundFile failed. Trying audioread instead.')\n"
     ]
    },
    {
     "name": "stdout",
     "output_type": "stream",
     "text": [
      "[youtube] mFGq92BYmt4: Downloading webpage\n",
      "[youtube] mFGq92BYmt4: Downloading video info webpage\n",
      "[download] Destination: CHVRCHES - Death Stranding (Audio)-mFGq92BYmt4.webm\n",
      "[download] 100% of 4.91MiB in 00:0009MiB/s ETA 00:007\n",
      "[ffmpeg] Destination: CHVRCHES - Death Stranding (Audio)-mFGq92BYmt4.mp3\n",
      "Deleting original file CHVRCHES - Death Stranding (Audio)-mFGq92BYmt4.webm (pass -k to keep)\n"
     ]
    },
    {
     "name": "stderr",
     "output_type": "stream",
     "text": [
      "/opt/anaconda3/envs/metis/lib/python3.7/site-packages/librosa/core/audio.py:161: UserWarning: PySoundFile failed. Trying audioread instead.\n",
      "  warnings.warn('PySoundFile failed. Trying audioread instead.')\n"
     ]
    },
    {
     "name": "stdout",
     "output_type": "stream",
     "text": [
      "[youtube] e1YqueG2gtQ: Downloading webpage\n",
      "[youtube] e1YqueG2gtQ: Downloading video info webpage\n",
      "[download] Destination: CHVRCHES - Miracle (Official Video)-e1YqueG2gtQ.webm\n",
      "[download] 100% of 3.03MiB in 00:0168MiB/s ETA 00:005\n",
      "[ffmpeg] Destination: CHVRCHES - Miracle (Official Video)-e1YqueG2gtQ.mp3\n",
      "Deleting original file CHVRCHES - Miracle (Official Video)-e1YqueG2gtQ.webm (pass -k to keep)\n"
     ]
    },
    {
     "name": "stderr",
     "output_type": "stream",
     "text": [
      "/opt/anaconda3/envs/metis/lib/python3.7/site-packages/librosa/core/audio.py:161: UserWarning: PySoundFile failed. Trying audioread instead.\n",
      "  warnings.warn('PySoundFile failed. Trying audioread instead.')\n"
     ]
    },
    {
     "name": "stdout",
     "output_type": "stream",
     "text": [
      "[youtube] LHUKKrcXfJs: Downloading webpage\n",
      "[youtube] LHUKKrcXfJs: Downloading video info webpage\n",
      "[download] Destination: CHVRCHES - Get Out-LHUKKrcXfJs.webm\n",
      "[download] 100% of 3.55MiB in 00:0179MiB/s ETA 00:004\n",
      "[ffmpeg] Destination: CHVRCHES - Get Out-LHUKKrcXfJs.mp3\n",
      "Deleting original file CHVRCHES - Get Out-LHUKKrcXfJs.webm (pass -k to keep)\n"
     ]
    },
    {
     "name": "stderr",
     "output_type": "stream",
     "text": [
      "/opt/anaconda3/envs/metis/lib/python3.7/site-packages/librosa/core/audio.py:161: UserWarning: PySoundFile failed. Trying audioread instead.\n",
      "  warnings.warn('PySoundFile failed. Trying audioread instead.')\n"
     ]
    },
    {
     "name": "stdout",
     "output_type": "stream",
     "text": [
      "[youtube] ioq_t_GHBtg: Downloading webpage\n",
      "[youtube] ioq_t_GHBtg: Downloading video info webpage\n",
      "[download] Destination: Eric Prydz VS CHVRCHES - Tether (Official Video)-ioq_t_GHBtg.webm\n",
      "[download] 100% of 2.95MiB in 00:0026MiB/s ETA 00:003\n",
      "[ffmpeg] Destination: Eric Prydz VS CHVRCHES - Tether (Official Video)-ioq_t_GHBtg.mp3\n",
      "Deleting original file Eric Prydz VS CHVRCHES - Tether (Official Video)-ioq_t_GHBtg.webm (pass -k to keep)\n"
     ]
    },
    {
     "name": "stderr",
     "output_type": "stream",
     "text": [
      "/opt/anaconda3/envs/metis/lib/python3.7/site-packages/librosa/core/audio.py:161: UserWarning: PySoundFile failed. Trying audioread instead.\n",
      "  warnings.warn('PySoundFile failed. Trying audioread instead.')\n"
     ]
    },
    {
     "name": "stdout",
     "output_type": "stream",
     "text": [
      "[youtube] 4Eo84jDIMKI: Downloading webpage\n",
      "[youtube] 4Eo84jDIMKI: Downloading video info webpage\n",
      "[download] Destination: CHVRCHES - Leave A Trace-4Eo84jDIMKI.webm\n",
      "[download] 100% of 3.63MiB in 00:0081MiB/s ETA 00:004\n",
      "[ffmpeg] Destination: CHVRCHES - Leave A Trace-4Eo84jDIMKI.mp3\n",
      "Deleting original file CHVRCHES - Leave A Trace-4Eo84jDIMKI.webm (pass -k to keep)\n"
     ]
    },
    {
     "name": "stderr",
     "output_type": "stream",
     "text": [
      "/opt/anaconda3/envs/metis/lib/python3.7/site-packages/librosa/core/audio.py:161: UserWarning: PySoundFile failed. Trying audioread instead.\n",
      "  warnings.warn('PySoundFile failed. Trying audioread instead.')\n"
     ]
    },
    {
     "name": "stdout",
     "output_type": "stream",
     "text": [
      "[youtube] BZyzX4c1vIs: Downloading webpage\n",
      "[youtube] BZyzX4c1vIs: Downloading video info webpage\n",
      "[download] Destination: CHVRCHES - Clearest Blue-BZyzX4c1vIs.webm\n",
      "[download] 100% of 4.06MiB in 00:0199MiB/s ETA 00:005\n",
      "[ffmpeg] Destination: CHVRCHES - Clearest Blue-BZyzX4c1vIs.mp3\n",
      "Deleting original file CHVRCHES - Clearest Blue-BZyzX4c1vIs.webm (pass -k to keep)\n"
     ]
    },
    {
     "name": "stderr",
     "output_type": "stream",
     "text": [
      "/opt/anaconda3/envs/metis/lib/python3.7/site-packages/librosa/core/audio.py:161: UserWarning: PySoundFile failed. Trying audioread instead.\n",
      "  warnings.warn('PySoundFile failed. Trying audioread instead.')\n"
     ]
    },
    {
     "name": "stdout",
     "output_type": "stream",
     "text": [
      "[youtube] ifr3O33UpWs: Downloading webpage\n",
      "[youtube] ifr3O33UpWs: Downloading video info webpage\n",
      "[download] Destination: CHVRCHES - Never Say Die (Audio)-ifr3O33UpWs.webm\n",
      "[download] 100% of 4.03MiB in 00:0195MiB/s ETA 00:006\n",
      "[ffmpeg] Destination: CHVRCHES - Never Say Die (Audio)-ifr3O33UpWs.mp3\n",
      "Deleting original file CHVRCHES - Never Say Die (Audio)-ifr3O33UpWs.webm (pass -k to keep)\n"
     ]
    },
    {
     "name": "stderr",
     "output_type": "stream",
     "text": [
      "/opt/anaconda3/envs/metis/lib/python3.7/site-packages/librosa/core/audio.py:161: UserWarning: PySoundFile failed. Trying audioread instead.\n",
      "  warnings.warn('PySoundFile failed. Trying audioread instead.')\n"
     ]
    },
    {
     "name": "stdout",
     "output_type": "stream",
     "text": [
      "['Shine a Light', 'Forerunner Foray', 'Fast Learner', 'Chocolate Souffle', 'Swerve... the reeping of all that is worthwhile (Noir not withstanding)', 'An echo from the hosts that profess infinitum', 'free press and curl', 'Are you… Can you… Were you? (Felt)', 'Blastit...', 'Recollections of the wraith']\n",
      "[youtube] Zc3LHxEjKNc: Downloading webpage\n",
      "[youtube] Zc3LHxEjKNc: Downloading video info webpage\n",
      "[download] Destination: Shabazz Palaces - Shine a Light (feat. Thaddillac) [OFFICIAL VIDEO]-Zc3LHxEjKNc.m4a\n",
      "[download] 100% of 2.50MiB in 00:0061MiB/s ETA 00:003\n",
      "[ffmpeg] Correcting container in \"Shabazz Palaces - Shine a Light (feat. Thaddillac) [OFFICIAL VIDEO]-Zc3LHxEjKNc.m4a\"\n",
      "[ffmpeg] Destination: Shabazz Palaces - Shine a Light (feat. Thaddillac) [OFFICIAL VIDEO]-Zc3LHxEjKNc.mp3\n",
      "Deleting original file Shabazz Palaces - Shine a Light (feat. Thaddillac) [OFFICIAL VIDEO]-Zc3LHxEjKNc.m4a (pass -k to keep)\n"
     ]
    },
    {
     "name": "stderr",
     "output_type": "stream",
     "text": [
      "/opt/anaconda3/envs/metis/lib/python3.7/site-packages/librosa/core/audio.py:161: UserWarning: PySoundFile failed. Trying audioread instead.\n",
      "  warnings.warn('PySoundFile failed. Trying audioread instead.')\n"
     ]
    },
    {
     "name": "stdout",
     "output_type": "stream",
     "text": [
      "[youtube] zNXxd3yYDaM: Downloading webpage\n",
      "[youtube] zNXxd3yYDaM: Downloading video info webpage\n",
      "[download] Destination: Shabazz Palaces - Forerunner Foray [OFFICIAL VIDEO]-zNXxd3yYDaM.webm\n",
      "[download] 100% of 3.60MiB in 00:0176MiB/s ETA 00:006\n",
      "[ffmpeg] Destination: Shabazz Palaces - Forerunner Foray [OFFICIAL VIDEO]-zNXxd3yYDaM.mp3\n",
      "Deleting original file Shabazz Palaces - Forerunner Foray [OFFICIAL VIDEO]-zNXxd3yYDaM.webm (pass -k to keep)\n"
     ]
    },
    {
     "name": "stderr",
     "output_type": "stream",
     "text": [
      "/opt/anaconda3/envs/metis/lib/python3.7/site-packages/librosa/core/audio.py:161: UserWarning: PySoundFile failed. Trying audioread instead.\n",
      "  warnings.warn('PySoundFile failed. Trying audioread instead.')\n"
     ]
    },
    {
     "name": "stdout",
     "output_type": "stream",
     "text": [
      "[youtube] co934TghOFc: Downloading webpage\n",
      "[youtube] co934TghOFc: Downloading video info webpage\n",
      "[download] Destination: Shabazz Palaces - Fast Learner [OFFICIAL VIDEO]-co934TghOFc.webm\n",
      "[download] 100% of 5.58MiB in 00:0151MiB/s ETA 00:007\n",
      "[ffmpeg] Destination: Shabazz Palaces - Fast Learner [OFFICIAL VIDEO]-co934TghOFc.mp3\n",
      "Deleting original file Shabazz Palaces - Fast Learner [OFFICIAL VIDEO]-co934TghOFc.webm (pass -k to keep)\n"
     ]
    },
    {
     "name": "stderr",
     "output_type": "stream",
     "text": [
      "/opt/anaconda3/envs/metis/lib/python3.7/site-packages/librosa/core/audio.py:161: UserWarning: PySoundFile failed. Trying audioread instead.\n",
      "  warnings.warn('PySoundFile failed. Trying audioread instead.')\n"
     ]
    },
    {
     "name": "stdout",
     "output_type": "stream",
     "text": [
      "[youtube] zHoYneY2Cu4: Downloading webpage\n",
      "[youtube] zHoYneY2Cu4: Downloading video info webpage\n",
      "[download] Destination: Shabazz Palaces - Chocolate Souffle [OFFICIAL VIDEO]-zHoYneY2Cu4.webm\n",
      "[download] 100% of 4.69MiB in 00:0150MiB/s ETA 00:007\n",
      "[ffmpeg] Destination: Shabazz Palaces - Chocolate Souffle [OFFICIAL VIDEO]-zHoYneY2Cu4.mp3\n",
      "Deleting original file Shabazz Palaces - Chocolate Souffle [OFFICIAL VIDEO]-zHoYneY2Cu4.webm (pass -k to keep)\n"
     ]
    },
    {
     "name": "stderr",
     "output_type": "stream",
     "text": [
      "/opt/anaconda3/envs/metis/lib/python3.7/site-packages/librosa/core/audio.py:161: UserWarning: PySoundFile failed. Trying audioread instead.\n",
      "  warnings.warn('PySoundFile failed. Trying audioread instead.')\n"
     ]
    },
    {
     "name": "stdout",
     "output_type": "stream",
     "text": [
      "[youtube] znDsRydk3_w: Downloading webpage\n",
      "[youtube] znDsRydk3_w: Downloading video info webpage\n",
      "[download] Destination: Shabazz Palaces - Swerve... The reeping of all that is worthwhile (Noir not withstanding)-znDsRydk3_w.webm\n",
      "[download] 100% of 3.85MiB in 00:0032MiB/s ETA 00:005\n",
      "[ffmpeg] Destination: Shabazz Palaces - Swerve... The reeping of all that is worthwhile (Noir not withstanding)-znDsRydk3_w.mp3\n",
      "Deleting original file Shabazz Palaces - Swerve... The reeping of all that is worthwhile (Noir not withstanding)-znDsRydk3_w.webm (pass -k to keep)\n"
     ]
    },
    {
     "name": "stderr",
     "output_type": "stream",
     "text": [
      "/opt/anaconda3/envs/metis/lib/python3.7/site-packages/librosa/core/audio.py:161: UserWarning: PySoundFile failed. Trying audioread instead.\n",
      "  warnings.warn('PySoundFile failed. Trying audioread instead.')\n"
     ]
    },
    {
     "name": "stdout",
     "output_type": "stream",
     "text": [
      "[youtube] vnvQod9zb_c: Downloading webpage\n",
      "[youtube] vnvQod9zb_c: Downloading video info webpage\n",
      "[download] Destination: Shabazz Palaces - An Echo From The Hosts That Profess Infinitum [OFFICIAL VIDEO]-vnvQod9zb_c.webm\n",
      "[download] 100% of 3.14MiB in 00:0130MiB/s ETA 00:003\n",
      "[ffmpeg] Destination: Shabazz Palaces - An Echo From The Hosts That Profess Infinitum [OFFICIAL VIDEO]-vnvQod9zb_c.mp3\n",
      "Deleting original file Shabazz Palaces - An Echo From The Hosts That Profess Infinitum [OFFICIAL VIDEO]-vnvQod9zb_c.webm (pass -k to keep)\n"
     ]
    },
    {
     "name": "stderr",
     "output_type": "stream",
     "text": [
      "/opt/anaconda3/envs/metis/lib/python3.7/site-packages/librosa/core/audio.py:161: UserWarning: PySoundFile failed. Trying audioread instead.\n",
      "  warnings.warn('PySoundFile failed. Trying audioread instead.')\n"
     ]
    },
    {
     "name": "stdout",
     "output_type": "stream",
     "text": [
      "[youtube] GTxuXToEYOA: Downloading webpage\n",
      "[youtube] GTxuXToEYOA: Downloading video info webpage\n",
      "[download] Destination: Shabazz Palaces Free Press and Curl-GTxuXToEYOA.webm\n",
      "[download] 100% of 4.16MiB in 00:0064MiB/s ETA 00:005\n",
      "[ffmpeg] Destination: Shabazz Palaces Free Press and Curl-GTxuXToEYOA.mp3\n",
      "Deleting original file Shabazz Palaces Free Press and Curl-GTxuXToEYOA.webm (pass -k to keep)\n"
     ]
    },
    {
     "name": "stderr",
     "output_type": "stream",
     "text": [
      "/opt/anaconda3/envs/metis/lib/python3.7/site-packages/librosa/core/audio.py:161: UserWarning: PySoundFile failed. Trying audioread instead.\n",
      "  warnings.warn('PySoundFile failed. Trying audioread instead.')\n"
     ]
    },
    {
     "name": "stdout",
     "output_type": "stream",
     "text": [
      "[youtube] 0GVs96kWvZs: Downloading webpage\n",
      "[youtube] 0GVs96kWvZs: Downloading video info webpage\n",
      "[youtube] 0GVs96kWvZs: Downloading MPD manifest\n",
      "[dashsegments] Total fragments: 30\n",
      "[download] Destination: Are you... Can you... Were you (Felt) - Shabazz Palaces-0GVs96kWvZs.webm\n",
      "[download] 100% of 4.74MiB in 00:04.72MiB/s ETA 00:00009\n",
      "[ffmpeg] Destination: Are you... Can you... Were you (Felt) - Shabazz Palaces-0GVs96kWvZs.mp3\n",
      "Deleting original file Are you... Can you... Were you (Felt) - Shabazz Palaces-0GVs96kWvZs.webm (pass -k to keep)\n"
     ]
    },
    {
     "name": "stderr",
     "output_type": "stream",
     "text": [
      "/opt/anaconda3/envs/metis/lib/python3.7/site-packages/librosa/core/audio.py:161: UserWarning: PySoundFile failed. Trying audioread instead.\n",
      "  warnings.warn('PySoundFile failed. Trying audioread instead.')\n"
     ]
    },
    {
     "name": "stdout",
     "output_type": "stream",
     "text": [
      "[youtube] nTqEgbVEYJA: Downloading webpage\n",
      "[youtube] nTqEgbVEYJA: Downloading video info webpage\n",
      "[download] Destination: Shabazz Palaces - Blastit ....-nTqEgbVEYJA.webm\n",
      "[download] 100% of 2.50MiB in 00:0255MiB/s ETA 00:0022\n",
      "[ffmpeg] Destination: Shabazz Palaces - Blastit ....-nTqEgbVEYJA.mp3\n",
      "Deleting original file Shabazz Palaces - Blastit ....-nTqEgbVEYJA.webm (pass -k to keep)\n"
     ]
    },
    {
     "name": "stderr",
     "output_type": "stream",
     "text": [
      "/opt/anaconda3/envs/metis/lib/python3.7/site-packages/librosa/core/audio.py:161: UserWarning: PySoundFile failed. Trying audioread instead.\n",
      "  warnings.warn('PySoundFile failed. Trying audioread instead.')\n"
     ]
    },
    {
     "name": "stdout",
     "output_type": "stream",
     "text": [
      "[youtube] C5LgCaxrbpc: Downloading webpage\n",
      "[youtube] C5LgCaxrbpc: Downloading video info webpage\n",
      "[download] Destination: Shabazz Palaces - Recollections of the Wraith-C5LgCaxrbpc.webm\n",
      "[download] 100% of 3.37MiB in 00:0077MiB/s ETA 00:003\n",
      "[ffmpeg] Destination: Shabazz Palaces - Recollections of the Wraith-C5LgCaxrbpc.mp3\n",
      "Deleting original file Shabazz Palaces - Recollections of the Wraith-C5LgCaxrbpc.webm (pass -k to keep)\n"
     ]
    },
    {
     "name": "stderr",
     "output_type": "stream",
     "text": [
      "/opt/anaconda3/envs/metis/lib/python3.7/site-packages/librosa/core/audio.py:161: UserWarning: PySoundFile failed. Trying audioread instead.\n",
      "  warnings.warn('PySoundFile failed. Trying audioread instead.')\n"
     ]
    },
    {
     "name": "stdout",
     "output_type": "stream",
     "text": [
      "['Adore', 'Husbands', 'Shut Up', 'Surrender (Trentemøller Remix)', 'The Answer', 'She Will', 'Fuckers', 'Evil', 'Sad Person', 'City’s Full']\n",
      "[youtube] Y7ZpPsaMNMM: Downloading webpage\n",
      "[youtube] Y7ZpPsaMNMM: Downloading video info webpage\n",
      "[download] Destination: Savages - 'Adore'-Y7ZpPsaMNMM.webm\n",
      "[download] 100% of 4.75MiB in 00:0138MiB/s ETA 00:006\n",
      "[ffmpeg] Destination: Savages - 'Adore'-Y7ZpPsaMNMM.mp3\n",
      "Deleting original file Savages - 'Adore'-Y7ZpPsaMNMM.webm (pass -k to keep)\n"
     ]
    },
    {
     "name": "stderr",
     "output_type": "stream",
     "text": [
      "/opt/anaconda3/envs/metis/lib/python3.7/site-packages/librosa/core/audio.py:161: UserWarning: PySoundFile failed. Trying audioread instead.\n",
      "  warnings.warn('PySoundFile failed. Trying audioread instead.')\n"
     ]
    },
    {
     "name": "stdout",
     "output_type": "stream",
     "text": [
      "[youtube] rmJ_mcvRQsI: Downloading webpage\n",
      "[youtube] rmJ_mcvRQsI: Downloading video info webpage\n",
      "[download] Destination: Savages - Husbands-rmJ_mcvRQsI.m4a\n",
      "[download] 100% of 2.58MiB in 00:0063MiB/s ETA 00:003\n",
      "[ffmpeg] Correcting container in \"Savages - Husbands-rmJ_mcvRQsI.m4a\"\n",
      "[ffmpeg] Destination: Savages - Husbands-rmJ_mcvRQsI.mp3\n",
      "Deleting original file Savages - Husbands-rmJ_mcvRQsI.m4a (pass -k to keep)\n"
     ]
    },
    {
     "name": "stderr",
     "output_type": "stream",
     "text": [
      "/opt/anaconda3/envs/metis/lib/python3.7/site-packages/librosa/core/audio.py:161: UserWarning: PySoundFile failed. Trying audioread instead.\n",
      "  warnings.warn('PySoundFile failed. Trying audioread instead.')\n"
     ]
    },
    {
     "name": "stdout",
     "output_type": "stream",
     "text": [
      "[youtube] FuIB8HEmnoY: Downloading webpage\n",
      "[youtube] FuIB8HEmnoY: Downloading video info webpage\n",
      "[download] Destination: Savages - 'Shut Up'-FuIB8HEmnoY.webm\n",
      "[download] 100% of 4.47MiB in 00:0055MiB/s ETA 00:008\n",
      "[ffmpeg] Destination: Savages - 'Shut Up'-FuIB8HEmnoY.mp3\n",
      "Deleting original file Savages - 'Shut Up'-FuIB8HEmnoY.webm (pass -k to keep)\n"
     ]
    },
    {
     "name": "stderr",
     "output_type": "stream",
     "text": [
      "/opt/anaconda3/envs/metis/lib/python3.7/site-packages/librosa/core/audio.py:161: UserWarning: PySoundFile failed. Trying audioread instead.\n",
      "  warnings.warn('PySoundFile failed. Trying audioread instead.')\n"
     ]
    },
    {
     "name": "stdout",
     "output_type": "stream",
     "text": [
      "[youtube] lwHuOB0MpPY: Downloading webpage\n",
      "[youtube] lwHuOB0MpPY: Downloading video info webpage\n",
      "[download] Destination: Surrender (Trentemøller Remix)-lwHuOB0MpPY.webm\n",
      "[download] 100% of 6.27MiB in 00:0006MiB/s ETA 00:007\n",
      "[ffmpeg] Destination: Surrender (Trentemøller Remix)-lwHuOB0MpPY.mp3\n",
      "Deleting original file Surrender (Trentemøller Remix)-lwHuOB0MpPY.webm (pass -k to keep)\n"
     ]
    },
    {
     "name": "stderr",
     "output_type": "stream",
     "text": [
      "/opt/anaconda3/envs/metis/lib/python3.7/site-packages/librosa/core/audio.py:161: UserWarning: PySoundFile failed. Trying audioread instead.\n",
      "  warnings.warn('PySoundFile failed. Trying audioread instead.')\n"
     ]
    },
    {
     "name": "stdout",
     "output_type": "stream",
     "text": [
      "[youtube] kvvhHT0B5ck: Downloading webpage\n",
      "[youtube] kvvhHT0B5ck: Downloading video info webpage\n",
      "[download] Destination: Savages - 'The Answer'-kvvhHT0B5ck.webm\n",
      "[download] 100% of 3.11MiB in 00:0166MiB/s ETA 00:003\n",
      "[ffmpeg] Destination: Savages - 'The Answer'-kvvhHT0B5ck.mp3\n",
      "Deleting original file Savages - 'The Answer'-kvvhHT0B5ck.webm (pass -k to keep)\n"
     ]
    },
    {
     "name": "stderr",
     "output_type": "stream",
     "text": [
      "/opt/anaconda3/envs/metis/lib/python3.7/site-packages/librosa/core/audio.py:161: UserWarning: PySoundFile failed. Trying audioread instead.\n",
      "  warnings.warn('PySoundFile failed. Trying audioread instead.')\n"
     ]
    },
    {
     "name": "stdout",
     "output_type": "stream",
     "text": [
      "[youtube] kim-REn8ecg: Downloading webpage\n",
      "[youtube] kim-REn8ecg: Downloading video info webpage\n",
      "[download] Destination: Savages - She Will (Live on KEXP)-kim-REn8ecg.webm\n",
      "[download] 100% of 3.23MiB in 00:0091MiB/s ETA 00:003\n",
      "[ffmpeg] Destination: Savages - She Will (Live on KEXP)-kim-REn8ecg.mp3\n",
      "Deleting original file Savages - She Will (Live on KEXP)-kim-REn8ecg.webm (pass -k to keep)\n"
     ]
    },
    {
     "name": "stderr",
     "output_type": "stream",
     "text": [
      "/opt/anaconda3/envs/metis/lib/python3.7/site-packages/librosa/core/audio.py:161: UserWarning: PySoundFile failed. Trying audioread instead.\n",
      "  warnings.warn('PySoundFile failed. Trying audioread instead.')\n"
     ]
    },
    {
     "name": "stdout",
     "output_type": "stream",
     "text": [
      "[youtube] Zkz6qKCYjDM: Downloading webpage\n",
      "[youtube] Zkz6qKCYjDM: Downloading video info webpage\n",
      "[download] Destination: Savages - 'Fuckers'-Zkz6qKCYjDM.webm\n",
      "[download] 100% of 9.51MiB in 00:0064MiB/s ETA 00:004\n",
      "[ffmpeg] Destination: Savages - 'Fuckers'-Zkz6qKCYjDM.mp3\n",
      "Deleting original file Savages - 'Fuckers'-Zkz6qKCYjDM.webm (pass -k to keep)\n"
     ]
    },
    {
     "name": "stderr",
     "output_type": "stream",
     "text": [
      "/opt/anaconda3/envs/metis/lib/python3.7/site-packages/librosa/core/audio.py:161: UserWarning: PySoundFile failed. Trying audioread instead.\n",
      "  warnings.warn('PySoundFile failed. Trying audioread instead.')\n"
     ]
    },
    {
     "name": "stdout",
     "output_type": "stream",
     "text": [
      "[youtube] 4_lzePiwkCM: Downloading webpage\n",
      "[youtube] 4_lzePiwkCM: Downloading video info webpage\n",
      "[download] Destination: Savages performing 'Evil' Live on KCRW-4_lzePiwkCM.webm\n",
      "[download] 100% of 3.06MiB in 00:0139MiB/s ETA 00:003\n",
      "[ffmpeg] Destination: Savages performing 'Evil' Live on KCRW-4_lzePiwkCM.mp3\n",
      "Deleting original file Savages performing 'Evil' Live on KCRW-4_lzePiwkCM.webm (pass -k to keep)\n"
     ]
    },
    {
     "name": "stderr",
     "output_type": "stream",
     "text": [
      "/opt/anaconda3/envs/metis/lib/python3.7/site-packages/librosa/core/audio.py:161: UserWarning: PySoundFile failed. Trying audioread instead.\n",
      "  warnings.warn('PySoundFile failed. Trying audioread instead.')\n"
     ]
    },
    {
     "name": "stdout",
     "output_type": "stream",
     "text": [
      "[youtube] 03tpIjQ-HdY: Downloading webpage\n",
      "[youtube] 03tpIjQ-HdY: Downloading video info webpage\n",
      "[download] Destination: Savages - Sad Person-03tpIjQ-HdY.webm\n",
      "[download] 100% of 3.39MiB in 00:0087MiB/s ETA 00:004\n",
      "[ffmpeg] Destination: Savages - Sad Person-03tpIjQ-HdY.mp3\n",
      "Deleting original file Savages - Sad Person-03tpIjQ-HdY.webm (pass -k to keep)\n"
     ]
    },
    {
     "name": "stderr",
     "output_type": "stream",
     "text": [
      "/opt/anaconda3/envs/metis/lib/python3.7/site-packages/librosa/core/audio.py:161: UserWarning: PySoundFile failed. Trying audioread instead.\n",
      "  warnings.warn('PySoundFile failed. Trying audioread instead.')\n"
     ]
    },
    {
     "name": "stdout",
     "output_type": "stream",
     "text": [
      "[youtube] YUAS5iOu1ak: Downloading webpage\n",
      "[youtube] YUAS5iOu1ak: Downloading video info webpage\n",
      "[download] Destination: Savages - City’s Full-YUAS5iOu1ak.webm\n",
      "[download] 100% of 3.21MiB in 00:0144MiB/s ETA 00:003\n",
      "[ffmpeg] Destination: Savages - City’s Full-YUAS5iOu1ak.mp3\n",
      "Deleting original file Savages - City’s Full-YUAS5iOu1ak.webm (pass -k to keep)\n"
     ]
    },
    {
     "name": "stderr",
     "output_type": "stream",
     "text": [
      "/opt/anaconda3/envs/metis/lib/python3.7/site-packages/librosa/core/audio.py:161: UserWarning: PySoundFile failed. Trying audioread instead.\n",
      "  warnings.warn('PySoundFile failed. Trying audioread instead.')\n"
     ]
    },
    {
     "name": "stdout",
     "output_type": "stream",
     "text": [
      "['Twinkle Twinkle', 'Learning to Lose (feat. Willie Nelson)', \"Hurtin' (On the Bottle)\", 'Stone Me', 'Hands of Time', 'Tennessee Song', 'Four Years of Chances', 'Wild Women', 'A Little Pain', 'Pay Gap']\n",
      "[youtube] r0YbQS0GvR8: Downloading webpage\n",
      "[youtube] r0YbQS0GvR8: Downloading video info webpage\n",
      "[download] Destination: Margo Price - Twinkle Twinkle (Official Music Video)-r0YbQS0GvR8.webm\n",
      "[download] 100% of 3.22MiB in 00:0264MiB/s ETA 00:005\n",
      "[ffmpeg] Destination: Margo Price - Twinkle Twinkle (Official Music Video)-r0YbQS0GvR8.mp3\n",
      "Deleting original file Margo Price - Twinkle Twinkle (Official Music Video)-r0YbQS0GvR8.webm (pass -k to keep)\n"
     ]
    },
    {
     "name": "stderr",
     "output_type": "stream",
     "text": [
      "/opt/anaconda3/envs/metis/lib/python3.7/site-packages/librosa/core/audio.py:161: UserWarning: PySoundFile failed. Trying audioread instead.\n",
      "  warnings.warn('PySoundFile failed. Trying audioread instead.')\n"
     ]
    },
    {
     "name": "stdout",
     "output_type": "stream",
     "text": [
      "[youtube] wYa3GLi6Xo4: Downloading webpage\n",
      "[youtube] wYa3GLi6Xo4: Downloading video info webpage\n",
      "[youtube] wYa3GLi6Xo4: Downloading MPD manifest\n",
      "[dashsegments] Total fragments: 40\n",
      "[download] Destination: Margo Price - Learning to lose (feat. willie nelson)-wYa3GLi6Xo4.webm\n",
      "[download] 100% of 6.18MiB in 00:05.45MiB/s ETA 00:000317\n",
      "[ffmpeg] Destination: Margo Price - Learning to lose (feat. willie nelson)-wYa3GLi6Xo4.mp3\n",
      "Deleting original file Margo Price - Learning to lose (feat. willie nelson)-wYa3GLi6Xo4.webm (pass -k to keep)\n"
     ]
    },
    {
     "name": "stderr",
     "output_type": "stream",
     "text": [
      "/opt/anaconda3/envs/metis/lib/python3.7/site-packages/librosa/core/audio.py:161: UserWarning: PySoundFile failed. Trying audioread instead.\n",
      "  warnings.warn('PySoundFile failed. Trying audioread instead.')\n"
     ]
    },
    {
     "name": "stdout",
     "output_type": "stream",
     "text": [
      "[youtube] LtxUDSRfmto: Downloading webpage\n",
      "[youtube] LtxUDSRfmto: Downloading video info webpage\n",
      "[download] Destination: Margo Price 'Hurtin' (On The Bottle)' Official Video-LtxUDSRfmto.m4a\n",
      "[download] 100% of 3.98MiB in 00:0196MiB/s ETA 00:004\n",
      "[ffmpeg] Correcting container in \"Margo Price 'Hurtin' (On The Bottle)' Official Video-LtxUDSRfmto.m4a\"\n",
      "[ffmpeg] Destination: Margo Price 'Hurtin' (On The Bottle)' Official Video-LtxUDSRfmto.mp3\n",
      "Deleting original file Margo Price 'Hurtin' (On The Bottle)' Official Video-LtxUDSRfmto.m4a (pass -k to keep)\n"
     ]
    },
    {
     "name": "stderr",
     "output_type": "stream",
     "text": [
      "/opt/anaconda3/envs/metis/lib/python3.7/site-packages/librosa/core/audio.py:161: UserWarning: PySoundFile failed. Trying audioread instead.\n",
      "  warnings.warn('PySoundFile failed. Trying audioread instead.')\n"
     ]
    },
    {
     "name": "stdout",
     "output_type": "stream",
     "text": [
      "[youtube] Wk2XR-WDqrI: Downloading webpage\n",
      "[youtube] Wk2XR-WDqrI: Downloading video info webpage\n",
      "[download] Destination: Margo Price - Stone Me (Official Audio)-Wk2XR-WDqrI.webm\n",
      "[download] 100% of 2.99MiB in 00:0015MiB/s ETA 00:003\n",
      "[ffmpeg] Destination: Margo Price - Stone Me (Official Audio)-Wk2XR-WDqrI.mp3\n",
      "Deleting original file Margo Price - Stone Me (Official Audio)-Wk2XR-WDqrI.webm (pass -k to keep)\n"
     ]
    },
    {
     "name": "stderr",
     "output_type": "stream",
     "text": [
      "/opt/anaconda3/envs/metis/lib/python3.7/site-packages/librosa/core/audio.py:161: UserWarning: PySoundFile failed. Trying audioread instead.\n",
      "  warnings.warn('PySoundFile failed. Trying audioread instead.')\n"
     ]
    },
    {
     "name": "stdout",
     "output_type": "stream",
     "text": [
      "[youtube] Ev4eFLpWFBk: Downloading webpage\n",
      "[youtube] Ev4eFLpWFBk: Downloading video info webpage\n",
      "[download] Destination: Margo Price - Hands of Time (Official Video)-Ev4eFLpWFBk.webm\n",
      "[download] 100% of 4.53MiB in 00:0146MiB/s ETA 00:007\n",
      "[ffmpeg] Destination: Margo Price - Hands of Time (Official Video)-Ev4eFLpWFBk.mp3\n",
      "Deleting original file Margo Price - Hands of Time (Official Video)-Ev4eFLpWFBk.webm (pass -k to keep)\n"
     ]
    },
    {
     "name": "stderr",
     "output_type": "stream",
     "text": [
      "/opt/anaconda3/envs/metis/lib/python3.7/site-packages/librosa/core/audio.py:161: UserWarning: PySoundFile failed. Trying audioread instead.\n",
      "  warnings.warn('PySoundFile failed. Trying audioread instead.')\n"
     ]
    },
    {
     "name": "stdout",
     "output_type": "stream",
     "text": [
      "[youtube] KRMrFPczwAA: Downloading webpage\n",
      "[youtube] KRMrFPczwAA: Downloading video info webpage\n",
      "[download] Destination: Tennessee Song-KRMrFPczwAA.webm\n",
      "[download] 100% of 4.45MiB in 00:0064MiB/s ETA 00:008\n",
      "[ffmpeg] Destination: Tennessee Song-KRMrFPczwAA.mp3\n",
      "Deleting original file Tennessee Song-KRMrFPczwAA.webm (pass -k to keep)\n"
     ]
    },
    {
     "name": "stderr",
     "output_type": "stream",
     "text": [
      "/opt/anaconda3/envs/metis/lib/python3.7/site-packages/librosa/core/audio.py:161: UserWarning: PySoundFile failed. Trying audioread instead.\n",
      "  warnings.warn('PySoundFile failed. Trying audioread instead.')\n"
     ]
    },
    {
     "name": "stdout",
     "output_type": "stream",
     "text": [
      "[youtube] DvMLnpW62bE: Downloading webpage\n",
      "[youtube] DvMLnpW62bE: Downloading video info webpage\n",
      "[download] Destination: Four Years of Chances-DvMLnpW62bE.webm\n",
      "[download] 100% of 4.14MiB in 00:0106MiB/s ETA 00:004\n",
      "[ffmpeg] Destination: Four Years of Chances-DvMLnpW62bE.mp3\n",
      "Deleting original file Four Years of Chances-DvMLnpW62bE.webm (pass -k to keep)\n"
     ]
    },
    {
     "name": "stderr",
     "output_type": "stream",
     "text": [
      "/opt/anaconda3/envs/metis/lib/python3.7/site-packages/librosa/core/audio.py:161: UserWarning: PySoundFile failed. Trying audioread instead.\n",
      "  warnings.warn('PySoundFile failed. Trying audioread instead.')\n"
     ]
    },
    {
     "name": "stdout",
     "output_type": "stream",
     "text": [
      "[youtube] SiG3pv6AUTM: Downloading webpage\n",
      "[youtube] SiG3pv6AUTM: Downloading video info webpage\n",
      "[youtube] SiG3pv6AUTM: Downloading MPD manifest\n",
      "[dashsegments] Total fragments: 38\n",
      "[download] Destination: Margo Price - Wild Women-SiG3pv6AUTM.m4a\n",
      "[download] 100% of 2.73MiB in 00:10.06MiB/s ETA 00:000030\n",
      "[ffmpeg] Correcting container in \"Margo Price - Wild Women-SiG3pv6AUTM.m4a\"\n",
      "[ffmpeg] Destination: Margo Price - Wild Women-SiG3pv6AUTM.mp3\n",
      "Deleting original file Margo Price - Wild Women-SiG3pv6AUTM.m4a (pass -k to keep)\n"
     ]
    },
    {
     "name": "stderr",
     "output_type": "stream",
     "text": [
      "/opt/anaconda3/envs/metis/lib/python3.7/site-packages/librosa/core/audio.py:161: UserWarning: PySoundFile failed. Trying audioread instead.\n",
      "  warnings.warn('PySoundFile failed. Trying audioread instead.')\n"
     ]
    },
    {
     "name": "stdout",
     "output_type": "stream",
     "text": [
      "[youtube] 68-J3wJjaDY: Downloading webpage\n",
      "[youtube] 68-J3wJjaDY: Downloading video info webpage\n",
      "[youtube] 68-J3wJjaDY: Downloading js player vflK-7zAS\n",
      "[youtube] 68-J3wJjaDY: Downloading js player vflK-7zAS\n",
      "[download] Destination: Margo Price — A Little Pain (Official Video)-68-J3wJjaDY.webm\n",
      "[download] 100% of 2.76MiB in 00:0137MiB/s ETA 00:004\n",
      "[ffmpeg] Destination: Margo Price — A Little Pain (Official Video)-68-J3wJjaDY.mp3\n",
      "Deleting original file Margo Price — A Little Pain (Official Video)-68-J3wJjaDY.webm (pass -k to keep)\n"
     ]
    },
    {
     "name": "stderr",
     "output_type": "stream",
     "text": [
      "/opt/anaconda3/envs/metis/lib/python3.7/site-packages/librosa/core/audio.py:161: UserWarning: PySoundFile failed. Trying audioread instead.\n",
      "  warnings.warn('PySoundFile failed. Trying audioread instead.')\n"
     ]
    },
    {
     "name": "stdout",
     "output_type": "stream",
     "text": [
      "[youtube] Oksn6TxU5Wc: Downloading webpage\n",
      "[youtube] Oksn6TxU5Wc: Downloading video info webpage\n",
      "[download] Destination: Pay Gap - Margo Price - 10_21_2017-Oksn6TxU5Wc.m4a\n",
      "[download] 100% of 3.46MiB in 00:0033MiB/s ETA 00:003\n",
      "[ffmpeg] Correcting container in \"Pay Gap - Margo Price - 10_21_2017-Oksn6TxU5Wc.m4a\"\n",
      "[ffmpeg] Destination: Pay Gap - Margo Price - 10_21_2017-Oksn6TxU5Wc.mp3\n",
      "Deleting original file Pay Gap - Margo Price - 10_21_2017-Oksn6TxU5Wc.m4a (pass -k to keep)\n"
     ]
    },
    {
     "name": "stderr",
     "output_type": "stream",
     "text": [
      "/opt/anaconda3/envs/metis/lib/python3.7/site-packages/librosa/core/audio.py:161: UserWarning: PySoundFile failed. Trying audioread instead.\n",
      "  warnings.warn('PySoundFile failed. Trying audioread instead.')\n"
     ]
    },
    {
     "name": "stdout",
     "output_type": "stream",
     "text": [
      "['Lady Day and John Coltrane', 'The Revolution Will Not Be Televised', 'Gun', 'Home Is Where the Hatred Is', \"I'll Take Care Of U\", 'NY Is Killing Me', \"I'm New Here\", 'Alien (Hold On to Your Dreams)', \"I Think I'll Call It Morning\", 'Where Did the Night Go']\n",
      "[youtube] 7aRNUsmfeck: Downloading webpage\n",
      "[youtube] 7aRNUsmfeck: Downloading video info webpage\n",
      "[download] Destination: Gil Scott-Heron - Lady Day And John Coltrane (Official Audio)-7aRNUsmfeck.webm\n",
      "[download] 100% of 3.42MiB in 00:0061MiB/s ETA 00:0003\n",
      "[ffmpeg] Destination: Gil Scott-Heron - Lady Day And John Coltrane (Official Audio)-7aRNUsmfeck.mp3\n",
      "Deleting original file Gil Scott-Heron - Lady Day And John Coltrane (Official Audio)-7aRNUsmfeck.webm (pass -k to keep)\n"
     ]
    },
    {
     "name": "stderr",
     "output_type": "stream",
     "text": [
      "/opt/anaconda3/envs/metis/lib/python3.7/site-packages/librosa/core/audio.py:161: UserWarning: PySoundFile failed. Trying audioread instead.\n",
      "  warnings.warn('PySoundFile failed. Trying audioread instead.')\n"
     ]
    },
    {
     "name": "stdout",
     "output_type": "stream",
     "text": [
      "[youtube] QnJFhuOWgXg: Downloading webpage\n",
      "[youtube] QnJFhuOWgXg: Downloading video info webpage\n"
     ]
    },
    {
     "name": "stderr",
     "output_type": "stream",
     "text": [
      "ERROR: Signature extraction failed: Traceback (most recent call last):\n",
      "  File \"/opt/anaconda3/envs/metis/lib/python3.7/site-packages/youtube_dl/extractor/youtube.py\", line 1385, in _decrypt_signature\n",
      "    video_id, player_url, s\n",
      "  File \"/opt/anaconda3/envs/metis/lib/python3.7/site-packages/youtube_dl/extractor/youtube.py\", line 1262, in _extract_signature_function\n",
      "    raise ExtractorError('Cannot identify player %r' % player_url)\n",
      "youtube_dl.utils.ExtractorError: Cannot identify player 'https://www.youtube.com/s/player/6b56e673/player_ias.vflset/en_US/base.js'; please report this issue on https://yt-dl.org/bug . Make sure you are using the latest version; see  https://yt-dl.org/update  on how to update. Be sure to call youtube-dl with the --verbose flag and include its complete output.\n",
      " (caused by ExtractorError(\"Cannot identify player 'https://www.youtube.com/s/player/6b56e673/player_ias.vflset/en_US/base.js'; please report this issue on https://yt-dl.org/bug . Make sure you are using the latest version; see  https://yt-dl.org/update  on how to update. Be sure to call youtube-dl with the --verbose flag and include its complete output.\")); please report this issue on https://yt-dl.org/bug . Make sure you are using the latest version; see  https://yt-dl.org/update  on how to update. Be sure to call youtube-dl with the --verbose flag and include its complete output.\n"
     ]
    },
    {
     "name": "stdout",
     "output_type": "stream",
     "text": [
      "Audio extraction failed\n",
      "[youtube] wOeUpKCCSVQ: Downloading webpage\n",
      "[youtube] wOeUpKCCSVQ: Downloading video info webpage\n",
      "[download] Destination: Gil Scott-Heron - Gun-wOeUpKCCSVQ.webm\n",
      "[download] 100% of 4.01MiB in 00:0085MiB/s ETA 00:004\n",
      "[ffmpeg] Destination: Gil Scott-Heron - Gun-wOeUpKCCSVQ.mp3\n",
      "Deleting original file Gil Scott-Heron - Gun-wOeUpKCCSVQ.webm (pass -k to keep)\n"
     ]
    },
    {
     "name": "stderr",
     "output_type": "stream",
     "text": [
      "/opt/anaconda3/envs/metis/lib/python3.7/site-packages/librosa/core/audio.py:161: UserWarning: PySoundFile failed. Trying audioread instead.\n",
      "  warnings.warn('PySoundFile failed. Trying audioread instead.')\n"
     ]
    },
    {
     "name": "stdout",
     "output_type": "stream",
     "text": [
      "[youtube] nSpBs1ghyoo: Downloading webpage\n",
      "[youtube] nSpBs1ghyoo: Downloading video info webpage\n",
      "[download] Destination: Gil Scott-Heron - Home Is Where the Hatred Is (Official Audio)-nSpBs1ghyoo.webm\n",
      "[download] 100% of 3.17MiB in 00:0050MiB/s ETA 00:005\n",
      "[ffmpeg] Destination: Gil Scott-Heron - Home Is Where the Hatred Is (Official Audio)-nSpBs1ghyoo.mp3\n",
      "Deleting original file Gil Scott-Heron - Home Is Where the Hatred Is (Official Audio)-nSpBs1ghyoo.webm (pass -k to keep)\n"
     ]
    },
    {
     "name": "stderr",
     "output_type": "stream",
     "text": [
      "/opt/anaconda3/envs/metis/lib/python3.7/site-packages/librosa/core/audio.py:161: UserWarning: PySoundFile failed. Trying audioread instead.\n",
      "  warnings.warn('PySoundFile failed. Trying audioread instead.')\n"
     ]
    },
    {
     "name": "stdout",
     "output_type": "stream",
     "text": [
      "[youtube] PaXslpx3MWY: Downloading webpage\n",
      "[youtube] PaXslpx3MWY: Downloading video info webpage\n",
      "[download] Destination: Gil Scott-Heron and Jamie xx - I'll Take Care Of U-PaXslpx3MWY.webm\n",
      "[download] 100% of 4.45MiB in 00:0013MiB/s ETA 00:008\n",
      "[ffmpeg] Destination: Gil Scott-Heron and Jamie xx - I'll Take Care Of U-PaXslpx3MWY.mp3\n",
      "Deleting original file Gil Scott-Heron and Jamie xx - I'll Take Care Of U-PaXslpx3MWY.webm (pass -k to keep)\n"
     ]
    },
    {
     "name": "stderr",
     "output_type": "stream",
     "text": [
      "/opt/anaconda3/envs/metis/lib/python3.7/site-packages/librosa/core/audio.py:161: UserWarning: PySoundFile failed. Trying audioread instead.\n",
      "  warnings.warn('PySoundFile failed. Trying audioread instead.')\n"
     ]
    },
    {
     "name": "stdout",
     "output_type": "stream",
     "text": [
      "[youtube] recCXTgAHQ4: Downloading webpage\n",
      "[youtube] recCXTgAHQ4: Downloading video info webpage\n",
      "[download] Destination: Gil Scott-Heron - New York Is Killing Me-recCXTgAHQ4.webm\n",
      "[download] 100% of 5.36MiB in 00:0107MiB/s ETA 00:005\n",
      "[ffmpeg] Destination: Gil Scott-Heron - New York Is Killing Me-recCXTgAHQ4.mp3\n",
      "Deleting original file Gil Scott-Heron - New York Is Killing Me-recCXTgAHQ4.webm (pass -k to keep)\n"
     ]
    },
    {
     "name": "stderr",
     "output_type": "stream",
     "text": [
      "/opt/anaconda3/envs/metis/lib/python3.7/site-packages/librosa/core/audio.py:161: UserWarning: PySoundFile failed. Trying audioread instead.\n",
      "  warnings.warn('PySoundFile failed. Trying audioread instead.')\n"
     ]
    },
    {
     "name": "stdout",
     "output_type": "stream",
     "text": [
      "[youtube] eV_astp3BjM: Downloading webpage\n",
      "[youtube] eV_astp3BjM: Downloading video info webpage\n",
      "[download] Destination: Gil Scott-Heron - 'I'm New Here' (official video)-eV_astp3BjM.webm\n",
      "[download] 100% of 4.02MiB in 00:0164MiB/s ETA 00:004\n",
      "[ffmpeg] Destination: Gil Scott-Heron - 'I'm New Here' (official video)-eV_astp3BjM.mp3\n",
      "Deleting original file Gil Scott-Heron - 'I'm New Here' (official video)-eV_astp3BjM.webm (pass -k to keep)\n"
     ]
    },
    {
     "name": "stderr",
     "output_type": "stream",
     "text": [
      "/opt/anaconda3/envs/metis/lib/python3.7/site-packages/librosa/core/audio.py:161: UserWarning: PySoundFile failed. Trying audioread instead.\n",
      "  warnings.warn('PySoundFile failed. Trying audioread instead.')\n"
     ]
    },
    {
     "name": "stdout",
     "output_type": "stream",
     "text": [
      "[youtube] HiEST26-bcc: Downloading webpage\n",
      "[youtube] HiEST26-bcc: Downloading video info webpage\n",
      "[download] Destination: Gil Scott-Heron - Alien (Hold On To Your Dreams)-HiEST26-bcc.webm\n",
      "[download] 100% of 3.50MiB in 00:0189MiB/s ETA 00:004\n",
      "[ffmpeg] Destination: Gil Scott-Heron - Alien (Hold On To Your Dreams)-HiEST26-bcc.mp3\n",
      "Deleting original file Gil Scott-Heron - Alien (Hold On To Your Dreams)-HiEST26-bcc.webm (pass -k to keep)\n"
     ]
    },
    {
     "name": "stderr",
     "output_type": "stream",
     "text": [
      "/opt/anaconda3/envs/metis/lib/python3.7/site-packages/librosa/core/audio.py:161: UserWarning: PySoundFile failed. Trying audioread instead.\n",
      "  warnings.warn('PySoundFile failed. Trying audioread instead.')\n"
     ]
    },
    {
     "name": "stdout",
     "output_type": "stream",
     "text": [
      "[youtube] c2LpRlBiqYY: Downloading webpage\n",
      "[youtube] c2LpRlBiqYY: Downloading video info webpage\n",
      "[download] Destination: Gil Scott-Heron - I Think I'll Call It Morning-c2LpRlBiqYY.webm\n",
      "[download] 100% of 3.43MiB in 00:0083MiB/s ETA 00:003\n",
      "[ffmpeg] Destination: Gil Scott-Heron - I Think I'll Call It Morning-c2LpRlBiqYY.mp3\n",
      "Deleting original file Gil Scott-Heron - I Think I'll Call It Morning-c2LpRlBiqYY.webm (pass -k to keep)\n"
     ]
    },
    {
     "name": "stderr",
     "output_type": "stream",
     "text": [
      "/opt/anaconda3/envs/metis/lib/python3.7/site-packages/librosa/core/audio.py:161: UserWarning: PySoundFile failed. Trying audioread instead.\n",
      "  warnings.warn('PySoundFile failed. Trying audioread instead.')\n"
     ]
    },
    {
     "name": "stdout",
     "output_type": "stream",
     "text": [
      "[youtube] ourQPK9ueas: Downloading webpage\n",
      "[youtube] ourQPK9ueas: Downloading video info webpage\n",
      "[download] Destination: Gil Scott-Heron, Makaya McCraven - Where Did The Night Go-ourQPK9ueas.webm\n",
      "[download] 100% of 2.38MiB in 00:0021MiB/s ETA 00:002\n",
      "[ffmpeg] Destination: Gil Scott-Heron, Makaya McCraven - Where Did The Night Go-ourQPK9ueas.mp3\n",
      "Deleting original file Gil Scott-Heron, Makaya McCraven - Where Did The Night Go-ourQPK9ueas.webm (pass -k to keep)\n"
     ]
    },
    {
     "name": "stderr",
     "output_type": "stream",
     "text": [
      "/opt/anaconda3/envs/metis/lib/python3.7/site-packages/librosa/core/audio.py:161: UserWarning: PySoundFile failed. Trying audioread instead.\n",
      "  warnings.warn('PySoundFile failed. Trying audioread instead.')\n"
     ]
    },
    {
     "name": "stdout",
     "output_type": "stream",
     "text": [
      "['Say You Love Me', 'Spotlight - Single Edit', 'Selfish Love', 'Alone', 'Meet Me In The Middle - From The \"Fifty Shades Of Grey\" Soundtrack', 'Time After Time (feat. Jessie Ware)', 'Alone - Acoustic', 'Wildest Moments', 'Adore You', 'Mirage (Don’t Stop)']\n",
      "[youtube] DAMM8JVbr8g: Downloading webpage\n",
      "[youtube] DAMM8JVbr8g: Downloading video info webpage\n",
      "[download] Destination: Jessie Ware - Say You Love Me  (Official Video)-DAMM8JVbr8g.webm\n",
      "[download] 100% of 3.97MiB in 00:0087MiB/s ETA 00:005\n",
      "[ffmpeg] Destination: Jessie Ware - Say You Love Me  (Official Video)-DAMM8JVbr8g.mp3\n",
      "Deleting original file Jessie Ware - Say You Love Me  (Official Video)-DAMM8JVbr8g.webm (pass -k to keep)\n"
     ]
    },
    {
     "name": "stderr",
     "output_type": "stream",
     "text": [
      "/opt/anaconda3/envs/metis/lib/python3.7/site-packages/librosa/core/audio.py:161: UserWarning: PySoundFile failed. Trying audioread instead.\n",
      "  warnings.warn('PySoundFile failed. Trying audioread instead.')\n"
     ]
    },
    {
     "name": "stdout",
     "output_type": "stream",
     "text": [
      "[youtube] kw56LGfrf4A: Downloading webpage\n",
      "[youtube] kw56LGfrf4A: Downloading video info webpage\n",
      "[download] Destination: Jessie Ware - Spotlight-kw56LGfrf4A.webm\n",
      "[download] 100% of 4.35MiB in 00:0018MiB/s ETA 00:006\n",
      "[ffmpeg] Destination: Jessie Ware - Spotlight-kw56LGfrf4A.mp3\n",
      "Deleting original file Jessie Ware - Spotlight-kw56LGfrf4A.webm (pass -k to keep)\n"
     ]
    },
    {
     "name": "stderr",
     "output_type": "stream",
     "text": [
      "/opt/anaconda3/envs/metis/lib/python3.7/site-packages/librosa/core/audio.py:161: UserWarning: PySoundFile failed. Trying audioread instead.\n",
      "  warnings.warn('PySoundFile failed. Trying audioread instead.')\n"
     ]
    },
    {
     "name": "stdout",
     "output_type": "stream",
     "text": [
      "[youtube] Q8T9vB1zIVM: Downloading webpage\n",
      "[youtube] Q8T9vB1zIVM: Downloading video info webpage\n",
      "[download] Destination: Jessie Ware - Selfish Love (Official Music Video)-Q8T9vB1zIVM.webm\n",
      "[download] 100% of 3.97MiB in 00:0052MiB/s ETA 00:004\n",
      "[ffmpeg] Destination: Jessie Ware - Selfish Love (Official Music Video)-Q8T9vB1zIVM.mp3\n",
      "Deleting original file Jessie Ware - Selfish Love (Official Music Video)-Q8T9vB1zIVM.webm (pass -k to keep)\n"
     ]
    },
    {
     "name": "stderr",
     "output_type": "stream",
     "text": [
      "/opt/anaconda3/envs/metis/lib/python3.7/site-packages/librosa/core/audio.py:161: UserWarning: PySoundFile failed. Trying audioread instead.\n",
      "  warnings.warn('PySoundFile failed. Trying audioread instead.')\n"
     ]
    },
    {
     "name": "stdout",
     "output_type": "stream",
     "text": [
      "[youtube] 3zrZE68Qrrg: Downloading webpage\n",
      "[youtube] 3zrZE68Qrrg: Downloading video info webpage\n",
      "[download] Destination: Jessie Ware - Alone (Official Music Video)-3zrZE68Qrrg.webm\n",
      "[download] 100% of 3.33MiB in 00:0024MiB/s ETA 00:003\n",
      "[ffmpeg] Destination: Jessie Ware - Alone (Official Music Video)-3zrZE68Qrrg.mp3\n",
      "Deleting original file Jessie Ware - Alone (Official Music Video)-3zrZE68Qrrg.webm (pass -k to keep)\n"
     ]
    },
    {
     "name": "stderr",
     "output_type": "stream",
     "text": [
      "/opt/anaconda3/envs/metis/lib/python3.7/site-packages/librosa/core/audio.py:161: UserWarning: PySoundFile failed. Trying audioread instead.\n",
      "  warnings.warn('PySoundFile failed. Trying audioread instead.')\n"
     ]
    },
    {
     "name": "stdout",
     "output_type": "stream",
     "text": [
      "[youtube] c5kIhmMkGs0: Downloading webpage\n",
      "[youtube] c5kIhmMkGs0: Downloading video info webpage\n",
      "[download] Destination: Jessie Ware -  Meet Me In The Middle (Fifty Shades of Grey Original Motion Picture Soundtrack)-c5kIhmMkGs0.webm\n",
      "[download] 100% of 5.20MiB in 00:0005MiB/s ETA 00:006\n",
      "[ffmpeg] Destination: Jessie Ware -  Meet Me In The Middle (Fifty Shades of Grey Original Motion Picture Soundtrack)-c5kIhmMkGs0.mp3\n",
      "Deleting original file Jessie Ware -  Meet Me In The Middle (Fifty Shades of Grey Original Motion Picture Soundtrack)-c5kIhmMkGs0.webm (pass -k to keep)\n"
     ]
    },
    {
     "name": "stderr",
     "output_type": "stream",
     "text": [
      "/opt/anaconda3/envs/metis/lib/python3.7/site-packages/librosa/core/audio.py:161: UserWarning: PySoundFile failed. Trying audioread instead.\n",
      "  warnings.warn('PySoundFile failed. Trying audioread instead.')\n"
     ]
    },
    {
     "name": "stdout",
     "output_type": "stream",
     "text": [
      "[youtube] lS6MM4vkLpo: Downloading webpage\n",
      "[youtube] lS6MM4vkLpo: Downloading video info webpage\n",
      "[download] Destination: Franky Wah  - Time After Time (feat. Jessie Ware) Official Audio-lS6MM4vkLpo.webm\n",
      "[download] 100% of 3.16MiB in 00:0048MiB/s ETA 00:005\n",
      "[ffmpeg] Destination: Franky Wah  - Time After Time (feat. Jessie Ware) Official Audio-lS6MM4vkLpo.mp3\n",
      "Deleting original file Franky Wah  - Time After Time (feat. Jessie Ware) Official Audio-lS6MM4vkLpo.webm (pass -k to keep)\n"
     ]
    },
    {
     "name": "stderr",
     "output_type": "stream",
     "text": [
      "/opt/anaconda3/envs/metis/lib/python3.7/site-packages/librosa/core/audio.py:161: UserWarning: PySoundFile failed. Trying audioread instead.\n",
      "  warnings.warn('PySoundFile failed. Trying audioread instead.')\n"
     ]
    },
    {
     "name": "stdout",
     "output_type": "stream",
     "text": [
      "[youtube] ZrZQycsJ_SA: Downloading webpage\n",
      "[youtube] ZrZQycsJ_SA: Downloading video info webpage\n",
      "[download] Destination: Alone (Acoustic)-ZrZQycsJ_SA.webm\n",
      "[download] 100% of 3.75MiB in 00:0055MiB/s ETA 00:004\n",
      "[ffmpeg] Destination: Alone (Acoustic)-ZrZQycsJ_SA.mp3\n",
      "Deleting original file Alone (Acoustic)-ZrZQycsJ_SA.webm (pass -k to keep)\n"
     ]
    },
    {
     "name": "stderr",
     "output_type": "stream",
     "text": [
      "/opt/anaconda3/envs/metis/lib/python3.7/site-packages/librosa/core/audio.py:161: UserWarning: PySoundFile failed. Trying audioread instead.\n",
      "  warnings.warn('PySoundFile failed. Trying audioread instead.')\n"
     ]
    },
    {
     "name": "stdout",
     "output_type": "stream",
     "text": [
      "[youtube] bMJkddvJ4L4: Downloading webpage\n",
      "[youtube] bMJkddvJ4L4: Downloading video info webpage\n",
      "[download] Destination: Jessie Ware - Wildest Moments-bMJkddvJ4L4.webm\n",
      "[download] 100% of 3.46MiB in 00:0184MiB/s ETA 00:004\n",
      "[ffmpeg] Destination: Jessie Ware - Wildest Moments-bMJkddvJ4L4.mp3\n",
      "Deleting original file Jessie Ware - Wildest Moments-bMJkddvJ4L4.webm (pass -k to keep)\n"
     ]
    },
    {
     "name": "stderr",
     "output_type": "stream",
     "text": [
      "/opt/anaconda3/envs/metis/lib/python3.7/site-packages/librosa/core/audio.py:161: UserWarning: PySoundFile failed. Trying audioread instead.\n",
      "  warnings.warn('PySoundFile failed. Trying audioread instead.')\n"
     ]
    },
    {
     "name": "stdout",
     "output_type": "stream",
     "text": [
      "[youtube] yHKMEHT_Jus: Downloading webpage\n",
      "[youtube] yHKMEHT_Jus: Downloading video info webpage\n",
      "[download] Destination: Jessie Ware - Adore You (Official Audio)-yHKMEHT_Jus.webm\n",
      "[download] 100% of 3.64MiB in 00:0060MiB/s ETA 00:006\n",
      "[ffmpeg] Destination: Jessie Ware - Adore You (Official Audio)-yHKMEHT_Jus.mp3\n",
      "Deleting original file Jessie Ware - Adore You (Official Audio)-yHKMEHT_Jus.webm (pass -k to keep)\n"
     ]
    },
    {
     "name": "stderr",
     "output_type": "stream",
     "text": [
      "/opt/anaconda3/envs/metis/lib/python3.7/site-packages/librosa/core/audio.py:161: UserWarning: PySoundFile failed. Trying audioread instead.\n",
      "  warnings.warn('PySoundFile failed. Trying audioread instead.')\n"
     ]
    },
    {
     "name": "stdout",
     "output_type": "stream",
     "text": [
      "[youtube] YHz0KYb7wV8: Downloading webpage\n",
      "[youtube] YHz0KYb7wV8: Downloading video info webpage\n",
      "[download] Destination: Mirage (Don’t Stop)-YHz0KYb7wV8.webm\n",
      "[download] 100% of 4.38MiB in 00:0045MiB/s ETA 00:004\n",
      "[ffmpeg] Destination: Mirage (Don’t Stop)-YHz0KYb7wV8.mp3\n",
      "Deleting original file Mirage (Don’t Stop)-YHz0KYb7wV8.webm (pass -k to keep)\n"
     ]
    },
    {
     "name": "stderr",
     "output_type": "stream",
     "text": [
      "/opt/anaconda3/envs/metis/lib/python3.7/site-packages/librosa/core/audio.py:161: UserWarning: PySoundFile failed. Trying audioread instead.\n",
      "  warnings.warn('PySoundFile failed. Trying audioread instead.')\n"
     ]
    },
    {
     "name": "stdout",
     "output_type": "stream",
     "text": [
      "['Seventeen', 'Every Time the Sun Comes Up', 'The End of the World', 'Our Love', 'Jupiter 4', 'Comeback Kid', 'Beaten Down', \"No One's Easy to Love\", 'You Shadow', 'Staring at a Mountain']\n",
      "[youtube] j7sTHoeH0eA: Downloading webpage\n",
      "[youtube] j7sTHoeH0eA: Downloading video info webpage\n",
      "[download] Destination: Sharon Van Etten - Seventeen-j7sTHoeH0eA.webm\n",
      "[download] 100% of 4.07MiB in 00:0046MiB/s ETA 00:006\n",
      "[ffmpeg] Destination: Sharon Van Etten - Seventeen-j7sTHoeH0eA.mp3\n",
      "Deleting original file Sharon Van Etten - Seventeen-j7sTHoeH0eA.webm (pass -k to keep)\n"
     ]
    },
    {
     "name": "stderr",
     "output_type": "stream",
     "text": [
      "/opt/anaconda3/envs/metis/lib/python3.7/site-packages/librosa/core/audio.py:161: UserWarning: PySoundFile failed. Trying audioread instead.\n",
      "  warnings.warn('PySoundFile failed. Trying audioread instead.')\n"
     ]
    },
    {
     "name": "stdout",
     "output_type": "stream",
     "text": [
      "[youtube] fDW-W2J84Hc: Downloading webpage\n",
      "[youtube] fDW-W2J84Hc: Downloading video info webpage\n",
      "[download] Destination: Sharon Van Etten - Every Time the Sun Comes Up (Official Video)-fDW-W2J84Hc.webm\n",
      "[download] 100% of 3.78MiB in 00:0082MiB/s ETA 00:005\n",
      "[ffmpeg] Destination: Sharon Van Etten - Every Time the Sun Comes Up (Official Video)-fDW-W2J84Hc.mp3\n",
      "Deleting original file Sharon Van Etten - Every Time the Sun Comes Up (Official Video)-fDW-W2J84Hc.webm (pass -k to keep)\n"
     ]
    },
    {
     "name": "stderr",
     "output_type": "stream",
     "text": [
      "/opt/anaconda3/envs/metis/lib/python3.7/site-packages/librosa/core/audio.py:161: UserWarning: PySoundFile failed. Trying audioread instead.\n",
      "  warnings.warn('PySoundFile failed. Trying audioread instead.')\n"
     ]
    },
    {
     "name": "stdout",
     "output_type": "stream",
     "text": [
      "[youtube] QKVYHJwIi2M: Downloading webpage\n",
      "[youtube] QKVYHJwIi2M: Downloading video info webpage\n",
      "[download] Destination: Sharon Van Etten - The End of the World (Official Audio)-QKVYHJwIi2M.webm\n",
      "[download] 100% of 2.91MiB in 00:0007MiB/s ETA 00:003\n",
      "[ffmpeg] Destination: Sharon Van Etten - The End of the World (Official Audio)-QKVYHJwIi2M.mp3\n",
      "Deleting original file Sharon Van Etten - The End of the World (Official Audio)-QKVYHJwIi2M.webm (pass -k to keep)\n"
     ]
    },
    {
     "name": "stderr",
     "output_type": "stream",
     "text": [
      "/opt/anaconda3/envs/metis/lib/python3.7/site-packages/librosa/core/audio.py:161: UserWarning: PySoundFile failed. Trying audioread instead.\n",
      "  warnings.warn('PySoundFile failed. Trying audioread instead.')\n"
     ]
    },
    {
     "name": "stdout",
     "output_type": "stream",
     "text": [
      "[youtube] T55SPTQ0qDg: Downloading webpage\n",
      "[youtube] T55SPTQ0qDg: Downloading video info webpage\n",
      "[download] Destination: Sharon Van Etten - 'Our Love' (Official Video)-T55SPTQ0qDg.webm\n",
      "[download] 100% of 4.18MiB in 00:0081MiB/s ETA 00:004\n",
      "[ffmpeg] Destination: Sharon Van Etten - 'Our Love' (Official Video)-T55SPTQ0qDg.mp3\n",
      "Deleting original file Sharon Van Etten - 'Our Love' (Official Video)-T55SPTQ0qDg.webm (pass -k to keep)\n"
     ]
    },
    {
     "name": "stderr",
     "output_type": "stream",
     "text": [
      "/opt/anaconda3/envs/metis/lib/python3.7/site-packages/librosa/core/audio.py:161: UserWarning: PySoundFile failed. Trying audioread instead.\n",
      "  warnings.warn('PySoundFile failed. Trying audioread instead.')\n"
     ]
    },
    {
     "name": "stdout",
     "output_type": "stream",
     "text": [
      "[youtube] W4etGf2PJcA: Downloading webpage\n",
      "[youtube] W4etGf2PJcA: Downloading video info webpage\n",
      "[download] Destination: Sharon Van Etten - Jupiter 4 (Official Video)-W4etGf2PJcA.webm\n",
      "[download] 100% of 4.80MiB in 00:0219MiB/s ETA 00:008\n",
      "[ffmpeg] Destination: Sharon Van Etten - Jupiter 4 (Official Video)-W4etGf2PJcA.mp3\n",
      "Deleting original file Sharon Van Etten - Jupiter 4 (Official Video)-W4etGf2PJcA.webm (pass -k to keep)\n"
     ]
    },
    {
     "name": "stderr",
     "output_type": "stream",
     "text": [
      "/opt/anaconda3/envs/metis/lib/python3.7/site-packages/librosa/core/audio.py:161: UserWarning: PySoundFile failed. Trying audioread instead.\n",
      "  warnings.warn('PySoundFile failed. Trying audioread instead.')\n"
     ]
    },
    {
     "name": "stdout",
     "output_type": "stream",
     "text": [
      "[youtube] h4mewwymxbI: Downloading webpage\n",
      "[youtube] h4mewwymxbI: Downloading video info webpage\n",
      "[download] Destination: Sharon Van Etten - Comeback Kid-h4mewwymxbI.webm\n",
      "[download] 100% of 2.82MiB in 00:0144MiB/s ETA 00:003\n",
      "[ffmpeg] Destination: Sharon Van Etten - Comeback Kid-h4mewwymxbI.mp3\n",
      "Deleting original file Sharon Van Etten - Comeback Kid-h4mewwymxbI.webm (pass -k to keep)\n"
     ]
    },
    {
     "name": "stderr",
     "output_type": "stream",
     "text": [
      "/opt/anaconda3/envs/metis/lib/python3.7/site-packages/librosa/core/audio.py:161: UserWarning: PySoundFile failed. Trying audioread instead.\n",
      "  warnings.warn('PySoundFile failed. Trying audioread instead.')\n"
     ]
    },
    {
     "name": "stdout",
     "output_type": "stream",
     "text": [
      "[youtube] gC9GyTAuk8s: Downloading webpage\n",
      "[youtube] gC9GyTAuk8s: Downloading video info webpage\n",
      "[download] Destination: Sharon Van Etten - Beaten Down-gC9GyTAuk8s.webm\n",
      "[download] 100% of 4.55MiB in 00:0283MiB/s ETA 00:008\n",
      "[ffmpeg] Destination: Sharon Van Etten - Beaten Down-gC9GyTAuk8s.mp3\n",
      "Deleting original file Sharon Van Etten - Beaten Down-gC9GyTAuk8s.webm (pass -k to keep)\n"
     ]
    },
    {
     "name": "stderr",
     "output_type": "stream",
     "text": [
      "/opt/anaconda3/envs/metis/lib/python3.7/site-packages/librosa/core/audio.py:161: UserWarning: PySoundFile failed. Trying audioread instead.\n",
      "  warnings.warn('PySoundFile failed. Trying audioread instead.')\n"
     ]
    },
    {
     "name": "stdout",
     "output_type": "stream",
     "text": [
      "[youtube] cBBRTiE4p0s: Downloading webpage\n",
      "[youtube] cBBRTiE4p0s: Downloading video info webpage\n",
      "[download] Destination: Sharon Van Etten - No One's Easy To Love-cBBRTiE4p0s.webm\n",
      "[download] 100% of 4.31MiB in 00:0191MiB/s ETA 00:005\n",
      "[ffmpeg] Destination: Sharon Van Etten - No One's Easy To Love-cBBRTiE4p0s.mp3\n",
      "Deleting original file Sharon Van Etten - No One's Easy To Love-cBBRTiE4p0s.webm (pass -k to keep)\n"
     ]
    },
    {
     "name": "stderr",
     "output_type": "stream",
     "text": [
      "/opt/anaconda3/envs/metis/lib/python3.7/site-packages/librosa/core/audio.py:161: UserWarning: PySoundFile failed. Trying audioread instead.\n",
      "  warnings.warn('PySoundFile failed. Trying audioread instead.')\n"
     ]
    },
    {
     "name": "stdout",
     "output_type": "stream",
     "text": [
      "[youtube] 95lp1DLjmus: Downloading webpage\n",
      "[youtube] 95lp1DLjmus: Downloading video info webpage\n",
      "[download] Destination: You Shadow-95lp1DLjmus.webm\n",
      "[download] 100% of 3.19MiB in 00:0163MiB/s ETA 00:005\n",
      "[ffmpeg] Destination: You Shadow-95lp1DLjmus.mp3\n",
      "Deleting original file You Shadow-95lp1DLjmus.webm (pass -k to keep)\n"
     ]
    },
    {
     "name": "stderr",
     "output_type": "stream",
     "text": [
      "/opt/anaconda3/envs/metis/lib/python3.7/site-packages/librosa/core/audio.py:161: UserWarning: PySoundFile failed. Trying audioread instead.\n",
      "  warnings.warn('PySoundFile failed. Trying audioread instead.')\n"
     ]
    },
    {
     "name": "stdout",
     "output_type": "stream",
     "text": [
      "[youtube] NlG2n9WKwSk: Downloading webpage\n",
      "[youtube] NlG2n9WKwSk: Downloading video info webpage\n",
      "[download] Destination: Staring at a Mountain-NlG2n9WKwSk.webm\n",
      "[download] 100% of 3.87MiB in 00:0186MiB/s ETA 00:004\n",
      "[ffmpeg] Destination: Staring at a Mountain-NlG2n9WKwSk.mp3\n",
      "Deleting original file Staring at a Mountain-NlG2n9WKwSk.webm (pass -k to keep)\n"
     ]
    },
    {
     "name": "stderr",
     "output_type": "stream",
     "text": [
      "/opt/anaconda3/envs/metis/lib/python3.7/site-packages/librosa/core/audio.py:161: UserWarning: PySoundFile failed. Trying audioread instead.\n",
      "  warnings.warn('PySoundFile failed. Trying audioread instead.')\n"
     ]
    },
    {
     "name": "stdout",
     "output_type": "stream",
     "text": [
      "['Jealous Guy', 'Blue Ridge Mountain', 'Living In The City', \"Pa'lante\", 'My Sweet Lord', 'The Body Electric', 'Look Out Mama', 'Little Black Star', 'Hungry Ghost', 'Fine and Mellow']\n",
      "[youtube] 2Py88fytthk: Downloading webpage\n",
      "[youtube] 2Py88fytthk: Downloading video info webpage\n",
      "[download] Destination: Jealous Guy-2Py88fytthk.webm\n",
      "[download] 100% of 3.62MiB in 00:0002MiB/s ETA 00:006\n",
      "[ffmpeg] Destination: Jealous Guy-2Py88fytthk.mp3\n",
      "Deleting original file Jealous Guy-2Py88fytthk.webm (pass -k to keep)\n"
     ]
    },
    {
     "name": "stderr",
     "output_type": "stream",
     "text": [
      "/opt/anaconda3/envs/metis/lib/python3.7/site-packages/librosa/core/audio.py:161: UserWarning: PySoundFile failed. Trying audioread instead.\n",
      "  warnings.warn('PySoundFile failed. Trying audioread instead.')\n"
     ]
    },
    {
     "name": "stdout",
     "output_type": "stream",
     "text": [
      "[youtube] 9DlE2BQ_K98: Downloading webpage\n",
      "[youtube] 9DlE2BQ_K98: Downloading video info webpage\n",
      "[download] Destination: Blue Ridge Mountain-9DlE2BQ_K98.webm\n",
      "[download] 100% of 2.54MiB in 00:0148MiB/s ETA 00:004\n",
      "[ffmpeg] Destination: Blue Ridge Mountain-9DlE2BQ_K98.mp3\n",
      "Deleting original file Blue Ridge Mountain-9DlE2BQ_K98.webm (pass -k to keep)\n"
     ]
    },
    {
     "name": "stderr",
     "output_type": "stream",
     "text": [
      "/opt/anaconda3/envs/metis/lib/python3.7/site-packages/librosa/core/audio.py:161: UserWarning: PySoundFile failed. Trying audioread instead.\n",
      "  warnings.warn('PySoundFile failed. Trying audioread instead.')\n"
     ]
    },
    {
     "name": "stdout",
     "output_type": "stream",
     "text": [
      "[youtube] Q8k6msNLoQw: Downloading webpage\n",
      "[youtube] Q8k6msNLoQw: Downloading video info webpage\n",
      "[download] Destination: Hurray For The Riff Raff - Living In The City (Official Video)-Q8k6msNLoQw.m4a\n",
      "[download] 100% of 2.99MiB in 00:0119MiB/s ETA 00:005\n",
      "[ffmpeg] Correcting container in \"Hurray For The Riff Raff - Living In The City (Official Video)-Q8k6msNLoQw.m4a\"\n",
      "[ffmpeg] Destination: Hurray For The Riff Raff - Living In The City (Official Video)-Q8k6msNLoQw.mp3\n",
      "Deleting original file Hurray For The Riff Raff - Living In The City (Official Video)-Q8k6msNLoQw.m4a (pass -k to keep)\n"
     ]
    },
    {
     "name": "stderr",
     "output_type": "stream",
     "text": [
      "/opt/anaconda3/envs/metis/lib/python3.7/site-packages/librosa/core/audio.py:161: UserWarning: PySoundFile failed. Trying audioread instead.\n",
      "  warnings.warn('PySoundFile failed. Trying audioread instead.')\n"
     ]
    },
    {
     "name": "stdout",
     "output_type": "stream",
     "text": [
      "[youtube] LilVDjLaZSE: Downloading webpage\n",
      "[youtube] LilVDjLaZSE: Downloading video info webpage\n",
      "[download] Destination: Hurray For The Riff Raff - Pa'lante (Official Video)-LilVDjLaZSE.webm\n",
      "[download] 100% of 7.58MiB in 00:0127MiB/s ETA 00:000\n",
      "[ffmpeg] Destination: Hurray For The Riff Raff - Pa'lante (Official Video)-LilVDjLaZSE.mp3\n",
      "Deleting original file Hurray For The Riff Raff - Pa'lante (Official Video)-LilVDjLaZSE.webm (pass -k to keep)\n"
     ]
    },
    {
     "name": "stderr",
     "output_type": "stream",
     "text": [
      "/opt/anaconda3/envs/metis/lib/python3.7/site-packages/librosa/core/audio.py:161: UserWarning: PySoundFile failed. Trying audioread instead.\n",
      "  warnings.warn('PySoundFile failed. Trying audioread instead.')\n"
     ]
    },
    {
     "name": "stdout",
     "output_type": "stream",
     "text": [
      "[youtube] 9nCgDG31VhM: Downloading webpage\n",
      "[youtube] 9nCgDG31VhM: Downloading video info webpage\n",
      "[download] Destination: Hurray For The Riff Raff-My Sweet Lord (George Harrison Cover)-9nCgDG31VhM.webm\n",
      "[download] 100% of 3.97MiB in 00:0060MiB/s ETA 00:004\n",
      "[ffmpeg] Destination: Hurray For The Riff Raff-My Sweet Lord (George Harrison Cover)-9nCgDG31VhM.mp3\n",
      "Deleting original file Hurray For The Riff Raff-My Sweet Lord (George Harrison Cover)-9nCgDG31VhM.webm (pass -k to keep)\n"
     ]
    },
    {
     "name": "stderr",
     "output_type": "stream",
     "text": [
      "/opt/anaconda3/envs/metis/lib/python3.7/site-packages/librosa/core/audio.py:161: UserWarning: PySoundFile failed. Trying audioread instead.\n",
      "  warnings.warn('PySoundFile failed. Trying audioread instead.')\n"
     ]
    },
    {
     "name": "stdout",
     "output_type": "stream",
     "text": [
      "[youtube] _KvXteZkByE: Downloading webpage\n",
      "[youtube] _KvXteZkByE: Downloading video info webpage\n",
      "[download] Destination: Hurray for the Riff Raff - The Body Electric (Official Video)-_KvXteZkByE.webm\n",
      "[download] 100% of 2.67MiB in 00:0020MiB/s ETA 00:003\n",
      "[ffmpeg] Destination: Hurray for the Riff Raff - The Body Electric (Official Video)-_KvXteZkByE.mp3\n",
      "Deleting original file Hurray for the Riff Raff - The Body Electric (Official Video)-_KvXteZkByE.webm (pass -k to keep)\n"
     ]
    },
    {
     "name": "stderr",
     "output_type": "stream",
     "text": [
      "/opt/anaconda3/envs/metis/lib/python3.7/site-packages/librosa/core/audio.py:161: UserWarning: PySoundFile failed. Trying audioread instead.\n",
      "  warnings.warn('PySoundFile failed. Trying audioread instead.')\n"
     ]
    },
    {
     "name": "stdout",
     "output_type": "stream",
     "text": [
      "[youtube] 0g9nDsFHERM: Downloading webpage\n",
      "[youtube] 0g9nDsFHERM: Downloading video info webpage\n",
      "[download] Destination: Waverly Sessions - Hurray For The Riff Raff - Look Out Mama-0g9nDsFHERM.webm\n",
      "[download] 100% of 3.61MiB in 00:0042MiB/s ETA 00:005\n",
      "[ffmpeg] Destination: Waverly Sessions - Hurray For The Riff Raff - Look Out Mama-0g9nDsFHERM.mp3\n",
      "Deleting original file Waverly Sessions - Hurray For The Riff Raff - Look Out Mama-0g9nDsFHERM.webm (pass -k to keep)\n"
     ]
    },
    {
     "name": "stderr",
     "output_type": "stream",
     "text": [
      "/opt/anaconda3/envs/metis/lib/python3.7/site-packages/librosa/core/audio.py:161: UserWarning: PySoundFile failed. Trying audioread instead.\n",
      "  warnings.warn('PySoundFile failed. Trying audioread instead.')\n"
     ]
    },
    {
     "name": "stdout",
     "output_type": "stream",
     "text": [
      "[youtube] 0xflP6NkyEQ: Downloading webpage\n",
      "[youtube] 0xflP6NkyEQ: Downloading video info webpage\n",
      "[download] Destination: Hurray for the Riff Raff  - Little Black Star-0xflP6NkyEQ.webm\n",
      "[download] 100% of 2.88MiB in 00:0050MiB/s ETA 00:004\n",
      "[ffmpeg] Destination: Hurray for the Riff Raff  - Little Black Star-0xflP6NkyEQ.mp3\n",
      "Deleting original file Hurray for the Riff Raff  - Little Black Star-0xflP6NkyEQ.webm (pass -k to keep)\n"
     ]
    },
    {
     "name": "stderr",
     "output_type": "stream",
     "text": [
      "/opt/anaconda3/envs/metis/lib/python3.7/site-packages/librosa/core/audio.py:161: UserWarning: PySoundFile failed. Trying audioread instead.\n",
      "  warnings.warn('PySoundFile failed. Trying audioread instead.')\n"
     ]
    },
    {
     "name": "stdout",
     "output_type": "stream",
     "text": [
      "[youtube] 6xRJ-MuN46E: Downloading webpage\n",
      "[youtube] 6xRJ-MuN46E: Downloading video info webpage\n",
      "[download] Destination: Hurray For The Riff Raff - Hungry Ghost (Official Music Video)-6xRJ-MuN46E.webm\n",
      "[download] 100% of 3.28MiB in 00:0144MiB/s ETA 00:003\n",
      "[ffmpeg] Destination: Hurray For The Riff Raff - Hungry Ghost (Official Music Video)-6xRJ-MuN46E.mp3\n",
      "Deleting original file Hurray For The Riff Raff - Hungry Ghost (Official Music Video)-6xRJ-MuN46E.webm (pass -k to keep)\n"
     ]
    },
    {
     "name": "stderr",
     "output_type": "stream",
     "text": [
      "/opt/anaconda3/envs/metis/lib/python3.7/site-packages/librosa/core/audio.py:161: UserWarning: PySoundFile failed. Trying audioread instead.\n",
      "  warnings.warn('PySoundFile failed. Trying audioread instead.')\n"
     ]
    },
    {
     "name": "stdout",
     "output_type": "stream",
     "text": [
      "[youtube] mFDO5MLn9ZM: Downloading webpage\n",
      "[youtube] mFDO5MLn9ZM: Downloading video info webpage\n",
      "[download] Destination: Fine and Mellow-mFDO5MLn9ZM.webm\n",
      "[download] 100% of 3.69MiB in 00:0015MiB/s ETA 00:004\n",
      "[ffmpeg] Destination: Fine and Mellow-mFDO5MLn9ZM.mp3\n",
      "Deleting original file Fine and Mellow-mFDO5MLn9ZM.webm (pass -k to keep)\n"
     ]
    },
    {
     "name": "stderr",
     "output_type": "stream",
     "text": [
      "/opt/anaconda3/envs/metis/lib/python3.7/site-packages/librosa/core/audio.py:161: UserWarning: PySoundFile failed. Trying audioread instead.\n",
      "  warnings.warn('PySoundFile failed. Trying audioread instead.')\n"
     ]
    },
    {
     "name": "stdout",
     "output_type": "stream",
     "text": [
      "['Risky', \"I Know There's Gonna Be (Good Times)\", '2 Cups (feat. Popcaan, Fredo & Tory Lanez)', 'Best/Blessed', 'My Type', 'Promise', 'Silence', 'Ova Dweet', \"Numbers Don't Lie\", 'Wine For Me']\n",
      "[youtube] B9H3iinXZv0: Downloading webpage\n",
      "[youtube] B9H3iinXZv0: Downloading video info webpage\n",
      "[download] Destination: Davido - Risky (Official Video) ft. Popcaan-B9H3iinXZv0.webm\n",
      "[download] 100% of 3.93MiB in 00:0178MiB/s ETA 00:004\n",
      "[ffmpeg] Destination: Davido - Risky (Official Video) ft. Popcaan-B9H3iinXZv0.mp3\n",
      "Deleting original file Davido - Risky (Official Video) ft. Popcaan-B9H3iinXZv0.webm (pass -k to keep)\n"
     ]
    },
    {
     "name": "stderr",
     "output_type": "stream",
     "text": [
      "/opt/anaconda3/envs/metis/lib/python3.7/site-packages/librosa/core/audio.py:161: UserWarning: PySoundFile failed. Trying audioread instead.\n",
      "  warnings.warn('PySoundFile failed. Trying audioread instead.')\n"
     ]
    },
    {
     "name": "stdout",
     "output_type": "stream",
     "text": [
      "[youtube] BjLBB-TMa84: Downloading webpage\n",
      "[youtube] BjLBB-TMa84: Downloading video info webpage\n",
      "[download] Destination: Jamie xx - I Know There's Gonna Be (Good Times) ft. Young Thug, Popcaan-BjLBB-TMa84.webm\n",
      "[download] 100% of 3.40MiB in 00:0104MiB/s ETA 00:005\n",
      "[ffmpeg] Destination: Jamie xx - I Know There's Gonna Be (Good Times) ft. Young Thug, Popcaan-BjLBB-TMa84.mp3\n",
      "Deleting original file Jamie xx - I Know There's Gonna Be (Good Times) ft. Young Thug, Popcaan-BjLBB-TMa84.webm (pass -k to keep)\n"
     ]
    },
    {
     "name": "stderr",
     "output_type": "stream",
     "text": [
      "/opt/anaconda3/envs/metis/lib/python3.7/site-packages/librosa/core/audio.py:161: UserWarning: PySoundFile failed. Trying audioread instead.\n",
      "  warnings.warn('PySoundFile failed. Trying audioread instead.')\n"
     ]
    },
    {
     "name": "stdout",
     "output_type": "stream",
     "text": [
      "[youtube] Zc5x1G0_vh8: Downloading webpage\n",
      "[youtube] Zc5x1G0_vh8: Downloading video info webpage\n",
      "[download] Destination: Fredo x Popcaan x Tory Lanez (@StayFleeGetLizzy) - 2 Cups [Music Video] _ GRM Daily-Zc5x1G0_vh8.webm\n",
      "[download] 100% of 3.28MiB in 00:0079MiB/s ETA 00:004\n",
      "[ffmpeg] Destination: Fredo x Popcaan x Tory Lanez (@StayFleeGetLizzy) - 2 Cups [Music Video] _ GRM Daily-Zc5x1G0_vh8.mp3\n",
      "Deleting original file Fredo x Popcaan x Tory Lanez (@StayFleeGetLizzy) - 2 Cups [Music Video] _ GRM Daily-Zc5x1G0_vh8.webm (pass -k to keep)\n"
     ]
    },
    {
     "name": "stderr",
     "output_type": "stream",
     "text": [
      "/opt/anaconda3/envs/metis/lib/python3.7/site-packages/librosa/core/audio.py:161: UserWarning: PySoundFile failed. Trying audioread instead.\n",
      "  warnings.warn('PySoundFile failed. Trying audioread instead.')\n"
     ]
    },
    {
     "name": "stdout",
     "output_type": "stream",
     "text": [
      "[youtube] TfzHJEAWAZ0: Downloading webpage\n",
      "[youtube] TfzHJEAWAZ0: Downloading video info webpage\n",
      "[download] Destination: Popcaan - Best_Blessed (Official Lyric Video)-TfzHJEAWAZ0.webm\n",
      "[download] 100% of 2.99MiB in 00:0053MiB/s ETA 00:003\n",
      "[ffmpeg] Destination: Popcaan - Best_Blessed (Official Lyric Video)-TfzHJEAWAZ0.mp3\n",
      "Deleting original file Popcaan - Best_Blessed (Official Lyric Video)-TfzHJEAWAZ0.webm (pass -k to keep)\n"
     ]
    },
    {
     "name": "stderr",
     "output_type": "stream",
     "text": [
      "/opt/anaconda3/envs/metis/lib/python3.7/site-packages/librosa/core/audio.py:161: UserWarning: PySoundFile failed. Trying audioread instead.\n",
      "  warnings.warn('PySoundFile failed. Trying audioread instead.')\n"
     ]
    },
    {
     "name": "stdout",
     "output_type": "stream",
     "text": [
      "[youtube] _EEBARj24g4: Downloading webpage\n",
      "[youtube] _EEBARj24g4: Downloading video info webpage\n",
      "[download] Destination: Popcaan - My Type (Official Music Video)-_EEBARj24g4.webm\n",
      "[download] 100% of 3.17MiB in 00:0282MiB/s ETA 00:003\n",
      "[ffmpeg] Destination: Popcaan - My Type (Official Music Video)-_EEBARj24g4.mp3\n",
      "Deleting original file Popcaan - My Type (Official Music Video)-_EEBARj24g4.webm (pass -k to keep)\n"
     ]
    },
    {
     "name": "stderr",
     "output_type": "stream",
     "text": [
      "/opt/anaconda3/envs/metis/lib/python3.7/site-packages/librosa/core/audio.py:161: UserWarning: PySoundFile failed. Trying audioread instead.\n",
      "  warnings.warn('PySoundFile failed. Trying audioread instead.')\n"
     ]
    },
    {
     "name": "stdout",
     "output_type": "stream",
     "text": [
      "[youtube] ZjVAGAkpgHw: Downloading webpage\n",
      "[youtube] ZjVAGAkpgHw: Downloading video info webpage\n",
      "[download] Destination: Popcaan - Promise (Official Video)-ZjVAGAkpgHw.webm\n",
      "[download] 100% of 3.22MiB in 00:0067MiB/s ETA 00:004\n",
      "[ffmpeg] Destination: Popcaan - Promise (Official Video)-ZjVAGAkpgHw.mp3\n",
      "Deleting original file Popcaan - Promise (Official Video)-ZjVAGAkpgHw.webm (pass -k to keep)\n"
     ]
    },
    {
     "name": "stderr",
     "output_type": "stream",
     "text": [
      "/opt/anaconda3/envs/metis/lib/python3.7/site-packages/librosa/core/audio.py:161: UserWarning: PySoundFile failed. Trying audioread instead.\n",
      "  warnings.warn('PySoundFile failed. Trying audioread instead.')\n"
     ]
    },
    {
     "name": "stdout",
     "output_type": "stream",
     "text": [
      "[youtube] 2bqXbE_-MEM: Downloading webpage\n",
      "[youtube] 2bqXbE_-MEM: Downloading video info webpage\n",
      "[download] Destination: Popcaan - Silence (Official Video)-2bqXbE_-MEM.webm\n",
      "[download] 100% of 3.60MiB in 00:0130MiB/s ETA 00:003\n",
      "[ffmpeg] Destination: Popcaan - Silence (Official Video)-2bqXbE_-MEM.mp3\n",
      "Deleting original file Popcaan - Silence (Official Video)-2bqXbE_-MEM.webm (pass -k to keep)\n"
     ]
    },
    {
     "name": "stderr",
     "output_type": "stream",
     "text": [
      "/opt/anaconda3/envs/metis/lib/python3.7/site-packages/librosa/core/audio.py:161: UserWarning: PySoundFile failed. Trying audioread instead.\n",
      "  warnings.warn('PySoundFile failed. Trying audioread instead.')\n"
     ]
    },
    {
     "name": "stdout",
     "output_type": "stream",
     "text": [
      "[youtube] r_FX6UANhLs: Downloading webpage\n",
      "[youtube] r_FX6UANhLs: Downloading video info webpage\n",
      "[download] Destination: Popcaan - Ova Dweet (Audio)-r_FX6UANhLs.webm\n",
      "[download] 100% of 3.74MiB in 00:0198MiB/s ETA 00:006\n",
      "[ffmpeg] Destination: Popcaan - Ova Dweet (Audio)-r_FX6UANhLs.mp3\n",
      "Deleting original file Popcaan - Ova Dweet (Audio)-r_FX6UANhLs.webm (pass -k to keep)\n"
     ]
    },
    {
     "name": "stderr",
     "output_type": "stream",
     "text": [
      "/opt/anaconda3/envs/metis/lib/python3.7/site-packages/librosa/core/audio.py:161: UserWarning: PySoundFile failed. Trying audioread instead.\n",
      "  warnings.warn('PySoundFile failed. Trying audioread instead.')\n"
     ]
    },
    {
     "name": "stdout",
     "output_type": "stream",
     "text": [
      "[youtube] peVYifnZABk: Downloading webpage\n",
      "[youtube] peVYifnZABk: Downloading video info webpage\n",
      "[download] Destination: Popcaan - Numbers Don't Lie (Official Audio)-peVYifnZABk.webm\n",
      "[download] 100% of 2.74MiB in 00:0088MiB/s ETA 00:0002\n",
      "[ffmpeg] Destination: Popcaan - Numbers Don't Lie (Official Audio)-peVYifnZABk.mp3\n",
      "Deleting original file Popcaan - Numbers Don't Lie (Official Audio)-peVYifnZABk.webm (pass -k to keep)\n"
     ]
    },
    {
     "name": "stderr",
     "output_type": "stream",
     "text": [
      "/opt/anaconda3/envs/metis/lib/python3.7/site-packages/librosa/core/audio.py:161: UserWarning: PySoundFile failed. Trying audioread instead.\n",
      "  warnings.warn('PySoundFile failed. Trying audioread instead.')\n"
     ]
    },
    {
     "name": "stdout",
     "output_type": "stream",
     "text": [
      "[youtube] tDsfZVrs3j8: Downloading webpage\n",
      "[youtube] tDsfZVrs3j8: Downloading video info webpage\n",
      "[download] Destination: Popcaan - Wine For Me (Official Video)-tDsfZVrs3j8.webm\n",
      "[download] 100% of 3.00MiB in 00:0064MiB/s ETA 00:004\n",
      "[ffmpeg] Destination: Popcaan - Wine For Me (Official Video)-tDsfZVrs3j8.mp3\n",
      "Deleting original file Popcaan - Wine For Me (Official Video)-tDsfZVrs3j8.webm (pass -k to keep)\n"
     ]
    },
    {
     "name": "stderr",
     "output_type": "stream",
     "text": [
      "/opt/anaconda3/envs/metis/lib/python3.7/site-packages/librosa/core/audio.py:161: UserWarning: PySoundFile failed. Trying audioread instead.\n",
      "  warnings.warn('PySoundFile failed. Trying audioread instead.')\n"
     ]
    },
    {
     "name": "stdout",
     "output_type": "stream",
     "text": [
      "['1539 N. Calvert', 'BALD!', 'Free The Frail', 'Jesus Forgive Me, I Am A Thot', \"Baby I'm Bleeding\", 'COVERED IN MONEY!', 'Puff Daddy', 'How To Build A Relationship', 'Does This Ski Mask Make Me Look Fat?', 'Black Moses (feat. JPEGMAFIA)']\n",
      "[youtube] PO3mri47s7M: Downloading webpage\n",
      "[youtube] PO3mri47s7M: Downloading video info webpage\n",
      "[download] Destination: JPEGMAFIA - 1539 N. Calvert-PO3mri47s7M.webm\n",
      "[download] 100% of 2.87MiB in 00:0059MiB/s ETA 00:003\n",
      "[ffmpeg] Destination: JPEGMAFIA - 1539 N. Calvert-PO3mri47s7M.mp3\n",
      "Deleting original file JPEGMAFIA - 1539 N. Calvert-PO3mri47s7M.webm (pass -k to keep)\n"
     ]
    },
    {
     "name": "stderr",
     "output_type": "stream",
     "text": [
      "/opt/anaconda3/envs/metis/lib/python3.7/site-packages/librosa/core/audio.py:161: UserWarning: PySoundFile failed. Trying audioread instead.\n",
      "  warnings.warn('PySoundFile failed. Trying audioread instead.')\n"
     ]
    },
    {
     "name": "stdout",
     "output_type": "stream",
     "text": [
      "[youtube] RBlRmwRVBpM: Downloading webpage\n",
      "[youtube] RBlRmwRVBpM: Downloading video info webpage\n",
      "[download] Destination: JPEGMAFIA - BALD!-RBlRmwRVBpM.webm\n",
      "[download] 100% of 2.49MiB in 00:0027MiB/s ETA 00:004\n",
      "[ffmpeg] Destination: JPEGMAFIA - BALD!-RBlRmwRVBpM.mp3\n",
      "Deleting original file JPEGMAFIA - BALD!-RBlRmwRVBpM.webm (pass -k to keep)\n"
     ]
    },
    {
     "name": "stderr",
     "output_type": "stream",
     "text": [
      "/opt/anaconda3/envs/metis/lib/python3.7/site-packages/librosa/core/audio.py:161: UserWarning: PySoundFile failed. Trying audioread instead.\n",
      "  warnings.warn('PySoundFile failed. Trying audioread instead.')\n"
     ]
    },
    {
     "name": "stdout",
     "output_type": "stream",
     "text": [
      "[youtube] p1VaSEeD-Vk: Downloading webpage\n",
      "[youtube] p1VaSEeD-Vk: Downloading video info webpage\n",
      "[download] Destination: JPEGMAFIA - Free The Frail (feat. Helena Deland)-p1VaSEeD-Vk.webm\n",
      "[download] 100% of 3.22MiB in 00:0106MiB/s ETA 00:003\n",
      "[ffmpeg] Destination: JPEGMAFIA - Free The Frail (feat. Helena Deland)-p1VaSEeD-Vk.mp3\n",
      "Deleting original file JPEGMAFIA - Free The Frail (feat. Helena Deland)-p1VaSEeD-Vk.webm (pass -k to keep)\n"
     ]
    },
    {
     "name": "stderr",
     "output_type": "stream",
     "text": [
      "/opt/anaconda3/envs/metis/lib/python3.7/site-packages/librosa/core/audio.py:161: UserWarning: PySoundFile failed. Trying audioread instead.\n",
      "  warnings.warn('PySoundFile failed. Trying audioread instead.')\n"
     ]
    },
    {
     "name": "stdout",
     "output_type": "stream",
     "text": [
      "[youtube] mjd5fSPjZLQ: Downloading webpage\n",
      "[youtube] mjd5fSPjZLQ: Downloading video info webpage\n",
      "[download] Destination: JPEGMAFIA - Jesus Forgive Me, I Am A Thot-mjd5fSPjZLQ.webm\n",
      "[download] 100% of 2.51MiB in 00:0057MiB/s ETA 00:002\n",
      "[ffmpeg] Destination: JPEGMAFIA - Jesus Forgive Me, I Am A Thot-mjd5fSPjZLQ.mp3\n",
      "Deleting original file JPEGMAFIA - Jesus Forgive Me, I Am A Thot-mjd5fSPjZLQ.webm (pass -k to keep)\n"
     ]
    },
    {
     "name": "stderr",
     "output_type": "stream",
     "text": [
      "/opt/anaconda3/envs/metis/lib/python3.7/site-packages/librosa/core/audio.py:161: UserWarning: PySoundFile failed. Trying audioread instead.\n",
      "  warnings.warn('PySoundFile failed. Trying audioread instead.')\n"
     ]
    },
    {
     "name": "stdout",
     "output_type": "stream",
     "text": [
      "[youtube] 974TXFKtyls: Downloading webpage\n",
      "[youtube] 974TXFKtyls: Downloading video info webpage\n",
      "[download] Destination: JPEGMAFIA - Baby I'm Bleeding-974TXFKtyls.webm\n",
      "[download] 100% of 2.50MiB in 00:0147MiB/s ETA 00:002\n",
      "[ffmpeg] Destination: JPEGMAFIA - Baby I'm Bleeding-974TXFKtyls.mp3\n",
      "Deleting original file JPEGMAFIA - Baby I'm Bleeding-974TXFKtyls.webm (pass -k to keep)\n"
     ]
    },
    {
     "name": "stderr",
     "output_type": "stream",
     "text": [
      "/opt/anaconda3/envs/metis/lib/python3.7/site-packages/librosa/core/audio.py:161: UserWarning: PySoundFile failed. Trying audioread instead.\n",
      "  warnings.warn('PySoundFile failed. Trying audioread instead.')\n"
     ]
    },
    {
     "name": "stdout",
     "output_type": "stream",
     "text": [
      "[youtube] beXeYGXqJRQ: Downloading webpage\n",
      "[youtube] beXeYGXqJRQ: Downloading video info webpage\n",
      "[download] Destination: JPEGMAFIA - Covered In Money!-beXeYGXqJRQ.webm\n",
      "[download] 100% of 3.72MiB in 00:0198MiB/s ETA 00:004\n",
      "[ffmpeg] Destination: JPEGMAFIA - Covered In Money!-beXeYGXqJRQ.mp3\n",
      "Deleting original file JPEGMAFIA - Covered In Money!-beXeYGXqJRQ.webm (pass -k to keep)\n"
     ]
    },
    {
     "name": "stderr",
     "output_type": "stream",
     "text": [
      "/opt/anaconda3/envs/metis/lib/python3.7/site-packages/librosa/core/audio.py:161: UserWarning: PySoundFile failed. Trying audioread instead.\n",
      "  warnings.warn('PySoundFile failed. Trying audioread instead.')\n"
     ]
    },
    {
     "name": "stdout",
     "output_type": "stream",
     "text": [
      "[youtube] 7i-B9rH2k4k: Downloading webpage\n",
      "[youtube] 7i-B9rH2k4k: Downloading video info webpage\n",
      "[download] Destination: JPEGMAFIA x Kenny Beats - Puff Daddy-7i-B9rH2k4k.webm\n",
      "[download] 100% of 2.12MiB in 00:0028MiB/s ETA 00:002\n",
      "[ffmpeg] Destination: JPEGMAFIA x Kenny Beats - Puff Daddy-7i-B9rH2k4k.mp3\n",
      "Deleting original file JPEGMAFIA x Kenny Beats - Puff Daddy-7i-B9rH2k4k.webm (pass -k to keep)\n"
     ]
    },
    {
     "name": "stderr",
     "output_type": "stream",
     "text": [
      "/opt/anaconda3/envs/metis/lib/python3.7/site-packages/librosa/core/audio.py:161: UserWarning: PySoundFile failed. Trying audioread instead.\n",
      "  warnings.warn('PySoundFile failed. Trying audioread instead.')\n"
     ]
    },
    {
     "name": "stdout",
     "output_type": "stream",
     "text": [
      "[youtube] DdJbW8sKa9M: Downloading webpage\n",
      "[youtube] DdJbW8sKa9M: Downloading video info webpage\n",
      "[download] Destination: Flume - How To Build A Relationship (feat. JPEGMAFIA)-DdJbW8sKa9M.webm\n",
      "[download] 100% of 2.80MiB in 00:0151MiB/s ETA 00:003\n",
      "[ffmpeg] Destination: Flume - How To Build A Relationship (feat. JPEGMAFIA)-DdJbW8sKa9M.mp3\n",
      "Deleting original file Flume - How To Build A Relationship (feat. JPEGMAFIA)-DdJbW8sKa9M.webm (pass -k to keep)\n"
     ]
    },
    {
     "name": "stderr",
     "output_type": "stream",
     "text": [
      "/opt/anaconda3/envs/metis/lib/python3.7/site-packages/librosa/core/audio.py:161: UserWarning: PySoundFile failed. Trying audioread instead.\n",
      "  warnings.warn('PySoundFile failed. Trying audioread instead.')\n"
     ]
    },
    {
     "name": "stdout",
     "output_type": "stream",
     "text": [
      "[youtube] S_dkoy38VIw: Downloading webpage\n",
      "[youtube] S_dkoy38VIw: Downloading video info webpage\n",
      "[download] Destination: Does This Ski Mask Make Me Look Fat (feat. Heno.)-S_dkoy38VIw.webm\n",
      "[download] 100% of 5.23MiB in 00:0123MiB/s ETA 00:006\n",
      "[ffmpeg] Destination: Does This Ski Mask Make Me Look Fat (feat. Heno.)-S_dkoy38VIw.mp3\n",
      "Deleting original file Does This Ski Mask Make Me Look Fat (feat. Heno.)-S_dkoy38VIw.webm (pass -k to keep)\n"
     ]
    },
    {
     "name": "stderr",
     "output_type": "stream",
     "text": [
      "/opt/anaconda3/envs/metis/lib/python3.7/site-packages/librosa/core/audio.py:161: UserWarning: PySoundFile failed. Trying audioread instead.\n",
      "  warnings.warn('PySoundFile failed. Trying audioread instead.')\n"
     ]
    },
    {
     "name": "stdout",
     "output_type": "stream",
     "text": [
      "[youtube] BGIojhFZJ78: Downloading webpage\n",
      "[youtube] BGIojhFZJ78: Downloading video info webpage\n",
      "[download] Destination: Channel Tres - Black Moses feat JPEGMAFIA-BGIojhFZJ78.webm\n",
      "[download] 100% of 4.23MiB in 00:0118MiB/s ETA 00:006\n",
      "[ffmpeg] Destination: Channel Tres - Black Moses feat JPEGMAFIA-BGIojhFZJ78.mp3\n",
      "Deleting original file Channel Tres - Black Moses feat JPEGMAFIA-BGIojhFZJ78.webm (pass -k to keep)\n"
     ]
    },
    {
     "name": "stderr",
     "output_type": "stream",
     "text": [
      "/opt/anaconda3/envs/metis/lib/python3.7/site-packages/librosa/core/audio.py:161: UserWarning: PySoundFile failed. Trying audioread instead.\n",
      "  warnings.warn('PySoundFile failed. Trying audioread instead.')\n"
     ]
    }
   ],
   "source": [
    "train = func.get_data_pitchfork(artists, cid, secret)"
   ]
  },
  {
   "cell_type": "code",
   "execution_count": null,
   "metadata": {},
   "outputs": [],
   "source": [
    "train.to_csv('pitchfork_data.csv', index=False)"
   ]
  }
 ],
 "metadata": {
  "kernelspec": {
   "display_name": "Python [conda env:metis] *",
   "language": "python",
   "name": "conda-env-metis-py"
  },
  "language_info": {
   "codemirror_mode": {
    "name": "ipython",
    "version": 3
   },
   "file_extension": ".py",
   "mimetype": "text/x-python",
   "name": "python",
   "nbconvert_exporter": "python",
   "pygments_lexer": "ipython3",
   "version": "3.7.4"
  }
 },
 "nbformat": 4,
 "nbformat_minor": 2
}
